{
 "cells": [
  {
   "cell_type": "markdown",
   "metadata": {},
   "source": [
    "# Lists in Python\n",
    "\n",
    "The list is the most versatile data type available in Python which can be written as a list of comma-separated values (items) between square brackets. Lists are created by separating values that are in square brackets. Lists are Python data structures which are mutable ordered sequences of elements. Each element in the list has a value called an item.\n",
    "\n",
    "Lists are Python’s most flexible ordered collection (sequence) object type. Lists can contain any sort of object; numbers, strings and even other lists. Lists can contain another list called a `nested list`. The elements used in lists can be changed. This means lists can be mutated, unlike tuples or strings. They are mainly defined by having values inside brackets."
   ]
  },
  {
   "cell_type": "code",
   "execution_count": 4,
   "metadata": {},
   "outputs": [
    {
     "name": "stdout",
     "output_type": "stream",
     "text": [
      "['Sunday', 'Monday', 'Friday']\n"
     ]
    }
   ],
   "source": [
    "# Example of a List \n",
    "week_day = [\"Sunday\", \"Monday\", \"Friday\"]\n",
    "print(week_day)"
   ]
  },
  {
   "cell_type": "markdown",
   "metadata": {},
   "source": [
    "Lists are used in Python where programmers need to work with many related values. They help in condensing the code by keeping the related data together hence allowing the programmer to perform the same functions and operations on multiple values at once. Each item in the list corresponds to a given index number. The index is an integer value starting from `0`. An example of a list is given below:"
   ]
  },
  {
   "cell_type": "code",
   "execution_count": 5,
   "metadata": {},
   "outputs": [
    {
     "name": "stdout",
     "output_type": "stream",
     "text": [
      "['on', 'the', 'earth']\n"
     ]
    }
   ],
   "source": [
    "a = [100, \"bottles\", [\"on\", \"the\", \"earth\"]]\n",
    "print(a[2])"
   ]
  },
  {
   "cell_type": "markdown",
   "metadata": {},
   "source": [
    "Lists can also be used for negative indexing."
   ]
  },
  {
   "cell_type": "code",
   "execution_count": 6,
   "metadata": {},
   "outputs": [
    {
     "name": "stdout",
     "output_type": "stream",
     "text": [
      "['on', 'the', 'earth']\n"
     ]
    }
   ],
   "source": [
    "print(a[-1])"
   ]
  },
  {
   "cell_type": "markdown",
   "metadata": {},
   "source": [
    "## Creation of List\n",
    "\n",
    "The creation of lists is done by placing strings between brackets and separating them with commas. This is done by adding a name just before the brackets."
   ]
  },
  {
   "cell_type": "code",
   "execution_count": 7,
   "metadata": {},
   "outputs": [],
   "source": [
    "# this is a list that is referenced using the name list_items\n",
    "\n",
    "list_items = ['mango', 'juice', 'banana', 'tree', 'house', 'toy', 'cow', 'horse']"
   ]
  },
  {
   "cell_type": "markdown",
   "metadata": {},
   "source": [
    "```{Note}\n",
    "There are several ways to create a list:\n",
    "\n",
    "- creates an empty list: `[]`\n",
    "- Using the `list()` function: `list()`"
   ]
  },
  {
   "cell_type": "markdown",
   "metadata": {},
   "source": [
    "To retrieve a list, there are two important elements are used. These elements are the name of the list and the position of the item in the list. It is important to note that the positioning of the items would start from a `zero`."
   ]
  },
  {
   "cell_type": "code",
   "execution_count": 8,
   "metadata": {},
   "outputs": [
    {
     "name": "stdout",
     "output_type": "stream",
     "text": [
      "mango\n"
     ]
    }
   ],
   "source": [
    "print(list_items[0])"
   ]
  },
  {
   "cell_type": "markdown",
   "metadata": {},
   "source": [
    "We can add, remove or sort for items in a list."
   ]
  },
  {
   "cell_type": "code",
   "execution_count": 9,
   "metadata": {},
   "outputs": [
    {
     "name": "stdout",
     "output_type": "stream",
     "text": [
      "I have 4 fruits to buy.\n"
     ]
    }
   ],
   "source": [
    "fruit_list = ['apple', 'mango', 'carrot', 'banana']\n",
    "print('I have', len(fruit_list), 'fruits to buy.')"
   ]
  },
  {
   "cell_type": "code",
   "execution_count": 10,
   "metadata": {},
   "outputs": [
    {
     "name": "stdout",
     "output_type": "stream",
     "text": [
      "['apple', 'mango', 'carrot', 'banana', 'rice']\n"
     ]
    }
   ],
   "source": [
    "# Add an item to a list\n",
    "fruit_list.append('rice')\n",
    "print(fruit_list)"
   ]
  },
  {
   "cell_type": "code",
   "execution_count": 11,
   "metadata": {},
   "outputs": [
    {
     "name": "stdout",
     "output_type": "stream",
     "text": [
      "['apple', 'banana', 'carrot', 'mango', 'rice']\n"
     ]
    }
   ],
   "source": [
    "# sort a list\n",
    "fruit_list.sort()\n",
    "print(fruit_list)"
   ]
  },
  {
   "cell_type": "markdown",
   "metadata": {},
   "source": [
    "Elements in a list have the following characteristics:\n",
    "\n",
    "- They are accessed via indices.\n",
    "- They maintain their ordering unless explicitly re-ordered.\n",
    "- They can be of any type, and types can be mixed."
   ]
  },
  {
   "cell_type": "markdown",
   "metadata": {},
   "source": [
    "## List Slicing\n",
    "\n",
    "List slicing is a technique in python that helps read a list and return a specific segment of a list. The most important elements in list slicing are the full colons and negative signs. The name of the list is also an element that is used in the construction of a slicing statement. The example below shows how to list slicing is done in a single word."
   ]
  },
  {
   "cell_type": "code",
   "execution_count": 12,
   "metadata": {},
   "outputs": [
    {
     "name": "stdout",
     "output_type": "stream",
     "text": [
      "5\n",
      "rice\n",
      "banana\n",
      "['mango', 'carrot']\n",
      "['mango', 'carrot', 'banana', 'rice']\n"
     ]
    }
   ],
   "source": [
    "fruit_list = ['apple', 'mango', 'carrot', 'banana', 'rice']\n",
    "print(len(fruit_list))\n",
    "print(fruit_list[-1]) # 1st item from the end\n",
    "print(fruit_list[-2]) # 2nd item from the end\n",
    "print(fruit_list[1:3]) # index 3 not included\n",
    "print(fruit_list[1:]) # until the end"
   ]
  },
  {
   "cell_type": "markdown",
   "metadata": {},
   "source": [
    "## List Function and Method\n",
    "\n",
    "Lists have a few functions/method that are used to control and edit the data stored in a list.\n",
    "\n",
    "- `.append()`\n",
    "\n",
    "This method gives the chance to add an item/element to an existing list."
   ]
  },
  {
   "cell_type": "code",
   "execution_count": 13,
   "metadata": {},
   "outputs": [
    {
     "name": "stdout",
     "output_type": "stream",
     "text": [
      "['mango', 'banana', 'orange', 'apple']\n",
      "['mango', 'banana', 'orange', 'apple', 'grapes']\n"
     ]
    }
   ],
   "source": [
    "fruit_name = [\"mango\", \"banana\", \"orange\", \"apple\"]\n",
    "print(fruit_name)\n",
    "fruit_name.append(\"grapes\")\n",
    "print(fruit_name)"
   ]
  },
  {
   "cell_type": "markdown",
   "metadata": {},
   "source": [
    "- `.insert()`\n",
    "\n",
    "This function works the same as the function append but is more specific to the position at which the new item will appear in the existing list."
   ]
  },
  {
   "cell_type": "code",
   "execution_count": 14,
   "metadata": {},
   "outputs": [
    {
     "name": "stdout",
     "output_type": "stream",
     "text": [
      "['mango', 'banana', 'orange', 'apple']\n",
      "['mango', 'banana', 'grapes', 'orange', 'apple']\n"
     ]
    }
   ],
   "source": [
    "fruit_name = [\"mango\", \"banana\", \"orange\", \"apple\"]\n",
    "print(fruit_name)\n",
    "fruit_name.insert(2, \"grapes\")\n",
    "print(fruit_name)"
   ]
  },
  {
   "cell_type": "markdown",
   "metadata": {},
   "source": [
    "- `remove() & pop()`\n",
    "\n",
    "This is used to delete an item from the list. Its syntax is the same as those of the other functions. When an item appears more than once in the list, the command `remove()` will only delete the item that appears the first in the list."
   ]
  },
  {
   "cell_type": "code",
   "execution_count": 15,
   "metadata": {},
   "outputs": [
    {
     "name": "stdout",
     "output_type": "stream",
     "text": [
      "['mango', 'orange', 'banana', 'orange', 'apple']\n",
      "['mango', 'banana', 'orange', 'apple']\n"
     ]
    }
   ],
   "source": [
    "fruit_name = [\"mango\", \"orange\", \"banana\", \"orange\", \"apple\"]\n",
    "print(fruit_name)\n",
    "fruit_name.remove(\"orange\")\n",
    "print(fruit_name)"
   ]
  },
  {
   "cell_type": "markdown",
   "metadata": {},
   "source": [
    "If the command mentions an item that is not on the list, the functions will return an error which will indicate that the item is not on the list."
   ]
  },
  {
   "cell_type": "code",
   "execution_count": 16,
   "metadata": {},
   "outputs": [
    {
     "name": "stdout",
     "output_type": "stream",
     "text": [
      "['mango', 'orange', 'banana', 'orange', 'apple']\n"
     ]
    },
    {
     "ename": "ValueError",
     "evalue": "list.remove(x): x not in list",
     "output_type": "error",
     "traceback": [
      "\u001b[1;31m---------------------------------------------------------------------------\u001b[0m",
      "\u001b[1;31mValueError\u001b[0m                                Traceback (most recent call last)",
      "Cell \u001b[1;32mIn [16], line 3\u001b[0m\n\u001b[0;32m      1\u001b[0m fruit_name \u001b[39m=\u001b[39m [\u001b[39m\"\u001b[39m\u001b[39mmango\u001b[39m\u001b[39m\"\u001b[39m, \u001b[39m\"\u001b[39m\u001b[39morange\u001b[39m\u001b[39m\"\u001b[39m, \u001b[39m\"\u001b[39m\u001b[39mbanana\u001b[39m\u001b[39m\"\u001b[39m, \u001b[39m\"\u001b[39m\u001b[39morange\u001b[39m\u001b[39m\"\u001b[39m, \u001b[39m\"\u001b[39m\u001b[39mapple\u001b[39m\u001b[39m\"\u001b[39m]\n\u001b[0;32m      2\u001b[0m \u001b[39mprint\u001b[39m(fruit_name)\n\u001b[1;32m----> 3\u001b[0m fruit_name\u001b[39m.\u001b[39;49mremove(\u001b[39m\"\u001b[39;49m\u001b[39mtomato\u001b[39;49m\u001b[39m\"\u001b[39;49m)\n\u001b[0;32m      4\u001b[0m \u001b[39mprint\u001b[39m(fruit_name)\n",
      "\u001b[1;31mValueError\u001b[0m: list.remove(x): x not in list"
     ]
    }
   ],
   "source": [
    "fruit_name = [\"mango\", \"orange\", \"banana\", \"orange\", \"apple\"]\n",
    "print(fruit_name)\n",
    "fruit_name.remove(\"tomato\")\n",
    "print(fruit_name)"
   ]
  },
  {
   "cell_type": "markdown",
   "metadata": {},
   "source": [
    "To remove an item by position, the function `pop()` is used. When the method `pop()` is called without specifying the position, the last item is deleted. When this method is used, an item is deleted and the function returns the item that was deleted."
   ]
  },
  {
   "cell_type": "code",
   "execution_count": 17,
   "metadata": {},
   "outputs": [
    {
     "data": {
      "text/plain": [
       "'apple'"
      ]
     },
     "execution_count": 17,
     "metadata": {},
     "output_type": "execute_result"
    }
   ],
   "source": [
    "fruit_name = [\"mango\", \"orange\", \"banana\", \"orange\", \"apple\"]\n",
    "fruit_name.pop()  # last item will pop"
   ]
  },
  {
   "cell_type": "code",
   "execution_count": 18,
   "metadata": {},
   "outputs": [
    {
     "data": {
      "text/plain": [
       "'banana'"
      ]
     },
     "execution_count": 18,
     "metadata": {},
     "output_type": "execute_result"
    }
   ],
   "source": [
    "fruit_name = [\"mango\", \"orange\", \"banana\", \"orange\", \"apple\"]\n",
    "fruit_name.pop(2)  # index 2 at number 3rd position will pop"
   ]
  },
  {
   "cell_type": "markdown",
   "metadata": {},
   "source": [
    "- `extend()`\n",
    "\n",
    "This method is used to add a list to another list. This method is different from append as it deals with joining of two lists. The method joins two lists by adding the second list to the end of the first list as shown in the example below."
   ]
  },
  {
   "cell_type": "code",
   "execution_count": null,
   "metadata": {},
   "outputs": [
    {
     "name": "stdout",
     "output_type": "stream",
     "text": [
      "[1, 2, 3, 4, 5]\n"
     ]
    }
   ],
   "source": [
    "list1 = [1, 2, 3]\n",
    "list1.extend([4, 5])\n",
    "print(list1)"
   ]
  },
  {
   "cell_type": "markdown",
   "metadata": {},
   "source": [
    "To check attribute (method) of an object see {ref}`dir() syntax`."
   ]
  },
  {
   "cell_type": "markdown",
   "metadata": {},
   "source": [
    "```{seealso}\n",
    "- [More on Lists](https://docs.python.org/3/tutorial/datastructures.html#more-on-lists). Methods of list objects.\n",
    "```"
   ]
  },
  {
   "cell_type": "markdown",
   "metadata": {},
   "source": [
    "## [The `del` statement](https://docs.python.org/3/tutorial/datastructures.html#the-del-statement)\n",
    "\n",
    "There is a way to remove an item from a list given its index instead of its value: the `del` statement. This differs from the `pop()` method which returns a value."
   ]
  },
  {
   "cell_type": "code",
   "execution_count": 19,
   "metadata": {},
   "outputs": [
    {
     "name": "stdout",
     "output_type": "stream",
     "text": [
      "['mango', 'carrot', 'banana', 'rice']\n"
     ]
    }
   ],
   "source": [
    "# remove an item from list\n",
    "del fruit_list[0]\n",
    "print(fruit_list)"
   ]
  }
 ],
 "metadata": {
  "kernelspec": {
   "display_name": "Python 3.10.7 64-bit",
   "language": "python",
   "name": "python3"
  },
  "language_info": {
   "codemirror_mode": {
    "name": "ipython",
    "version": 3
   },
   "file_extension": ".py",
   "mimetype": "text/x-python",
   "name": "python",
   "nbconvert_exporter": "python",
   "pygments_lexer": "ipython3",
   "version": "3.10.7"
  },
  "orig_nbformat": 4,
  "vscode": {
   "interpreter": {
    "hash": "ea928f5d67c4c93314bde902f9925b00b35f33a7a7fd46f2f8b2a0108e4de065"
   }
  }
 },
 "nbformat": 4,
 "nbformat_minor": 2
}
