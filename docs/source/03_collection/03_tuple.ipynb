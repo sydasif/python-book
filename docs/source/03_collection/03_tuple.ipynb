{
 "cells": [
  {
   "cell_type": "markdown",
   "metadata": {},
   "source": [
    "# Tuple in Python\n",
    "\n",
    "A tuple is a list of items enclosed in parenthesis, a tuple is said to be immutable (can't be changed) and more\n",
    "efficient. A tuple is data structures that help in the organization of data in python. Since lists do the same organization as a tuple, it can be hard to differentiate between the two. The main difference, however, is that once\n",
    "tuple have been created, they are hard to change. The main difference between tuples and lists is that, tuples are immutable while lists aren’t."
   ]
  },
  {
   "cell_type": "code",
   "execution_count": 9,
   "metadata": {},
   "outputs": [
    {
     "name": "stdout",
     "output_type": "stream",
     "text": [
      "('dog', 'lion', 'leopard', 'cat', 'bear')\n"
     ]
    }
   ],
   "source": [
    "animal = (\"dog\", \"lion\", \"leopard\", \"cat\", \"bear\")\n",
    "print(animal)"
   ]
  },
  {
   "cell_type": "markdown",
   "metadata": {},
   "source": [
    "## Creating Tuples\n",
    "\n",
    "You can create tuples in different ways, as above one of the simplest methods to create a tuple is to have a sequence of values separated by commas. Those values could be integers, lists, dictionaries, or any other object.\n",
    "\n",
    "However, parentheses by themselves do not make a tuple:"
   ]
  },
  {
   "cell_type": "code",
   "execution_count": 10,
   "metadata": {},
   "outputs": [
    {
     "name": "stdout",
     "output_type": "stream",
     "text": [
      "<class 'int'>\n",
      "<class 'tuple'>\n"
     ]
    }
   ],
   "source": [
    "# this is integer\n",
    "num_tup = (3)\n",
    "print(type(num_tup))\n",
    "\n",
    "# this is tuple\n",
    "a_tuple = 4,\n",
    "print(type(a_tuple))"
   ]
  },
  {
   "cell_type": "markdown",
   "metadata": {},
   "source": [
    "Only using a commas might be ambiguous, always use parentheses to make it explicit."
   ]
  },
  {
   "cell_type": "code",
   "execution_count": 11,
   "metadata": {},
   "outputs": [
    {
     "name": "stdout",
     "output_type": "stream",
     "text": [
      "<class 'tuple'>\n"
     ]
    }
   ],
   "source": [
    "# Note the trailing comma\n",
    "a_tuple = (4,)\n",
    "print(type(a_tuple))"
   ]
  },
  {
   "cell_type": "markdown",
   "metadata": {},
   "source": [
    "```{Note}\n",
    "You can also create a tuple using the `tuple()` function.\n",
    "```"
   ]
  },
  {
   "cell_type": "markdown",
   "metadata": {},
   "source": [
    "## Tuple Method\n",
    "\n",
    "There are not many ways to work with tuples due to the fact that they are immutable. If you were to run `dir(tuple())`, you would find that tuples have only two methods:\n",
    "\n",
    "- count()\n",
    "- index()\n",
    "\n",
    "You can use `count()` to find out how many elements match the value that you pass in."
   ]
  },
  {
   "cell_type": "code",
   "execution_count": 12,
   "metadata": {},
   "outputs": [
    {
     "name": "stdout",
     "output_type": "stream",
     "text": [
      "2\n"
     ]
    }
   ],
   "source": [
    "num_tup = (1, 2, 3, 4, 4,)\n",
    "print(num_tup.count(4))"
   ]
  },
  {
   "cell_type": "markdown",
   "metadata": {},
   "source": [
    "Index in Tuple is used to find a specific element, as previously discussed in lists, tuple indexing also start with `zero`. This means that the first items position is `0` and the second is `1`."
   ]
  },
  {
   "cell_type": "code",
   "execution_count": 13,
   "metadata": {},
   "outputs": [
    {
     "name": "stdout",
     "output_type": "stream",
     "text": [
      "dog\n"
     ]
    }
   ],
   "source": [
    "animal = (\"dog\", \"lion\", \"leopard\", \"cat\", \"bear\")\n",
    "print(animal[0])  # print at index 0"
   ]
  },
  {
   "cell_type": "markdown",
   "metadata": {},
   "source": [
    "If we modify an element in tuple, this cause a `TypeError` to be raised because tuples are immutable and cannot be changed."
   ]
  },
  {
   "cell_type": "code",
   "execution_count": 15,
   "metadata": {},
   "outputs": [
    {
     "ename": "TypeError",
     "evalue": "'tuple' object does not support item assignment",
     "output_type": "error",
     "traceback": [
      "\u001b[1;31m---------------------------------------------------------------------------\u001b[0m",
      "\u001b[1;31mTypeError\u001b[0m                                 Traceback (most recent call last)",
      "Cell \u001b[1;32mIn [15], line 1\u001b[0m\n\u001b[1;32m----> 1\u001b[0m animal[\u001b[39m0\u001b[39;49m] \u001b[39m=\u001b[39m \u001b[39m\"\u001b[39m\u001b[39mhorse\u001b[39m\u001b[39m\"\u001b[39m\n",
      "\u001b[1;31mTypeError\u001b[0m: 'tuple' object does not support item assignment"
     ]
    }
   ],
   "source": [
    "animal[0] = \"horse\""
   ]
  },
  {
   "cell_type": "markdown",
   "metadata": {},
   "source": [
    "## Concatenating Tuples\n",
    "\n",
    "Tuples can be joined together, in programming this is called “concatenation”. However, concatenation will end up creating a new tuple."
   ]
  },
  {
   "cell_type": "code",
   "execution_count": 17,
   "metadata": {},
   "outputs": [
    {
     "name": "stdout",
     "output_type": "stream",
     "text": [
      "(4, 'dog', 'lion', 'leopard', 'cat', 'bear')\n"
     ]
    }
   ],
   "source": [
    "print(a_tuple + animal)"
   ]
  },
  {
   "cell_type": "markdown",
   "metadata": {},
   "source": [
    "## Slicing in Tuples\n",
    "\n",
    "Slicing function is used to obtain part of the tuple. The main elements used in slicing is the index and the slicing operator `:` the example below explains how slicing is done with tuples."
   ]
  },
  {
   "cell_type": "code",
   "execution_count": 14,
   "metadata": {},
   "outputs": [
    {
     "name": "stdout",
     "output_type": "stream",
     "text": [
      "('leopard', 'cat', 'bear')\n",
      "('dog', 'lion')\n"
     ]
    }
   ],
   "source": [
    "print(animal[2:])  # print index 2 and onward\n",
    "print(animal[:2])  # print before index 2"
   ]
  },
  {
   "cell_type": "markdown",
   "metadata": {},
   "source": [
    "## Differences between Tuples and Lists\n",
    "\n",
    "The difference between a list and a tuple is that lists are mutable while the tuples are immutable. Due to this tuples are simpler, they never change and don’t have any of the useful properties found in lists that make working with lists so powerful."
   ]
  }
 ],
 "metadata": {
  "kernelspec": {
   "display_name": "Python 3.10.7 64-bit",
   "language": "python",
   "name": "python3"
  },
  "language_info": {
   "codemirror_mode": {
    "name": "ipython",
    "version": 3
   },
   "file_extension": ".py",
   "mimetype": "text/x-python",
   "name": "python",
   "nbconvert_exporter": "python",
   "pygments_lexer": "ipython3",
   "version": "3.10.7"
  },
  "orig_nbformat": 4,
  "vscode": {
   "interpreter": {
    "hash": "ea928f5d67c4c93314bde902f9925b00b35f33a7a7fd46f2f8b2a0108e4de065"
   }
  }
 },
 "nbformat": 4,
 "nbformat_minor": 2
}
