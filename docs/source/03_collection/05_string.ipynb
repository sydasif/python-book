{
 "cells": [
  {
   "cell_type": "markdown",
   "metadata": {},
   "source": [
    "# Strings in Python\n",
    "\n",
    "String are a collection of characters/letters, in other terms characters are simple letters and symbols that are used to construct a string and character include alphanumeric letters, numbers and white space.\n",
    "\n",
    "In Python, strings are written and enclosed between either single or double quotes. Once a string variable has been created and declared, it is impossible to change its values, unless a new string is created. Assigning a string to a variable is done with the variable name followed by an equal sign `=` and the string."
   ]
  },
  {
   "cell_type": "code",
   "execution_count": 20,
   "metadata": {},
   "outputs": [
    {
     "name": "stdout",
     "output_type": "stream",
     "text": [
      "Ali\n"
     ]
    }
   ],
   "source": [
    "name = 'Ali'\n",
    "print(name)"
   ]
  },
  {
   "cell_type": "markdown",
   "metadata": {},
   "source": [
    "Using triple quotes allows, to create multi-line strings. Any whitespace within the string will also be included."
   ]
  },
  {
   "cell_type": "code",
   "execution_count": 21,
   "metadata": {},
   "outputs": [
    {
     "name": "stdout",
     "output_type": "stream",
     "text": [
      "multi-line\n",
      "string\n"
     ]
    }
   ],
   "source": [
    "triple = \"\"\"multi-line\n",
    "string\"\"\"\n",
    "print(triple)"
   ]
  },
  {
   "cell_type": "markdown",
   "metadata": {},
   "source": [
    "## String Slicing\n",
    "\n",
    "There are various ways of manipulating a string using the slicing method, works as the same way that it does for list."
   ]
  },
  {
   "cell_type": "code",
   "execution_count": 22,
   "metadata": {},
   "outputs": [
    {
     "name": "stdout",
     "output_type": "stream",
     "text": [
      "Hello,\n",
      "Hello,\n",
      "Hello, World\n"
     ]
    }
   ],
   "source": [
    "greeting = \"Hello, World!\"\n",
    "print(greeting[0:6])\n",
    "print(greeting[:6])\n",
    "print(greeting[:-1])"
   ]
  },
  {
   "cell_type": "markdown",
   "metadata": {},
   "source": [
    "## String Concatenation\n",
    "\n",
    "Strings allows concatenation, for joining two strings into one.\n",
    "\n",
    "### Addition\n",
    "\n",
    "This operator allows the user to put together two strings to come up with the third string."
   ]
  },
  {
   "cell_type": "code",
   "execution_count": 23,
   "metadata": {},
   "outputs": [
    {
     "name": "stdout",
     "output_type": "stream",
     "text": [
      "JohnAlex\n",
      "John Alex\n"
     ]
    }
   ],
   "source": [
    "first_name = \"John\"\n",
    "sec_name = \"Alex\"\n",
    "full_name = first_name + sec_name\n",
    "print(full_name)\n",
    "full_name = first_name + \" \" + sec_name\n",
    "print(full_name)"
   ]
  },
  {
   "cell_type": "markdown",
   "metadata": {},
   "source": [
    "### Repetition/Replication\n",
    "\n",
    "Repetition may seem a bit obscure at first, but it comes in handy in a surprising number of contexts. For example, to print a line of `80` dashes."
   ]
  },
  {
   "cell_type": "code",
   "execution_count": 24,
   "metadata": {},
   "outputs": [
    {
     "name": "stdout",
     "output_type": "stream",
     "text": [
      "------------------------------------------------------------\n"
     ]
    }
   ],
   "source": [
    "print(\"-\" * 60)"
   ]
  },
  {
   "cell_type": "markdown",
   "metadata": {},
   "source": [
    "## String Methods\n",
    "\n",
    "Python has a set of built-in methods that you can use on strings.\n",
    "\n",
    "```{Note}\n",
    "All string methods returns new values. They do not change the original string.\n",
    "```"
   ]
  },
  {
   "cell_type": "code",
   "execution_count": 25,
   "metadata": {},
   "outputs": [
    {
     "name": "stdout",
     "output_type": "stream",
     "text": [
      "SAMSUNG LTD\n",
      "samsung ltd\n",
      "False\n",
      "['Samsung', 'Ltd']\n"
     ]
    }
   ],
   "source": [
    "# used different methods .lower(), .upper(), .strip(), .isdigit()\n",
    "vendor = \"Samsung Ltd\"\n",
    "print(vendor.upper())\n",
    "print(vendor.lower())\n",
    "print(vendor.isdigit())\n",
    "print(vendor.split())"
   ]
  },
  {
   "cell_type": "markdown",
   "metadata": {},
   "source": [
    "You will find that the .strip() and .split() methods are especially useful when parsing or manipulating text from network device."
   ]
  },
  {
   "cell_type": "code",
   "execution_count": 26,
   "metadata": {},
   "outputs": [
    {
     "name": "stdout",
     "output_type": "stream",
     "text": [
      "['This', 'is', 'a', 'string']\n"
     ]
    }
   ],
   "source": [
    "my_string = 'This is a string'\n",
    "print(my_string.split())  # The result is a list"
   ]
  },
  {
   "cell_type": "markdown",
   "metadata": {},
   "source": [
    "To get a full listing of the methods and attributes that you can access, you can use Python’s built-in\n",
    "{ref}`dir() method`"
   ]
  },
  {
   "cell_type": "markdown",
   "metadata": {},
   "source": [
    "## Escape sequences\n",
    "\n",
    "There is a special characteristic that is understood by the compiler as commands other than characters. All these characters are known as the 'Escape Sequences'. The special characters are marked with a backslash `\\`. The backslash `\\` would, therefore, indicate that the character that is going to be printed next is a special one that should initiate some instructions. Below are the examples of special character that are used with strings:\n",
    "\n",
    "- `\\n` Newline\n",
    "- `\\t` Horizontal tab\n",
    "- `\\r` Carriage return\n",
    "- `\\b` Backslash"
   ]
  },
  {
   "cell_type": "markdown",
   "metadata": {},
   "source": [
    "## Raw Strings\n",
    "\n",
    "To avoid special processing on a string such as escape sequences. Specify a raw string by prefixing `r` or `R` to the string."
   ]
  },
  {
   "cell_type": "code",
   "execution_count": 27,
   "metadata": {},
   "outputs": [
    {
     "name": "stdout",
     "output_type": "stream",
     "text": [
      "newline is indicated by \\n.\n"
     ]
    }
   ],
   "source": [
    "string = r\"newline is indicated by \\n.\"\n",
    "print(string)"
   ]
  },
  {
   "cell_type": "markdown",
   "metadata": {},
   "source": [
    "## String formatting\n",
    "\n",
    "String formatting or string substitution is where you have a string that you would like to insert into another string.\n",
    "\n",
    "Python has three different ways to accomplish string formatting:\n",
    "\n",
    "- Using the `%` Method\n",
    "- Using `format()`\n",
    "- Using formatted string literals (`f-strings`)\n",
    "\n",
    "### Formattin string using `%`\n",
    "\n",
    "Using the `%` method is Python’s oldest method of string formatting. The most common use of using the % sign is when you would use `%s`, which means convert any Python object to a string using `str()`."
   ]
  },
  {
   "cell_type": "code",
   "execution_count": 28,
   "metadata": {},
   "outputs": [
    {
     "name": "stdout",
     "output_type": "stream",
     "text": [
      "My name is: Ali\n"
     ]
    }
   ],
   "source": [
    "# insert string\n",
    "name = \"Ali\"\n",
    "print(\"My name is: %s\" %name)"
   ]
  },
  {
   "cell_type": "code",
   "execution_count": 29,
   "metadata": {},
   "outputs": [
    {
     "name": "stdout",
     "output_type": "stream",
     "text": [
      "My age is: 40\n"
     ]
    }
   ],
   "source": [
    "# insert integer\n",
    "age = 40\n",
    "print(\"My age is: %i\" %age)"
   ]
  },
  {
   "cell_type": "code",
   "execution_count": 30,
   "metadata": {},
   "outputs": [
    {
     "name": "stdout",
     "output_type": "stream",
     "text": [
      "Hello, Ali. Your age is 40\n"
     ]
    }
   ],
   "source": [
    "# string formatting with multiple variables\n",
    "name = \"Ali\"\n",
    "age = 40\n",
    "print(\"Hello, %s. Your age is %i\" % (name, age))"
   ]
  },
  {
   "cell_type": "markdown",
   "metadata": {},
   "source": [
    "To pass in multiple items, you use the percent sign followed by a tuple of the items to insert.\n",
    "\n",
    "```{seealso}\n",
    "For more info see [website](https://docs.python.org/3/library/stdtypes.html#printf-style-string-formatting).\n",
    "```\n",
    "\n",
    "### Formatting string using `format()`\n",
    "\n",
    "The `format()` method formats the specified value(s) and insert them inside the string's placeholder. The placeholder is defined using curly brackets: `{}`. The `format()` method returns the formatted string."
   ]
  },
  {
   "cell_type": "code",
   "execution_count": 31,
   "metadata": {},
   "outputs": [
    {
     "name": "stdout",
     "output_type": "stream",
     "text": [
      "Hello, Ali. Your age is 40\n"
     ]
    }
   ],
   "source": [
    "name = \"Ali\"\n",
    "age = 40\n",
    "print(\"Hello, {}. Your age is {}\".format(name, age))"
   ]
  },
  {
   "cell_type": "markdown",
   "metadata": {},
   "source": [
    "This example uses positional arguments. Python looks for two instances of `{}` and will insert the variables accordingly."
   ]
  },
  {
   "cell_type": "code",
   "execution_count": 32,
   "metadata": {},
   "outputs": [
    {
     "name": "stdout",
     "output_type": "stream",
     "text": [
      "Hello, Ali. Your age is 40\n"
     ]
    }
   ],
   "source": [
    "# used named arguments\n",
    "name = \"Ali\"\n",
    "age = 40\n",
    "print(\"Hello, {my_name}. Your age is {my_age}\".format(my_name=name, my_age=age))"
   ]
  },
  {
   "cell_type": "code",
   "execution_count": 33,
   "metadata": {},
   "outputs": [
    {
     "name": "stdout",
     "output_type": "stream",
     "text": [
      "Hello, Ali. Your age is 40\n"
     ]
    }
   ],
   "source": [
    "# useing dict\n",
    "dict = {\"name\": \"Ali\", \"age\": 40}\n",
    "print(\"Hello, {name}. Your age is {age}\".format(**dict))"
   ]
  },
  {
   "cell_type": "markdown",
   "metadata": {},
   "source": [
    "A common coding style when working with `format()` is to create a formatted string and save it to a variable to be used later."
   ]
  },
  {
   "cell_type": "code",
   "execution_count": 34,
   "metadata": {},
   "outputs": [
    {
     "name": "stdout",
     "output_type": "stream",
     "text": [
      "Device: SW1\n",
      "IP: 10.1.1.1\n"
     ]
    }
   ],
   "source": [
    "ip = \"10.1.1.1\"\n",
    "device = \"SW1\"\n",
    "device_ip = \"\"\"Device: {device}\n",
    "IP: {ip}\"\"\"\n",
    "output = device_ip.format(device=device, ip=ip)\n",
    "print(output)"
   ]
  },
  {
   "cell_type": "markdown",
   "metadata": {},
   "source": [
    "```{seealso}\n",
    "For more info see python [doc](https://docs.python.org/3/library/string.html#formatstrings).\n",
    "```\n",
    "\n",
    "### Formatting Strings with `f-strings`\n",
    "\n",
    "Formatted string literals or `f-strings` are strings that have an `f` at the beginning and curly braces inside of them that contain expressions, much like the ones you saw in the previous section."
   ]
  },
  {
   "cell_type": "code",
   "execution_count": 35,
   "metadata": {},
   "outputs": [
    {
     "name": "stdout",
     "output_type": "stream",
     "text": [
      "Hello Alex, you are 20 years old\n"
     ]
    }
   ],
   "source": [
    "name = 'Alex'\n",
    "age = 20\n",
    "print(f'Hello {name}, you are {age} years old')"
   ]
  },
  {
   "cell_type": "markdown",
   "metadata": {},
   "source": [
    "The `f-string` can do things that neither `%s` nor `format()` can do. Because of the fact that `f-strings` are evaluated at runtime, you can put any valid Python expression inside of them."
   ]
  },
  {
   "cell_type": "code",
   "execution_count": 36,
   "metadata": {},
   "outputs": [
    {
     "name": "stdout",
     "output_type": "stream",
     "text": [
      "30\n"
     ]
    }
   ],
   "source": [
    "age = 25\n",
    "print(f\"{age + 5}\")"
   ]
  },
  {
   "cell_type": "code",
   "execution_count": 37,
   "metadata": {},
   "outputs": [
    {
     "name": "stdout",
     "output_type": "stream",
     "text": [
      "ali\n"
     ]
    }
   ],
   "source": [
    "# Or call a method or function:\n",
    "name = 'Ali'\n",
    "print(f'{name.lower()}')"
   ]
  },
  {
   "cell_type": "markdown",
   "metadata": {},
   "source": [
    "```{Note}\n",
    "The `f-string` was added in Python 3.6.\n",
    "```"
   ]
  },
  {
   "cell_type": "markdown",
   "metadata": {},
   "source": [
    "```{seealso}\n",
    "You can read more about it and how it works by checking out [PEP 498](https://www.python.org/dev/peps/pep-0498/).\n",
    "```"
   ]
  }
 ],
 "metadata": {
  "kernelspec": {
   "display_name": "Python 3.10.7 64-bit",
   "language": "python",
   "name": "python3"
  },
  "language_info": {
   "codemirror_mode": {
    "name": "ipython",
    "version": 3
   },
   "file_extension": ".py",
   "mimetype": "text/x-python",
   "name": "python",
   "nbconvert_exporter": "python",
   "pygments_lexer": "ipython3",
   "version": "3.10.7"
  },
  "orig_nbformat": 4,
  "vscode": {
   "interpreter": {
    "hash": "ea928f5d67c4c93314bde902f9925b00b35f33a7a7fd46f2f8b2a0108e4de065"
   }
  }
 },
 "nbformat": 4,
 "nbformat_minor": 2
}
