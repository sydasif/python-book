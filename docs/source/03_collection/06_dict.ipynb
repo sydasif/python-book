{
 "cells": [
  {
   "cell_type": "markdown",
   "metadata": {},
   "source": [
    "# Dictionaries in Python\n",
    "\n",
    "Dictionaries are used to store data values in `key-value` pairs. A dictionary is a collection which is ordered, changeable and does not allow a duplicate keys, any key of the dictionary is associated (or mapped) to a value. Keys within a dictionary are 'unique' and must be from immutable data types such as strings or numbers.\n",
    "\n",
    "```{Note}\n",
    "As of Python version 3.7, dictionaries are ordered. In Python 3.6 and earlier, dictionaries are unordered.\n",
    "```\n",
    "\n",
    "## Creating Dictionaries\n",
    "\n",
    "There are a couple of different ways, we can create a dictionary. The most common method is by placing a comma-separated list of `key: value` pairs within curly braces."
   ]
  },
  {
   "cell_type": "code",
   "execution_count": 31,
   "metadata": {},
   "outputs": [
    {
     "name": "stdout",
     "output_type": "stream",
     "text": [
      "{'brand': 'Ford', 'model': 'Mustang', 'year': 1992}\n"
     ]
    }
   ],
   "source": [
    "my_car = {\"brand\": \"Ford\",\"model\": \"Mustang\", \"year\": 1992}\n",
    "print(my_car)"
   ]
  },
  {
   "cell_type": "markdown",
   "metadata": {},
   "source": [
    "Python’s built-in `dict()` function can create a dictionary. A `dict()` function accept a series of keyword arguments `(1=\"one\", 2=\"two\")`, a list of tuples, or another dictionary."
   ]
  },
  {
   "cell_type": "code",
   "execution_count": 32,
   "metadata": {},
   "outputs": [
    {
     "name": "stdout",
     "output_type": "stream",
     "text": [
      "{'one': 1, 'two': 2, 'three': 3}\n",
      "{'first_name': 'Ali', 'last_name': 'Ahmed'}\n"
     ]
    }
   ],
   "source": [
    "numbers = dict(one=1, two=2, three=3)\n",
    "print(numbers)\n",
    "info_list = [('first_name', 'Ali'), ('last_name', 'Ahmed')]\n",
    "info_list = dict(info_list)\n",
    "print(info_list)"
   ]
  },
  {
   "cell_type": "markdown",
   "metadata": {},
   "source": [
    "Each `key` must be different in order to maintain uniqueness `i.e.` to get the correct information about a `value`.\n",
    "\n",
    "## Modification of dictionaries\n",
    "\n",
    "Dictionary elements can be created, accessed, modified or deleted. While a dictionary is created, its elements will contain a `key-value` pair to be accessed. You can also delete some values or delete a complete dictionary using `del` and `clear` respectively.\n",
    "\n",
    "### Accessing Dictionaries\n",
    "\n",
    "Dictionaries are very fast, can access any value in a dictionary via the key. If the key is not found, a `KeyError` will receive."
   ]
  },
  {
   "cell_type": "code",
   "execution_count": 33,
   "metadata": {},
   "outputs": [
    {
     "name": "stdout",
     "output_type": "stream",
     "text": [
      "Ford\n"
     ]
    }
   ],
   "source": [
    "my_car = {\"brand\": \"Ford\",\"model\": \"Mustang\", \"year\": 1992}\n",
    "print(my_car[\"brand\"])"
   ]
  },
  {
   "cell_type": "markdown",
   "metadata": {},
   "source": [
    "To add a new item to a dictionary, use the square braces to enter a new key and set it to a value."
   ]
  },
  {
   "cell_type": "code",
   "execution_count": 34,
   "metadata": {},
   "outputs": [
    {
     "name": "stdout",
     "output_type": "stream",
     "text": [
      "{'brand': 'Ford', 'model': 'Mustang', 'year': 2000}\n"
     ]
    }
   ],
   "source": [
    "my_car[\"year\"] = 2000\n",
    "print(my_car)"
   ]
  },
  {
   "cell_type": "markdown",
   "metadata": {},
   "source": [
    "Setting a pre-existing key to a new value, will overwrite the previous value."
   ]
  },
  {
   "cell_type": "code",
   "execution_count": 35,
   "metadata": {},
   "outputs": [
    {
     "name": "stdout",
     "output_type": "stream",
     "text": [
      "{'brand': 'Ford', 'model': 'Mustang', 'year': 2020}\n"
     ]
    }
   ],
   "source": [
    "my_car[\"year\"] = 2020\n",
    "print(my_car)"
   ]
  },
  {
   "cell_type": "markdown",
   "metadata": {},
   "source": [
    "Python’s `del` keyword remove the key-value."
   ]
  },
  {
   "cell_type": "code",
   "execution_count": 36,
   "metadata": {},
   "outputs": [
    {
     "name": "stdout",
     "output_type": "stream",
     "text": [
      "{'brand': 'Ford', 'model': 'Mustang'}\n"
     ]
    }
   ],
   "source": [
    "del my_car[\"year\"]\n",
    "print(my_car)"
   ]
  },
  {
   "cell_type": "markdown",
   "metadata": {},
   "source": [
    "The values in dictionary items can be of any data type"
   ]
  },
  {
   "cell_type": "code",
   "execution_count": 37,
   "metadata": {},
   "outputs": [
    {
     "name": "stdout",
     "output_type": "stream",
     "text": [
      "{'brand': 'Ford', 'model': 'Mustang', 'colors': ['black', 'red', 'blue']}\n"
     ]
    }
   ],
   "source": [
    "# Adding new key-value as list\n",
    "my_car[\"colors\"] = [\"black\", \"red\", \"blue\"]\n",
    "print(my_car)"
   ]
  },
  {
   "cell_type": "markdown",
   "metadata": {},
   "source": [
    "## Nested Dictionary\n",
    "\n",
    "A dictionary within a dictionary is called a nested dictionary. It accumulated multiple dictionaries into one. Each dictionary will have its own key-value pair."
   ]
  },
  {
   "cell_type": "code",
   "execution_count": 38,
   "metadata": {},
   "outputs": [
    {
     "name": "stdout",
     "output_type": "stream",
     "text": [
      "{'dad': 'mike', 'mom': 'carol'}\n",
      "{'youngest': 'Ali', 'middle': 'jan', 'oldest': 'saira'}\n",
      "carol\n",
      "jan\n"
     ]
    }
   ],
   "source": [
    "my_family = {\n",
    "    \"parents\": {'dad': 'mike', 'mom': 'carol'},\n",
    "    'kids': {'youngest': 'Ali', 'middle': 'jan', 'oldest': 'saira'}\n",
    "    }\n",
    "    \n",
    "print(my_family['parents'])\n",
    "print(my_family['kids'])\n",
    "print(my_family['parents'][\"mom\"])\n",
    "print(my_family['kids'][\"middle\"])"
   ]
  },
  {
   "cell_type": "markdown",
   "metadata": {},
   "source": [
    "```{Note}\n",
    "Dictionaries are lookup tables. They map from a `key` to a `value`.\n",
    "```"
   ]
  },
  {
   "cell_type": "markdown",
   "metadata": {},
   "source": [
    "## Dictionary Methods\n",
    "\n",
    "As the most data types in Python, dictionaries have also special methods to use.\n",
    "\n",
    "The `get()` method to get a value."
   ]
  },
  {
   "cell_type": "code",
   "execution_count": 39,
   "metadata": {},
   "outputs": [
    {
     "data": {
      "text/plain": [
       "'Mustang'"
      ]
     },
     "execution_count": 39,
     "metadata": {},
     "output_type": "execute_result"
    }
   ],
   "source": [
    "# If key not found, default None value will return \n",
    "my_car = {\"brand\": \"Ford\",\"model\": \"Mustang\",\"year\": 1992}\n",
    "my_car.get(\"model\")"
   ]
  },
  {
   "cell_type": "markdown",
   "metadata": {},
   "source": [
    "The `clear()` method used to remove all the items from the dictionary."
   ]
  },
  {
   "cell_type": "code",
   "execution_count": 40,
   "metadata": {},
   "outputs": [
    {
     "data": {
      "text/plain": [
       "{}"
      ]
     },
     "execution_count": 40,
     "metadata": {},
     "output_type": "execute_result"
    }
   ],
   "source": [
    "my_car = {\"brand\": \"Ford\",\"model\": \"Mustang\",\"year\": 1992}\n",
    "my_car.clear()\n",
    "my_car"
   ]
  },
  {
   "cell_type": "markdown",
   "metadata": {},
   "source": [
    "## Keys, values and items\n",
    "\n",
    "Tree maps show unique keys to values. Consider the code below:"
   ]
  },
  {
   "cell_type": "code",
   "execution_count": 41,
   "metadata": {},
   "outputs": [
    {
     "name": "stdout",
     "output_type": "stream",
     "text": [
      "dict_keys(['brand', 'model', 'year'])\n",
      "dict_values(['Ford', 'Mustang', 1992])\n",
      "dict_items([('brand', 'Ford'), ('model', 'Mustang'), ('year', 1992)])\n"
     ]
    }
   ],
   "source": [
    "my_car = {\"brand\": \"Ford\",\"model\": \"Mustang\",\"year\": 1992}\n",
    "print(my_car.keys())  # print keys\n",
    "print(my_car.values())  # print values\n",
    "print(my_car.items())  # print key-value pair"
   ]
  }
 ],
 "metadata": {
  "kernelspec": {
   "display_name": "Python 3.10.7 64-bit",
   "language": "python",
   "name": "python3"
  },
  "language_info": {
   "codemirror_mode": {
    "name": "ipython",
    "version": 3
   },
   "file_extension": ".py",
   "mimetype": "text/x-python",
   "name": "python",
   "nbconvert_exporter": "python",
   "pygments_lexer": "ipython3",
   "version": "3.10.7"
  },
  "orig_nbformat": 4,
  "vscode": {
   "interpreter": {
    "hash": "ea928f5d67c4c93314bde902f9925b00b35f33a7a7fd46f2f8b2a0108e4de065"
   }
  }
 },
 "nbformat": 4,
 "nbformat_minor": 2
}
