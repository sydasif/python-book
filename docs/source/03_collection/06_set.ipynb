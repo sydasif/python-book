{
 "cells": [
  {
   "cell_type": "markdown",
   "metadata": {},
   "source": [
    "# Sets in Python\n",
    "\n",
    "A set is a container of an unordered collection of 'unique' and immutable objects. A set is a collection which is unordered, unchangeable*, and unindexed, therefore, they do not support function including slicing, indexing and any other function that is associated with sequencing.\n",
    "\n",
    "Sets are used to store multiple items in a single variable.  Sets are a collection of data with no duplicates. They are very useful when it comes to removing duplicate data from data collections.\n",
    "\n",
    "Python sets can have different items of different data types such as float, integer, string or even tuple. Python set elements cannot be changed but can only be added or updated\n",
    "\n",
    "Elements/items in a set can, however, be removed from the set using the `discard()` or `remove()` functions from sets. The `discard()` function removes an item from the set and returns no error if such an item is not found. The `remove()` function, on the other hand, is used to remove an item from a list and raise an error if such an item is not found."
   ]
  },
  {
   "cell_type": "markdown",
   "metadata": {},
   "source": [
    "## Creating a Set\n",
    "\n",
    "In Python, sets are written with curly brackets or using the built-in Python function `set()`."
   ]
  },
  {
   "cell_type": "code",
   "execution_count": 13,
   "metadata": {},
   "outputs": [
    {
     "name": "stdout",
     "output_type": "stream",
     "text": [
      "{'apple', 'banana', 'cherry'}\n"
     ]
    }
   ],
   "source": [
    "# Sets are written with curly brackets\n",
    "fruit = {\"apple\", \"banana\", \"cherry\"}\n",
    "print(fruit)"
   ]
  },
  {
   "cell_type": "markdown",
   "metadata": {},
   "source": [
    "When we `print()` the set, duplicates were removed automatically."
   ]
  },
  {
   "cell_type": "code",
   "execution_count": 14,
   "metadata": {},
   "outputs": [
    {
     "name": "stdout",
     "output_type": "stream",
     "text": [
      "{'apple', 'banana', 'cherry'}\n"
     ]
    }
   ],
   "source": [
    "# Sets cannot have two items with the same value\n",
    "fruit = {\"apple\", \"banana\", \"cherry\", \"apple\"}\n",
    "print(fruit)"
   ]
  },
  {
   "cell_type": "markdown",
   "metadata": {},
   "source": [
    "## The set() Constructor\n",
    "\n",
    "It is also possible to use the `set()` constructor to make a set."
   ]
  },
  {
   "cell_type": "code",
   "execution_count": 15,
   "metadata": {},
   "outputs": [
    {
     "name": "stdout",
     "output_type": "stream",
     "text": [
      "{'apple', 'banana', 'cherry'}\n"
     ]
    }
   ],
   "source": [
    "fruit = set((\"apple\", \"banana\", \"cherry\"))\n",
    "print(fruit)"
   ]
  },
  {
   "cell_type": "markdown",
   "metadata": {},
   "source": [
    "## Set methods\n",
    "\n",
    "In set we cann't change a value. However, We can add, remove etc.\n",
    "\n",
    "### Adding Items\n",
    "\n",
    "There are two ways to add items to a set:\n",
    "\n",
    "- add()\n",
    "- update()\n"
   ]
  },
  {
   "cell_type": "code",
   "execution_count": 16,
   "metadata": {},
   "outputs": [
    {
     "name": "stdout",
     "output_type": "stream",
     "text": [
      "{40, 10, 50, 20, 30}\n"
     ]
    }
   ],
   "source": [
    "# add() adds an item to set\n",
    "set1 = {10,20,30,40}\n",
    "set1.add(50)\n",
    "print(set1)"
   ]
  },
  {
   "cell_type": "markdown",
   "metadata": {},
   "source": [
    "To add multiple items all at once, then we should use the `update()` method."
   ]
  },
  {
   "cell_type": "code",
   "execution_count": 1,
   "metadata": {},
   "outputs": [
    {
     "name": "stdout",
     "output_type": "stream",
     "text": [
      "{'d', 40, 10, 'f', 'e', 20, 30}\n"
     ]
    }
   ],
   "source": [
    "# update() will take any iterable\n",
    "my_set = {10,20,30,40}\n",
    "my_set.update(['d', 'e', 'f'])\n",
    "print(my_set)"
   ]
  },
  {
   "cell_type": "markdown",
   "metadata": {},
   "source": [
    "### Removing Items\n",
    "\n",
    "Removing items from sets have several different ways.\n",
    "\n",
    "You can use:\n",
    "\n",
    "- discard()\n",
    "- remove()\n",
    "- pop()"
   ]
  },
  {
   "cell_type": "code",
   "execution_count": 17,
   "metadata": {},
   "outputs": [
    {
     "name": "stdout",
     "output_type": "stream",
     "text": [
      "{50, 20, 40, 10, 30}\n",
      "{20, 40, 10, 30}\n"
     ]
    }
   ],
   "source": [
    "'''discard() allows deleting elements without showing \n",
    "an error if there is no element in set'''\n",
    "\n",
    "set1 = {10, 20, 30, 40, 50}\n",
    "set1.discard(55)\n",
    "print(set1)\n",
    "set1.discard(50)\n",
    "print(set1)"
   ]
  },
  {
   "cell_type": "markdown",
   "metadata": {},
   "source": [
    "The `remove()` method will remove the specified item from a set."
   ]
  },
  {
   "cell_type": "code",
   "execution_count": 2,
   "metadata": {},
   "outputs": [
    {
     "name": "stdout",
     "output_type": "stream",
     "text": [
      "{50, 20, 40, 10}\n"
     ]
    }
   ],
   "source": [
    "# remove() will create an error, if item does not exist\n",
    "set1 = {10, 20, 30, 40, 50}\n",
    "set1.remove(30)\n",
    "print(set1)"
   ]
  },
  {
   "cell_type": "markdown",
   "metadata": {},
   "source": [
    "The `pop()` method will remove and return an item from the set."
   ]
  },
  {
   "cell_type": "code",
   "execution_count": 5,
   "metadata": {},
   "outputs": [
    {
     "data": {
      "text/plain": [
       "'a'"
      ]
     },
     "execution_count": 5,
     "metadata": {},
     "output_type": "execute_result"
    }
   ],
   "source": [
    "my_set = {\"a\", \"b\", \"c\"}\n",
    "my_set.pop()"
   ]
  },
  {
   "cell_type": "markdown",
   "metadata": {},
   "source": [
    "If a set is empty, trying to pop() an item, will create an error. Lists are ordered while sets are not, so you can’t be sure what you\n",
    "will be removing with `pop()` since sets are not ordered."
   ]
  },
  {
   "cell_type": "markdown",
   "metadata": {},
   "source": [
    "## Operations with sets\n",
    "\n",
    "Sets are useful in performing different operations such as finding union of sets, intersection and so on.\n",
    "Union of sets can be obtained by `union` or operator `|`."
   ]
  },
  {
   "cell_type": "code",
   "execution_count": 11,
   "metadata": {},
   "outputs": [
    {
     "name": "stdout",
     "output_type": "stream",
     "text": [
      "{100, 101, 102, 200, 10, 50, 20, 30}\n",
      "-----------------------------------\n",
      "{100, 101, 102, 200, 10, 50, 20, 30}\n"
     ]
    }
   ],
   "source": [
    "# combines two or more sets together into a new set\n",
    "set_num1 = {10,20,30,50,100}\n",
    "set_num2 = {100,101,102,102,200}\n",
    "print(set_num1 | set_num2)\n",
    "print(\"-\" * 35)\n",
    "# to save the new set, then do the following\n",
    "set_num3 = set_num1.union(set_num2)\n",
    "print(set_num3)"
   ]
  },
  {
   "cell_type": "markdown",
   "metadata": {},
   "source": [
    "The `intersection()` method takes two sets and returns a new set that contains only the items that are the same in the both sets. Intersection of sets can be obtained by `intersection` or operator `&`."
   ]
  },
  {
   "cell_type": "code",
   "execution_count": 13,
   "metadata": {},
   "outputs": [
    {
     "name": "stdout",
     "output_type": "stream",
     "text": [
      "{100}\n",
      "-----\n",
      "{100}\n"
     ]
    }
   ],
   "source": [
    "# intersection(), it returns a new set\n",
    "set_num1 = {10,20,30,50,100}\n",
    "set_num2 = {100,101,102,102,200}\n",
    "set_num3 = set_num1.intersection(set_num2)\n",
    "print(set_num3)\n",
    "print(\"-\" * 5)\n",
    "print(set_num1 & set_num2)"
   ]
  },
  {
   "cell_type": "markdown",
   "metadata": {},
   "source": [
    "The `difference()` method will return a new set with the elements in the set that are not in the other set."
   ]
  },
  {
   "cell_type": "code",
   "execution_count": 27,
   "metadata": {},
   "outputs": [
    {
     "name": "stdout",
     "output_type": "stream",
     "text": [
      "{50, 10, 20, 30}\n",
      "---------------\n",
      "{200, 101, 102}\n"
     ]
    }
   ],
   "source": [
    "set_num1 = {10,20,30,50,100}\n",
    "set_num2 = {100,101,102,102,200}\n",
    "print(set_num1.difference(set_num2))\n",
    "print(\"-\" * 15)\n",
    "print(set_num2.difference(set_num1))"
   ]
  }
 ],
 "metadata": {
  "kernelspec": {
   "display_name": "Python 3.10.7 64-bit",
   "language": "python",
   "name": "python3"
  },
  "language_info": {
   "codemirror_mode": {
    "name": "ipython",
    "version": 3
   },
   "file_extension": ".py",
   "mimetype": "text/x-python",
   "name": "python",
   "nbconvert_exporter": "python",
   "pygments_lexer": "ipython3",
   "version": "3.10.7"
  },
  "orig_nbformat": 4,
  "vscode": {
   "interpreter": {
    "hash": "ea928f5d67c4c93314bde902f9925b00b35f33a7a7fd46f2f8b2a0108e4de065"
   }
  }
 },
 "nbformat": 4,
 "nbformat_minor": 2
}
