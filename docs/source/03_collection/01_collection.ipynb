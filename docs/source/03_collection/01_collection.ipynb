{
 "cells": [
  {
   "cell_type": "markdown",
   "metadata": {},
   "source": [
    "# Collections in Python\n",
    "\n",
    "Collections can be best described as bags/boxes of values or containers while sequences are data structures, especially associated with storage and groupings that can be accessed linearly, most of the sequences are a member of collections.\n",
    "\n",
    "## Types of Collections\n",
    "\n",
    "There are several different types of collections in Python. The collection data structure allows storing several objects with or without any guaranteed order. You can add and remove elements from a collection, and you can iterate over a collection. Basically, it's a storage construct that allows you to collect things and perform manipulation on them. \n",
    "\n",
    "Collection types in Python are grouped into two types:\n",
    "\n",
    "- Sequence\n",
    "- Mapping\n",
    "\n",
    "### Sequences in Python\n",
    "\n",
    "Sequences is a major data type structure in Python. Sequence-type collections, with a concept of order, indexed numerically from `0`, includes string, list and tuple. Things always come out of them in the same order as they were put in. It’s worth noting that every sequence is a collection, but not every collection is a sequence.\n",
    "\n",
    "Sequences have got two main features.\n",
    "\n",
    "- The first one is the slicing operation. This operation involves obtaining a certain number of items from a list.\n",
    "- Another operation is the indexing operation. Indexing operation allows a user to fetch a particular item or element in a list. It also gives a chance to perform operations on particular items.\n",
    "\n",
    "### Mapping in Python\n",
    "\n",
    "Mapping types collections, without a concept of order, indexed by keys, which include only one type, a dictionary. The ordering of items in sets is arbitrary. (It’s technically not changeable). The ordering of keys and values in dictionaries is also arbitrary.\n",
    "\n",
    "Physically, collections have an order, every time you iterate over a set you'll visit its items in the same order, but the order may change if you add or remove items. A collection is nice because we can put more than one value in them and carry them all around in one convenient package. We have a bunch of values in a single 'variable'.\n"
   ]
  }
 ],
 "metadata": {
  "kernelspec": {
   "display_name": "Python 3.10.7 64-bit",
   "language": "python",
   "name": "python3"
  },
  "language_info": {
   "name": "python",
   "version": "3.10.7"
  },
  "orig_nbformat": 4,
  "vscode": {
   "interpreter": {
    "hash": "ea928f5d67c4c93314bde902f9925b00b35f33a7a7fd46f2f8b2a0108e4de065"
   }
  }
 },
 "nbformat": 4,
 "nbformat_minor": 2
}
