{
 "cells": [
  {
   "cell_type": "markdown",
   "metadata": {},
   "source": [
    "# Sequences in Python\n",
    "\n",
    "One other major data structure in Python is Sequences. It’s worth noting that every sequence is a collection, but not every collection is a sequence. Sequences consist of strings, tuples and lists. Sequences have got two main features.\n",
    "\n",
    "- The first one is the slicing operation. This operation involves obtaining a certain number of items from a list.\n",
    "- Another operation is the indexing operation. Indexing operation allows a user to fetch a particular item or element in a list. It also gives a chance to perform operations on particular items."
   ]
  }
 ],
 "metadata": {
  "kernelspec": {
   "display_name": "Python 3.10.7 64-bit",
   "language": "python",
   "name": "python3"
  },
  "language_info": {
   "name": "python",
   "version": "3.10.7"
  },
  "orig_nbformat": 4,
  "vscode": {
   "interpreter": {
    "hash": "ea928f5d67c4c93314bde902f9925b00b35f33a7a7fd46f2f8b2a0108e4de065"
   }
  }
 },
 "nbformat": 4,
 "nbformat_minor": 2
}
