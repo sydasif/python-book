{
 "cells": [
  {
   "cell_type": "markdown",
   "metadata": {},
   "source": [
    "# Functios\n",
    "\n",
    "In Python, there is some piece of code that has been organized into a block and can be reused more than once for a single related task. These blocks of code are functions in Python. They provide reusing of program codes, and creating a customized function is easy in Python. We defined a function in Python using the `def` keyword."
   ]
  },
  {
   "cell_type": "code",
   "execution_count": 27,
   "metadata": {},
   "outputs": [
    {
     "name": "stdout",
     "output_type": "stream",
     "text": [
      "Hello, Ali your age is 13 years.\n"
     ]
    }
   ],
   "source": [
    "# Creating a Function\n",
    "def my_function():\n",
    "  print(\"Hello, Ali your age is 13 years.\")\n",
    "\n",
    "# Calling a Function\n",
    "my_function()"
   ]
  },
  {
   "cell_type": "markdown",
   "metadata": {},
   "source": [
    "```{Note}\n",
    "It is usually recommended that the name of the function is all lowercase with words separated by underscores.\n",
    "```"
   ]
  },
  {
   "cell_type": "markdown",
   "metadata": {},
   "source": [
    "Functions begin with the keyword `def`, then followed by the name of the function and parenthesis. The parenthesis takes all the input parameters and the code block in every function begins after a colon. To call a function, use the function name followed by a parenthesis.\n",
    "\n",
    "There are two types of functions in Python:\n",
    "\n",
    "- Built-in Functions\n",
    "- User-defined Functions\n",
    "\n",
    "Built-in functions are those functions that have been pre-written with the Python language and contained in the libraries. Python language has several built-in functions that are reused over and over making it easy to perform similar tasks without necessarily writing the code from scratch. For example, Python has many built-in functions, such as `dir()` and `sum()`.\n",
    "\n",
    "Python language allows a declaration of functions, these functions are called user-defined functions and are created by the programmer during the code.\n",
    "\n",
    "## Arguments\n",
    "\n",
    "In most functions, let you pass arguments to them. The reason for this is that you will normally want to pass one or more positional arguments to a function, so that the function can do something with them.\n",
    "\n",
    "```{Note}\n",
    "Arguments are often shortened to `args` in Python documentations.\n",
    "```"
   ]
  },
  {
   "cell_type": "code",
   "execution_count": 28,
   "metadata": {},
   "outputs": [
    {
     "name": "stdout",
     "output_type": "stream",
     "text": [
      "Hello, Ali\n"
     ]
    }
   ],
   "source": [
    "def greeting(name):\n",
    "    print(f\"Hello, {name}\")\n",
    "\n",
    "greeting(\"Ali\")    "
   ]
  },
  {
   "cell_type": "markdown",
   "metadata": {},
   "source": [
    "Arguments are specified after the function name, inside the parentheses. You can add as many arguments as you want, just separate them with a comma.\n",
    "\n",
    "```{Note}\n",
    "- A parameter is the variable listed inside the parentheses in the function definition.\n",
    "- An argument is the value that is sent to the function when it is called."
   ]
  },
  {
   "cell_type": "markdown",
   "metadata": {},
   "source": [
    "## Return Values\n",
    "\n",
    "Python automatically returns `None` if you do not specify a return value. Let’s try calling the function and assigning its result to a variable."
   ]
  },
  {
   "cell_type": "code",
   "execution_count": 29,
   "metadata": {},
   "outputs": [
    {
     "name": "stdout",
     "output_type": "stream",
     "text": [
      "8\n",
      "None\n"
     ]
    }
   ],
   "source": [
    "def my_function(num):\n",
    "    print(5 + num)\n",
    "\n",
    "add = my_function(3)\n",
    "print(add)"
   ]
  },
  {
   "cell_type": "markdown",
   "metadata": {},
   "source": [
    "To let a function return a value, we use the `return` statement."
   ]
  },
  {
   "cell_type": "code",
   "execution_count": 30,
   "metadata": {},
   "outputs": [
    {
     "name": "stdout",
     "output_type": "stream",
     "text": [
      "8\n"
     ]
    }
   ],
   "source": [
    "def my_function(num):\n",
    "    return 5 + num\n",
    "\n",
    "\n",
    "add = my_function(3)\n",
    "print(add) "
   ]
  },
  {
   "cell_type": "markdown",
   "metadata": {},
   "source": [
    "## Default Arguments\n",
    "\n",
    "Default arguments are a way to make your function callable with less arguments, whereas required arguments are ones that you have to pass in to the function for the function to execute a task."
   ]
  },
  {
   "cell_type": "code",
   "execution_count": 1,
   "metadata": {},
   "outputs": [
    {
     "name": "stdout",
     "output_type": "stream",
     "text": [
      "Welcome Ali. You are 5 years old.\n"
     ]
    }
   ],
   "source": [
    "def greeting(name: str, age: int=5):\n",
    "    print(f\"Welcome {name}. You are {age} years old.\")\n",
    "\n",
    "greeting(\"Ali\")    "
   ]
  },
  {
   "cell_type": "markdown",
   "metadata": {},
   "source": [
    "In the above example, a regular argument named, `name` and a default argument, `age` which is defaulted to `5`. When we call this code without specifying the `age`, we see it defaults to `5`."
   ]
  },
  {
   "cell_type": "code",
   "execution_count": 2,
   "metadata": {},
   "outputs": [
    {
     "name": "stdout",
     "output_type": "stream",
     "text": [
      "Welcome Ali. You are 10 years old.\n"
     ]
    }
   ],
   "source": [
    "def greeting(name: str, age: int=5):\n",
    "    print(f\"Welcome {name}. You are {age} years old.\")\n",
    "\n",
    "greeting(age=10, name=\"Ali\")"
   ]
  },
  {
   "cell_type": "markdown",
   "metadata": {},
   "source": [
    "In this example, we specified `age` and `name` parameters. When we do that, we can specify them in any order. If we pass in values without specifying where they should go, they will be passed in order."
   ]
  },
  {
   "cell_type": "markdown",
   "metadata": {},
   "source": [
    "## Keyword Arguments\n",
    "\n",
    "You can also send arguments with the `key=value` syntax. This way the order of the arguments does not matter."
   ]
  },
  {
   "cell_type": "code",
   "execution_count": 4,
   "metadata": {},
   "outputs": [
    {
     "name": "stdout",
     "output_type": "stream",
     "text": [
      "The youngest child is Toba\n",
      "The older child is Ali\n"
     ]
    }
   ],
   "source": [
    "\n",
    "def my_function(child2, child1):\n",
    "  print(\"The youngest child is \" + child2)\n",
    "  print(\"The older child is\", child1)\n",
    "\n",
    "my_function(child1 = \"Ali\", child2 = \"Toba\")"
   ]
  },
  {
   "cell_type": "markdown",
   "metadata": {},
   "source": [
    "## `*args` and `**kwargs` in Function\n",
    "\n",
    "In Python function, we want that our functions to only accept a small number of arguments, keyword arguments or both. We normally don’t want too many arguments as it becomes more complicated to modify our function later. However, Python supports the concept of any number of arguments or keyword arguments.\n",
    "\n",
    "- *args - An arbitrary number of arguments\n",
    "- **kwargs - An arbitrary number of keyword arguments\n",
    "\n",
    "```{Note}\n",
    "We need to pay attention to the `*` and the `**`, the name, `arg` or `kwarg` can be anything.\n",
    "```"
   ]
  },
  {
   "cell_type": "code",
   "execution_count": 5,
   "metadata": {},
   "outputs": [
    {
     "name": "stdout",
     "output_type": "stream",
     "text": [
      "(1, 2, 3)\n"
     ]
    }
   ],
   "source": [
    "def my_function(*args):\n",
    "  print(args)\n",
    "\n",
    "my_function(1, 2, 3)"
   ]
  },
  {
   "cell_type": "markdown",
   "metadata": {},
   "source": [
    "If you do not know how many keyword arguments that will be passed into your function, add two asterisk `**` before the parameter name in the function."
   ]
  },
  {
   "cell_type": "code",
   "execution_count": 6,
   "metadata": {},
   "outputs": [
    {
     "name": "stdout",
     "output_type": "stream",
     "text": [
      "{'f_name': 'Ali', 'l_name': 'Ahmed'}\n"
     ]
    }
   ],
   "source": [
    "def my_function(**kwargs):\n",
    "  print(kwargs)\n",
    "\n",
    "my_function(f_name = \"Ali\", l_name = \"Ahmed\")"
   ]
  },
  {
   "cell_type": "markdown",
   "metadata": {},
   "source": [
    "If we created the function to accept keyword arguments only but we passed in normal arguments. This caused a `TypeError` to be thrown. Now let’s inspect our `*args` and `**kwargs` and see what they are:"
   ]
  },
  {
   "cell_type": "code",
   "execution_count": 11,
   "metadata": {},
   "outputs": [
    {
     "name": "stdout",
     "output_type": "stream",
     "text": [
      "*args is: <class 'tuple'>\n",
      "**kwargs is: <class 'dict'>\n"
     ]
    }
   ],
   "source": [
    "# args is a tuple and kwargs are a dict\n",
    "def check_type(*args, **kwargs):\n",
    "    print(\"*args is:\", type(args))\n",
    "    print(\"**kwargs is:\", type(kwargs))\n",
    "\n",
    "check_type()    "
   ]
  },
  {
   "cell_type": "markdown",
   "metadata": {},
   "source": [
    "Let’s see if we can pass our function a `tuple` and `dict` for the `*args` and `**kwargs`:"
   ]
  },
  {
   "cell_type": "code",
   "execution_count": 19,
   "metadata": {},
   "outputs": [
    {
     "name": "stdout",
     "output_type": "stream",
     "text": [
      "((1, 2, 3),)\n"
     ]
    }
   ],
   "source": [
    "# Pass in tuple as argument\n",
    "my_tuple = (1, 2, 3)\n",
    "\n",
    "def tup_output(*args):\n",
    "    print(args)\n",
    "\n",
    "tup_output(*my_tuple)"
   ]
  },
  {
   "cell_type": "markdown",
   "metadata": {},
   "source": [
    "With `*my_tuple`, Python extract the individual values in the tuple and pass each of them in as arguments."
   ]
  },
  {
   "cell_type": "code",
   "execution_count": 20,
   "metadata": {},
   "outputs": [
    {
     "name": "stdout",
     "output_type": "stream",
     "text": [
      "{'one': 1, 'two': 2}\n"
     ]
    }
   ],
   "source": [
    "# Pass in dict as keyword argument\n",
    "my_dict = {'one': 1, 'two': 2}\n",
    "\n",
    "def dict_output(**kwargs):\n",
    "    print(kwargs)\n",
    "\n",
    "dict_output(**my_dict)    "
   ]
  },
  {
   "cell_type": "markdown",
   "metadata": {},
   "source": [
    "With `**my_dict`, tells Python to pass in each `key=value` pair as keyword arguments."
   ]
  },
  {
   "cell_type": "markdown",
   "metadata": {},
   "source": [
    "## Scope of Variables\n",
    "\n",
    "In Python, variables have different scopes depending on their location in the code. Variables can be either `local` or `global`. A `local` variable is referred to those, that are declared within a function. Global variables are that, declared outside of the function at the script and accessible from anywhere in the program including functions.\n",
    "\n",
    "### Global variables\n",
    "\n",
    "Global variables are declared in Python scripts outside of any function. These variables are accessible anywhere in the code including functions within the Python program code. The example below shows a variable named `a` that has been created at the top of the function and is accessible from anywhere in the program code."
   ]
  },
  {
   "cell_type": "code",
   "execution_count": 2,
   "metadata": {},
   "outputs": [
    {
     "name": "stdout",
     "output_type": "stream",
     "text": [
      "5\n",
      "5\n"
     ]
    }
   ],
   "source": [
    "a = 5\n",
    "\n",
    "def num():\n",
    "    print(a)\n",
    "\n",
    "num()\n",
    "\n",
    "print(a)"
   ]
  },
  {
   "cell_type": "markdown",
   "metadata": {},
   "source": [
    "### Local variables\n",
    "\n",
    "Loacl variables are declared inside of a functions. These variables are only accessible within the functions where they are declared. These variables cannot be used/accessed on other parts of the program code except within the functions."
   ]
  },
  {
   "cell_type": "code",
   "execution_count": 7,
   "metadata": {},
   "outputs": [
    {
     "name": "stdout",
     "output_type": "stream",
     "text": [
      "3\n",
      "5\n"
     ]
    }
   ],
   "source": [
    "a = 5\n",
    "\n",
    "def num():\n",
    "    b = 3\n",
    "    print(b)\n",
    "\n",
    "num()\n",
    "\n",
    "print(a)"
   ]
  },
  {
   "cell_type": "markdown",
   "metadata": {},
   "source": [
    "If we call variable `b` outside from function it will give an `NameError:` name 'b' is not defined."
   ]
  }
 ],
 "metadata": {
  "kernelspec": {
   "display_name": "Python 3.10.7 64-bit",
   "language": "python",
   "name": "python3"
  },
  "language_info": {
   "codemirror_mode": {
    "name": "ipython",
    "version": 3
   },
   "file_extension": ".py",
   "mimetype": "text/x-python",
   "name": "python",
   "nbconvert_exporter": "python",
   "pygments_lexer": "ipython3",
   "version": "3.10.7"
  },
  "orig_nbformat": 4,
  "vscode": {
   "interpreter": {
    "hash": "ea928f5d67c4c93314bde902f9925b00b35f33a7a7fd46f2f8b2a0108e4de065"
   }
  }
 },
 "nbformat": 4,
 "nbformat_minor": 2
}
