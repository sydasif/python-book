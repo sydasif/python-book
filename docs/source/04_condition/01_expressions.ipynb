{
 "cells": [
  {
   "cell_type": "markdown",
   "metadata": {},
   "source": [
    "# Boolean expressions\n",
    "\n",
    "Boolean expressions are expressions in Python programming language that produces a boolean value when evaluated. The value can either be `True` or `False`. In Python, `False` maps to `0` (zero) and `True` maps to `1` (one). Boolean operations are used to control the flow of a program and make a comparison. Python also provides the `bool()` function, which allows you to cast other types to `True` or `False`.\n",
    "\n",
    "This can be shown in the expressions below:"
   ]
  },
  {
   "cell_type": "code",
   "execution_count": 1,
   "metadata": {},
   "outputs": [
    {
     "name": "stdout",
     "output_type": "stream",
     "text": [
      "True\n"
     ]
    }
   ],
   "source": [
    "num = bool(2)\n",
    "if num == True:\n",
    "    print(num)"
   ]
  },
  {
   "cell_type": "markdown",
   "metadata": {},
   "source": [
    "When you want to compare two values in Python, you need to use `==` instead of a single `=`. A single `=` is known as the assignment operator, as was mentioned in previous chapters. It assigns the value on the right to the variable on the left.\n",
    "\n",
    "## What is False and True?\n",
    "\n",
    "Almost any value is evaluated to `True` if it has:\n",
    "\n",
    "- Any string is `True`, except empty strings.\n",
    "- Any number is `True`, except `0`.\n",
    "- Any `list`, `tuple`, `set`, and `dictionary` are `True`, except empty ones.\n",
    "\n",
    "The following values are `False`:\n",
    "\n",
    "- `0` (integer, float or complex)\n",
    "- Empty collections: `“ ”`, `()`, `[]`, `{}`\n",
    "- `None` type"
   ]
  },
  {
   "cell_type": "markdown",
   "metadata": {},
   "source": [
    "## Comparisons Operator\n",
    "\n",
    "In Python programming, the comparison operator is used to compare two values and evaluate them down to a single value that can either be `one` or `zero` or rather `True` or `False`. Boolean is a subclass of the `int` class. There are several boolean operators that can be used to evaluate an expression as either True or False. \n",
    "\n",
    "These expressions include:\n",
    "\n",
    "- Equals:                   `==`\n",
    "- Not Equals:               `!=`\n",
    "- Less than:                `<`\n",
    "- Less than or equal to:    `<=`\n",
    "- Greater than:             `>`\n",
    "- Greater than or equal to: `>=`"
   ]
  },
  {
   "cell_type": "code",
   "execution_count": 2,
   "metadata": {},
   "outputs": [
    {
     "name": "stdout",
     "output_type": "stream",
     "text": [
      "False\n",
      "True\n"
     ]
    }
   ],
   "source": [
    "x = 5\n",
    "y = 10\n",
    "\n",
    "print(x == y) # Is 5 equal to 10?\n",
    "print(x != y) # Is 5 not equal to 10?"
   ]
  },
  {
   "cell_type": "markdown",
   "metadata": {},
   "source": [
    "## Logical operator\n",
    "\n",
    "Logical operators are operators that are used to compare two values and the final expression is evaluated down to a boolean value `True` or `False`. These logical operations are given in the table below:\n",
    "\n",
    "- `and`\n",
    "- `not`\n",
    "- `or`"
   ]
  },
  {
   "cell_type": "code",
   "execution_count": 3,
   "metadata": {},
   "outputs": [
    {
     "name": "stdout",
     "output_type": "stream",
     "text": [
      "True\n",
      "False\n"
     ]
    }
   ],
   "source": [
    "print((10 > 5) and (2 < 4))\n",
    "print((3 > 5) and (2 < 4))  "
   ]
  },
  {
   "cell_type": "markdown",
   "metadata": {},
   "source": [
    "For `AND` operator, both expressions must evaluate to `True` for the final boolean expression to be `True` else the final boolean value will be `False`."
   ]
  },
  {
   "cell_type": "markdown",
   "metadata": {},
   "source": [
    "```{epigraph} **Logic AND Truth Table**\n",
    "| Expressions      | Result |\n",
    "| ---------------- | -----  |\n",
    "| True and True    | True   |\n",
    "| True and False   | False  |\n",
    "| False and True   | False  |\n",
    "| False and False  | False  | \n",
    "```"
   ]
  },
  {
   "cell_type": "markdown",
   "metadata": {},
   "source": [
    "For the `OR` operation, at least one of the two operators must evaluate to `True` for the final boolean expression to evaluate to `True`."
   ]
  },
  {
   "cell_type": "code",
   "execution_count": 4,
   "metadata": {},
   "outputs": [
    {
     "name": "stdout",
     "output_type": "stream",
     "text": [
      "True\n",
      "False\n"
     ]
    }
   ],
   "source": [
    "print((10 > 5) or (2 < 4))\n",
    "print((2 > 5) or (5 < 4)) "
   ]
  },
  {
   "cell_type": "markdown",
   "metadata": {},
   "source": [
    "`OR` operation can evaluate to `False` only, if both operations evaluate to `False`.\n",
    "\n",
    "```{epigraph} **Logic OR Truth Table**\n",
    "| Expressions     | Result |\n",
    "| --------------- | -----  |\n",
    "| True or True    | True   |\n",
    "| True or False   | True   |\n",
    "| False or True   | True   |\n",
    "| False or False  | False  | \n",
    "```"
   ]
  },
  {
   "cell_type": "markdown",
   "metadata": {},
   "source": [
    "Lastly, `NOT` is the opposite of `False` and `True` which means, its inner expression is `True` for the new expression to evaluate to `False` else it will evaluate to `True`.\n",
    "\n",
    "```{epigraph} **Logic NOT Truth Table**\n",
    "| Expressions | Result |\n",
    "| ----------- | ----- |\n",
    "| not True    | False |\n",
    "| not False   | True |\n",
    "```"
   ]
  },
  {
   "cell_type": "markdown",
   "metadata": {},
   "source": [
    "```{Note}\n",
    "Expressions consist of values and operators, and they can always evaluate (that is, reduce) down to a single value.\n",
    "```"
   ]
  }
 ],
 "metadata": {
  "kernelspec": {
   "display_name": "Python 3.10.7 64-bit",
   "language": "python",
   "name": "python3"
  },
  "language_info": {
   "codemirror_mode": {
    "name": "ipython",
    "version": 3
   },
   "file_extension": ".py",
   "mimetype": "text/x-python",
   "name": "python",
   "nbconvert_exporter": "python",
   "pygments_lexer": "ipython3",
   "version": "3.10.7"
  },
  "orig_nbformat": 4,
  "vscode": {
   "interpreter": {
    "hash": "ea928f5d67c4c93314bde902f9925b00b35f33a7a7fd46f2f8b2a0108e4de065"
   }
  }
 },
 "nbformat": 4,
 "nbformat_minor": 2
}
