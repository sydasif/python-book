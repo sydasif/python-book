{
 "cells": [
  {
   "cell_type": "markdown",
   "metadata": {},
   "source": [
    "# Dictionaries in Python\n",
    "\n",
    "Dictionaries are used to store data values in `key-value` pairs. A dictionary is a collection which is ordered, changeable and does not allow duplicates. Dictionaries are written with curly brackets and have keys and values.\n",
    "\n",
    "```{Note}\n",
    "As of Python version 3.7, dictionaries are ordered. In Python 3.6 and earlier, dictionaries are unordered.\n",
    "```"
   ]
  },
  {
   "cell_type": "code",
   "execution_count": 24,
   "metadata": {},
   "outputs": [
    {
     "name": "stdout",
     "output_type": "stream",
     "text": [
      "{'brand': 'Ford', 'model': 'Mustang', 'year': 1992}\n"
     ]
    }
   ],
   "source": [
    "my_car = {\"brand\": \"Ford\",\"model\": \"Mustang\", \"year\": 1992}\n",
    "print(my_car)"
   ]
  },
  {
   "cell_type": "markdown",
   "metadata": {},
   "source": [
    "Each `key` must be different in order to maintain uniqueness `i.e.` to get the correct information about a `value`. When creating the values, any kind of data can be used.\n",
    "\n",
    "## Modification of dictionaries\n",
    "\n",
    "Dictionary elements can be created, accessed, modified or deleted. While a dictionary is created, its elements will contain a `key-value` pair to be accessed. You can also delete some values or delete a complete dictionary using `del` and `clear` respectively."
   ]
  },
  {
   "cell_type": "code",
   "execution_count": 25,
   "metadata": {},
   "outputs": [
    {
     "name": "stdout",
     "output_type": "stream",
     "text": [
      "Ford\n"
     ]
    }
   ],
   "source": [
    "my_car = {\"brand\": \"Ford\",\"model\": \"Mustang\", \"year\": 1992}\n",
    "print(my_car[\"brand\"])"
   ]
  },
  {
   "cell_type": "code",
   "execution_count": 26,
   "metadata": {},
   "outputs": [
    {
     "name": "stdout",
     "output_type": "stream",
     "text": [
      "{'brand': 'Ford', 'model': 'Mustang', 'year': 2000}\n"
     ]
    }
   ],
   "source": [
    "my_car[\"year\"] = 2000\n",
    "print(my_car)"
   ]
  },
  {
   "cell_type": "code",
   "execution_count": 27,
   "metadata": {},
   "outputs": [
    {
     "name": "stdout",
     "output_type": "stream",
     "text": [
      "{'brand': 'Ford', 'model': 'Mustang'}\n"
     ]
    }
   ],
   "source": [
    "del my_car[\"year\"]\n",
    "print(my_car)"
   ]
  },
  {
   "cell_type": "markdown",
   "metadata": {},
   "source": [
    "The values in dictionary items can be of any data type"
   ]
  },
  {
   "cell_type": "code",
   "execution_count": 28,
   "metadata": {},
   "outputs": [
    {
     "name": "stdout",
     "output_type": "stream",
     "text": [
      "{'brand': 'Ford', 'model': 'Mustang', 'colors': ['black', 'red', 'blue']}\n"
     ]
    }
   ],
   "source": [
    "# Adding new key-value as list\n",
    "my_car[\"colors\"] = [\"black\", \"red\", \"blue\"]\n",
    "print(my_car)"
   ]
  },
  {
   "cell_type": "markdown",
   "metadata": {},
   "source": [
    "## Nested Dictionary\n",
    "\n",
    "A dictionary within a dictionary is called a nested dictionary. It accumulated multiple dictionaries into one. Each dictionary will have its own key-value pair."
   ]
  },
  {
   "cell_type": "code",
   "execution_count": 29,
   "metadata": {},
   "outputs": [
    {
     "name": "stdout",
     "output_type": "stream",
     "text": [
      "{'dad': 'mike', 'mom': 'carol'}\n",
      "{'youngest': 'Ali', 'middle': 'jan', 'oldest': 'saira'}\n",
      "carol\n",
      "jan\n"
     ]
    }
   ],
   "source": [
    "my_family = {\n",
    "    \"parents\": {'dad': 'mike', 'mom': 'carol'},\n",
    "    'kids': {'youngest': 'Ali', 'middle': 'jan', 'oldest': 'saira'}\n",
    "    }\n",
    "    \n",
    "print(my_family['parents'])\n",
    "print(my_family['kids'])\n",
    "print(my_family['parents'][\"mom\"])\n",
    "print(my_family['kids'][\"middle\"])"
   ]
  },
  {
   "cell_type": "markdown",
   "metadata": {},
   "source": [
    "Dictionaries are lookup tables. They map from a `key` to a `value`.\n",
    "\n",
    "## Constructor\n",
    "\n",
    "Another method of dictionary creation is the use of a constructor. A contractor declares the class `dict` then accesses it after the declaration."
   ]
  },
  {
   "cell_type": "code",
   "execution_count": 30,
   "metadata": {},
   "outputs": [
    {
     "name": "stdout",
     "output_type": "stream",
     "text": [
      "{'one': 1, 'two': 2, 'three': 3}\n"
     ]
    }
   ],
   "source": [
    "a = dict(one=1, two=2, three=3)\n",
    "print(a)"
   ]
  },
  {
   "cell_type": "markdown",
   "metadata": {},
   "source": [
    "## Keys, values and items\n",
    "\n",
    "Tree maps show unique keys to values. Consider the code below;"
   ]
  },
  {
   "cell_type": "code",
   "execution_count": 31,
   "metadata": {},
   "outputs": [
    {
     "name": "stdout",
     "output_type": "stream",
     "text": [
      "dict_keys(['brand', 'model', 'year'])\n",
      "dict_values(['Ford', 'Mustang', 1992])\n",
      "dict_items([('brand', 'Ford'), ('model', 'Mustang'), ('year', 1992)])\n"
     ]
    }
   ],
   "source": [
    "my_car = {\"brand\": \"Ford\",\"model\": \"Mustang\",\"year\": 1992}\n",
    "print(my_car.keys())  # print keys\n",
    "print(my_car.values())  # print values\n",
    "print(my_car.items())  # print key-value pair"
   ]
  }
 ],
 "metadata": {
  "kernelspec": {
   "display_name": "Python 3.10.7 64-bit",
   "language": "python",
   "name": "python3"
  },
  "language_info": {
   "codemirror_mode": {
    "name": "ipython",
    "version": 3
   },
   "file_extension": ".py",
   "mimetype": "text/x-python",
   "name": "python",
   "nbconvert_exporter": "python",
   "pygments_lexer": "ipython3",
   "version": "3.10.7"
  },
  "orig_nbformat": 4,
  "vscode": {
   "interpreter": {
    "hash": "ea928f5d67c4c93314bde902f9925b00b35f33a7a7fd46f2f8b2a0108e4de065"
   }
  }
 },
 "nbformat": 4,
 "nbformat_minor": 2
}
