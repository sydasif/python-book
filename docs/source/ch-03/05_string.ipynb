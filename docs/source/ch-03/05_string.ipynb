{
 "cells": [
  {
   "cell_type": "markdown",
   "metadata": {},
   "source": [
    "# Strings in Python\n",
    "\n",
    "String are a collection of characters, in other terms characters are simple letters and symbols that are used to construct a string and character include alphanumeric letters, numbers and white space.\n",
    "\n",
    "In Python, strings are written and enclosed between either single or double quotes. Once a string variable has been created and declared, it is impossible to change its values, unless a new string is created.\n",
    "\n",
    "Assigning a string to a variable is done with the variable name followed by an equal sign and the string."
   ]
  },
  {
   "cell_type": "code",
   "execution_count": 23,
   "metadata": {},
   "outputs": [
    {
     "name": "stdout",
     "output_type": "stream",
     "text": [
      "Hello World\n",
      "Hello World\n"
     ]
    }
   ],
   "source": [
    "print('Hello World') \n",
    "print(\"Hello World\")"
   ]
  },
  {
   "cell_type": "markdown",
   "metadata": {},
   "source": [
    "There are various ways of manipulating a string using the slicing method."
   ]
  },
  {
   "cell_type": "code",
   "execution_count": 24,
   "metadata": {},
   "outputs": [
    {
     "name": "stdout",
     "output_type": "stream",
     "text": [
      "Hello,\n",
      "Hello,\n",
      "Hello, World\n"
     ]
    }
   ],
   "source": [
    "greeting = \"Hello, World!\"\n",
    "print(greeting[0:6])\n",
    "print(greeting[:6])\n",
    "print(greeting[:-1])"
   ]
  },
  {
   "cell_type": "markdown",
   "metadata": {},
   "source": [
    "## Addition Operation\n",
    "This operator allows the user to put together two strings to come up with the third string."
   ]
  },
  {
   "cell_type": "code",
   "execution_count": 25,
   "metadata": {},
   "outputs": [
    {
     "name": "stdout",
     "output_type": "stream",
     "text": [
      "JohnAlex\n",
      "John Alex\n"
     ]
    }
   ],
   "source": [
    "first_name = \"John\"\n",
    "sec_name = \"Alex\"\n",
    "full_name = first_name + sec_name\n",
    "print(full_name)\n",
    "full_name = first_name + \" \" + sec_name\n",
    "print(full_name)"
   ]
  },
  {
   "cell_type": "markdown",
   "metadata": {},
   "source": [
    "## Repetition operators\n",
    "Repetition may seem a bit obscure at first, but it comes in handy in a surprising number of contexts. For example, to print a line of 80 dashes."
   ]
  },
  {
   "cell_type": "code",
   "execution_count": 26,
   "metadata": {},
   "outputs": [
    {
     "name": "stdout",
     "output_type": "stream",
     "text": [
      "------------------------------------------------------------\n"
     ]
    }
   ],
   "source": [
    "print(\"-\" * 60)"
   ]
  },
  {
   "cell_type": "markdown",
   "metadata": {},
   "source": [
    "## String Methods\n",
    "\n",
    "Python has a set of built-in methods that you can use on strings.\n",
    "\n",
    "```{Note}\n",
    "All string methods returns new values. They do not change the original string.\n",
    "```"
   ]
  },
  {
   "cell_type": "code",
   "execution_count": 27,
   "metadata": {},
   "outputs": [
    {
     "name": "stdout",
     "output_type": "stream",
     "text": [
      "SAMSUNG LTD\n",
      "samsung ltd\n",
      "False\n",
      "['Samsung', 'Ltd']\n"
     ]
    }
   ],
   "source": [
    "# used different methods .lower(), .upper(), .strip(), .isdigit()\n",
    "vendor = \"Samsung Ltd\"\n",
    "print(vendor.upper())\n",
    "print(vendor.lower())\n",
    "print(vendor.isdigit())\n",
    "print(vendor.split())"
   ]
  },
  {
   "cell_type": "markdown",
   "metadata": {},
   "source": [
    "To check attribute (method) of an object see {ref}`dir() syntax`."
   ]
  },
  {
   "cell_type": "markdown",
   "metadata": {},
   "source": [
    "## Escape sequences\n",
    "\n",
    "There is a special characteristic that is understood by the compiler as commands other than characters. All these characters are known as the `Escape Sequences`. The special characters are marked with a backslash `\\`. The backslash `\\` would, therefore, indicate that the character that is going to be printed next is a special one that should initiate some instructions.\n",
    "\n",
    "Below are the examples of special character that are used with strings:\n",
    "\n",
    "`\\n` Newline, `\\t` Horizontal tab, `\\r` Carriage return."
   ]
  },
  {
   "cell_type": "markdown",
   "metadata": {},
   "source": [
    "## Raw Strings\n",
    "\n",
    "To avoid special processing on a string such as escape sequences. Specify a raw string by prefixing `r` or `R` to the string."
   ]
  },
  {
   "cell_type": "code",
   "execution_count": 28,
   "metadata": {},
   "outputs": [
    {
     "name": "stdout",
     "output_type": "stream",
     "text": [
      "newline is indicated by \\n.\n"
     ]
    }
   ],
   "source": [
    "string = r\"newline is indicated by \\n.\"\n",
    "print(string)"
   ]
  }
 ],
 "metadata": {
  "kernelspec": {
   "display_name": "Python 3.10.7 64-bit",
   "language": "python",
   "name": "python3"
  },
  "language_info": {
   "codemirror_mode": {
    "name": "ipython",
    "version": 3
   },
   "file_extension": ".py",
   "mimetype": "text/x-python",
   "name": "python",
   "nbconvert_exporter": "python",
   "pygments_lexer": "ipython3",
   "version": "3.10.7"
  },
  "orig_nbformat": 4,
  "vscode": {
   "interpreter": {
    "hash": "ea928f5d67c4c93314bde902f9925b00b35f33a7a7fd46f2f8b2a0108e4de065"
   }
  }
 },
 "nbformat": 4,
 "nbformat_minor": 2
}
