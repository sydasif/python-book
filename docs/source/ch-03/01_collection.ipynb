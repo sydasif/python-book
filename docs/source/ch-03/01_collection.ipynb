{
 "cells": [
  {
   "cell_type": "markdown",
   "metadata": {},
   "source": [
    "# Collections in Python\n",
    "\n",
    "Collections can be best described as bags of values or containers while sequences are data structures, especially associated with storage and groupings that can be accessed linearly, most of the sequences are a member of collections.\n",
    "\n",
    "## Types of Collections\n",
    "\n",
    "There are several different types of collections in Python. The collection data structure allows storing several objects with or without any guaranteed order. You can add and remove elements from a collection, and you can iterate over a collection. Basically, it's a storage construct that allows you to collect things and perform manipulation on them. Collection types in Python are grouped into two types:\n",
    "\n",
    "1. Sequence type (collections with a concept of order, indexed numerically from 0) and includes string, list, tuple, and a few others. Things always come out of them in the same order they were put in.\n",
    "\n",
    "2. Mapping types (collections without a concept of order, indexed by keys) which include only one type, dictionary. The ordering of items in sets is arbitrary. (It's not random, and it's technically not unpredictable, but it's good to think of it as both) The ordering of keys and values in dictionaries is also arbitrary.\n",
    "\n",
    "Physically, collections have an order - every time you iterate over a set you'll visit its items in the same order - but the order may change if you add or remove items. Basically, if you do anything that depends on a collection having a specific order, you'll end up regretting it.\n",
    "\n",
    "A collection is nice because we can put more than one value in them and carry them all around in one convenient package. We have a bunch of values in a single “variable”. We do this by having more than one place “in” the variable. We have ways of finding the different places in the variable.\n"
   ]
  }
 ],
 "metadata": {
  "kernelspec": {
   "display_name": "Python 3.10.7 64-bit",
   "language": "python",
   "name": "python3"
  },
  "language_info": {
   "name": "python",
   "version": "3.10.7"
  },
  "orig_nbformat": 4,
  "vscode": {
   "interpreter": {
    "hash": "ea928f5d67c4c93314bde902f9925b00b35f33a7a7fd46f2f8b2a0108e4de065"
   }
  }
 },
 "nbformat": 4,
 "nbformat_minor": 2
}
