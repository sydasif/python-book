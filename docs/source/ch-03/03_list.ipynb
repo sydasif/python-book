{
 "cells": [
  {
   "cell_type": "markdown",
   "metadata": {},
   "source": [
    "# Lists\n",
    "\n",
    "Lists are Python’s most flexible ordered collection (sequence) object type. Lists can contain any sort of object: numbers, strings and even other lists. Ordered collections of arbitrary objects. Lists can contain another list called as `nested list`.\n",
    "\n",
    "The elements used in lists can be changed. This means lists can be mutated unlike tuple or string."
   ]
  },
  {
   "cell_type": "code",
   "execution_count": 53,
   "metadata": {},
   "outputs": [
    {
     "name": "stdout",
     "output_type": "stream",
     "text": [
      "[100, 'bottles', ['on', 'the', 'earth']]\n",
      "100\n",
      "3\n"
     ]
    }
   ],
   "source": [
    "a = [100, \"bottles\", [\"on\", \"the\", \"earth\"]]\n",
    "print(a)\n",
    "print(a[0])\n",
    "print(len(a))"
   ]
  },
  {
   "cell_type": "markdown",
   "metadata": {},
   "source": [
    "Lists can also be used for negative indexing."
   ]
  },
  {
   "cell_type": "code",
   "execution_count": 54,
   "metadata": {},
   "outputs": [
    {
     "name": "stdout",
     "output_type": "stream",
     "text": [
      "['on', 'the', 'earth']\n"
     ]
    }
   ],
   "source": [
    "print(a[-1])"
   ]
  },
  {
   "cell_type": "markdown",
   "metadata": {},
   "source": [
    "## Creation of List\n",
    "\n",
    "The creation of lists is done by placing strings between brackets and separating them with commas. This is done by adding a name just before the brackets."
   ]
  },
  {
   "cell_type": "code",
   "execution_count": 55,
   "metadata": {},
   "outputs": [],
   "source": [
    "# this is a list that is referenced using the name list_items\n",
    "\n",
    "list_items = ['mango', 'juice', 'banana', 'tree', 'house', 'toy', 'cow', 'horse']"
   ]
  },
  {
   "cell_type": "markdown",
   "metadata": {},
   "source": [
    "To retrieve a list, there are two important elements that are used. These elements are the name of the list and the position of the item in the list.\n",
    "\n",
    "It is important to note that the positioning of the items would start from a `zero`."
   ]
  },
  {
   "cell_type": "code",
   "execution_count": 56,
   "metadata": {},
   "outputs": [
    {
     "name": "stdout",
     "output_type": "stream",
     "text": [
      "mango\n"
     ]
    }
   ],
   "source": [
    "print(list_items[0])"
   ]
  },
  {
   "cell_type": "markdown",
   "metadata": {},
   "source": [
    "We can add, remove or sort for items in a list."
   ]
  },
  {
   "cell_type": "code",
   "execution_count": 57,
   "metadata": {},
   "outputs": [
    {
     "name": "stdout",
     "output_type": "stream",
     "text": [
      "I have 4 fruits to buy.\n"
     ]
    }
   ],
   "source": [
    "fruit_list = ['apple', 'mango', 'carrot', 'banana']\n",
    "print('I have', len(fruit_list), 'fruits to buy.')"
   ]
  },
  {
   "cell_type": "code",
   "execution_count": 58,
   "metadata": {},
   "outputs": [
    {
     "name": "stdout",
     "output_type": "stream",
     "text": [
      "['apple', 'mango', 'carrot', 'banana', 'rice']\n"
     ]
    }
   ],
   "source": [
    "# Add an item to a list\n",
    "fruit_list.append('rice')\n",
    "print(fruit_list)"
   ]
  },
  {
   "cell_type": "code",
   "execution_count": 59,
   "metadata": {},
   "outputs": [
    {
     "name": "stdout",
     "output_type": "stream",
     "text": [
      "['apple', 'banana', 'carrot', 'mango', 'rice']\n"
     ]
    }
   ],
   "source": [
    "# sort a list\n",
    "fruit_list.sort()\n",
    "print(fruit_list)"
   ]
  },
  {
   "cell_type": "code",
   "execution_count": 60,
   "metadata": {},
   "outputs": [
    {
     "name": "stdout",
     "output_type": "stream",
     "text": [
      "['banana', 'carrot', 'mango', 'rice']\n"
     ]
    }
   ],
   "source": [
    "# remove an item from list\n",
    "del fruit_list[0]\n",
    "print(fruit_list)"
   ]
  },
  {
   "cell_type": "markdown",
   "metadata": {},
   "source": [
    "## List Slicing\n",
    "\n",
    "List slicing is a technique in python that helps read a list and return a specific segment of a list. The most important elements in list slicing are the full colons and negative signs. The name of the list is also an element that is used in the construction of a slicing statement. The example below shows how list slicing is done in a single word."
   ]
  },
  {
   "cell_type": "code",
   "execution_count": 69,
   "metadata": {},
   "outputs": [
    {
     "name": "stdout",
     "output_type": "stream",
     "text": [
      "5\n",
      "rice\n",
      "banana\n",
      "['mango', 'carrot']\n",
      "['mango', 'carrot', 'banana', 'rice']\n"
     ]
    }
   ],
   "source": [
    "fruit_list = ['apple', 'mango', 'carrot', 'banana', 'rice']\n",
    "print(len(fruit_list))\n",
    "print(fruit_list[-1]) # 1st item from the end\n",
    "print(fruit_list[-2]) # 2nd item from the end\n",
    "print(fruit_list[1:3]) # index 3 not included\n",
    "print(fruit_list[1:]) # until the end"
   ]
  }
 ],
 "metadata": {
  "kernelspec": {
   "display_name": "Python 3.10.7 64-bit",
   "language": "python",
   "name": "python3"
  },
  "language_info": {
   "codemirror_mode": {
    "name": "ipython",
    "version": 3
   },
   "file_extension": ".py",
   "mimetype": "text/x-python",
   "name": "python",
   "nbconvert_exporter": "python",
   "pygments_lexer": "ipython3",
   "version": "3.10.7"
  },
  "orig_nbformat": 4,
  "vscode": {
   "interpreter": {
    "hash": "ea928f5d67c4c93314bde902f9925b00b35f33a7a7fd46f2f8b2a0108e4de065"
   }
  }
 },
 "nbformat": 4,
 "nbformat_minor": 2
}
