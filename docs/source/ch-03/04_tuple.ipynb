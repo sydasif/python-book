{
 "cells": [
  {
   "cell_type": "markdown",
   "metadata": {},
   "source": [
    "# Tuple in Python\n",
    "\n",
    "A tuple is a list of items enclosed in parenthesis, a tuple is said to be immutable (can't be changed) and more\n",
    "efficient. A tuple is data structures that help in the organization of data in python. Since lists do the same organization as a tuple, it can be hard to differentiate between the two. The main difference, however, is that once\n",
    "tuple have been created, they are hard to change. The main difference between tuples and lists is that, tuples are immutable while lists aren’t."
   ]
  },
  {
   "cell_type": "code",
   "execution_count": 34,
   "metadata": {},
   "outputs": [
    {
     "name": "stdout",
     "output_type": "stream",
     "text": [
      "<class 'tuple'>\n",
      "5\n"
     ]
    }
   ],
   "source": [
    "animal = (\"dog\", \"lion\", \"leopard\", \"cat\", \"bear\")\n",
    "print(type(animal))  # print type of object (animal)\n",
    "print(len(animal))  # print len of object (animal)"
   ]
  },
  {
   "cell_type": "markdown",
   "metadata": {},
   "source": [
    "Index in Tuple is used to find a specific element, as previously discussed in lists, tuple indexing also start with zero. This\n",
    "means that the first items position is `0` and the second is `1`."
   ]
  },
  {
   "cell_type": "code",
   "execution_count": 35,
   "metadata": {},
   "outputs": [
    {
     "name": "stdout",
     "output_type": "stream",
     "text": [
      "dog\n"
     ]
    }
   ],
   "source": [
    "print(animal[0])  # print at index 0"
   ]
  },
  {
   "cell_type": "markdown",
   "metadata": {},
   "source": [
    "## Slicing in Tuples\n",
    "\n",
    "Slicing function is used to obtain part of the tuple. The main elements used in slicing is the index and the slicing operator `(:)` the example below explains how slicing is done with tuples."
   ]
  },
  {
   "cell_type": "code",
   "execution_count": 36,
   "metadata": {},
   "outputs": [
    {
     "name": "stdout",
     "output_type": "stream",
     "text": [
      "('leopard', 'cat', 'bear')\n",
      "('dog', 'lion')\n"
     ]
    }
   ],
   "source": [
    "print(animal[2:])  # print index 2 and onward\n",
    "print(animal[:2])  # print before index 2"
   ]
  }
 ],
 "metadata": {
  "kernelspec": {
   "display_name": "Python 3.10.7 64-bit",
   "language": "python",
   "name": "python3"
  },
  "language_info": {
   "codemirror_mode": {
    "name": "ipython",
    "version": 3
   },
   "file_extension": ".py",
   "mimetype": "text/x-python",
   "name": "python",
   "nbconvert_exporter": "python",
   "pygments_lexer": "ipython3",
   "version": "3.10.7"
  },
  "orig_nbformat": 4,
  "vscode": {
   "interpreter": {
    "hash": "ea928f5d67c4c93314bde902f9925b00b35f33a7a7fd46f2f8b2a0108e4de065"
   }
  }
 },
 "nbformat": 4,
 "nbformat_minor": 2
}
