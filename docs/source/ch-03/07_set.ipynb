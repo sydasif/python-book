{
 "cells": [
  {
   "cell_type": "markdown",
   "metadata": {},
   "source": [
    "# Sets in Python\n",
    "\n",
    "Sets are used to store multiple items in a single variable. A set is a collection which is unordered, unchangeable*, and unindexed, therefore, they do not support function including slicing, indexing and any other function that is associated with sequencing. Sets are a collection of data with no duplicates. They are very useful when it comes to removing duplicate data from data collections.\n",
    "\n",
    "```{Note}\n",
    "Set items are unchangeable, but you can remove items and add new items.\n",
    "```"
   ]
  },
  {
   "cell_type": "markdown",
   "metadata": {},
   "source": [
    "Sets are written with curly brackets."
   ]
  },
  {
   "cell_type": "code",
   "execution_count": 13,
   "metadata": {},
   "outputs": [
    {
     "name": "stdout",
     "output_type": "stream",
     "text": [
      "{'apple', 'banana', 'cherry'}\n"
     ]
    }
   ],
   "source": [
    "fruit = {\"apple\", \"banana\", \"cherry\"}\n",
    "print(fruit)"
   ]
  },
  {
   "cell_type": "markdown",
   "metadata": {},
   "source": [
    "```{Note}\n",
    "Sets are unordered, so you cannot be sure in which order the items will appear.\n",
    "```"
   ]
  },
  {
   "cell_type": "code",
   "execution_count": 14,
   "metadata": {},
   "outputs": [
    {
     "name": "stdout",
     "output_type": "stream",
     "text": [
      "{'apple', 'banana', 'cherry'}\n"
     ]
    }
   ],
   "source": [
    "# Sets cannot have two items with the same value\n",
    "fruit = {\"apple\", \"banana\", \"cherry\", \"apple\"}\n",
    "print(fruit)"
   ]
  },
  {
   "cell_type": "markdown",
   "metadata": {},
   "source": [
    "## The set() Constructor\n",
    "\n",
    "It is also possible to use the `set()` constructor to make a set."
   ]
  },
  {
   "cell_type": "code",
   "execution_count": 15,
   "metadata": {},
   "outputs": [
    {
     "name": "stdout",
     "output_type": "stream",
     "text": [
      "{'apple', 'banana', 'cherry'}\n"
     ]
    }
   ],
   "source": [
    "fruit = set((\"apple\", \"banana\", \"cherry\"))\n",
    "print(fruit)"
   ]
  },
  {
   "cell_type": "markdown",
   "metadata": {},
   "source": [
    "## Set methods\n",
    "\n",
    "- `add()`\n",
    "- `discard()`\n",
    "- `clear()`\n"
   ]
  },
  {
   "cell_type": "code",
   "execution_count": 16,
   "metadata": {},
   "outputs": [
    {
     "name": "stdout",
     "output_type": "stream",
     "text": [
      "{40, 10, 50, 20, 30}\n"
     ]
    }
   ],
   "source": [
    "# add() adds an item to set\n",
    "set1 = {10,20,30,40}\n",
    "set1.add(50)\n",
    "print(set1)"
   ]
  },
  {
   "cell_type": "code",
   "execution_count": 17,
   "metadata": {},
   "outputs": [
    {
     "name": "stdout",
     "output_type": "stream",
     "text": [
      "{50, 20, 40, 10, 30}\n",
      "{20, 40, 10, 30}\n"
     ]
    }
   ],
   "source": [
    "# discard() allows deleting elements without showing an error\n",
    "# if there is no element in set\n",
    "set1 = {10, 20, 30, 40, 50}\n",
    "set1.discard(55)\n",
    "print(set1)\n",
    "set1.discard(50)\n",
    "print(set1)"
   ]
  },
  {
   "cell_type": "code",
   "execution_count": 18,
   "metadata": {},
   "outputs": [
    {
     "name": "stdout",
     "output_type": "stream",
     "text": [
      "set()\n"
     ]
    }
   ],
   "source": [
    "# clear() empties set\n",
    "set1 = {10,20,30,40}\n",
    "set1.clear()\n",
    "print(set1)"
   ]
  },
  {
   "cell_type": "markdown",
   "metadata": {},
   "source": [
    "## Operations with sets\n",
    "\n",
    "Sets are useful in performing different operations such as finding union of sets, intersection and so on.\n",
    "Union of sets can be obtained by `union` or operator `|`."
   ]
  },
  {
   "cell_type": "code",
   "execution_count": 19,
   "metadata": {},
   "outputs": [
    {
     "name": "stdout",
     "output_type": "stream",
     "text": [
      "{100, 101, 102, 200, 10, 50, 20, 30}\n",
      "{100, 101, 102, 200, 10, 50, 20, 30}\n"
     ]
    }
   ],
   "source": [
    "num1 = {10,20,30,50,100}\n",
    "num2 = {100,101,102,102,200}\n",
    "num3 = num1.union(num2)\n",
    "print(num3)\n",
    "# or\n",
    "print(num1 | num2)"
   ]
  },
  {
   "cell_type": "markdown",
   "metadata": {},
   "source": [
    "Intersection of sets can be obtained by `intersection` or operator `&`."
   ]
  },
  {
   "cell_type": "code",
   "execution_count": 20,
   "metadata": {},
   "outputs": [
    {
     "name": "stdout",
     "output_type": "stream",
     "text": [
      "{100}\n",
      "{100}\n"
     ]
    }
   ],
   "source": [
    "num1 = {10,20,30,50,100}\n",
    "num2 = {100,101,102,102,200}\n",
    "num3 = num1.intersection(num2)\n",
    "print(num3)\n",
    "# or\n",
    "print(num1 & num2)"
   ]
  }
 ],
 "metadata": {
  "kernelspec": {
   "display_name": "Python 3.10.7 64-bit",
   "language": "python",
   "name": "python3"
  },
  "language_info": {
   "codemirror_mode": {
    "name": "ipython",
    "version": 3
   },
   "file_extension": ".py",
   "mimetype": "text/x-python",
   "name": "python",
   "nbconvert_exporter": "python",
   "pygments_lexer": "ipython3",
   "version": "3.10.7"
  },
  "orig_nbformat": 4,
  "vscode": {
   "interpreter": {
    "hash": "ea928f5d67c4c93314bde902f9925b00b35f33a7a7fd46f2f8b2a0108e4de065"
   }
  }
 },
 "nbformat": 4,
 "nbformat_minor": 2
}
