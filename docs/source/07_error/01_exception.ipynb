{
 "cells": [
  {
   "cell_type": "markdown",
   "metadata": {},
   "source": [
    "# Exceptions in Python\n",
    "\n",
    "An exception is usually an event, that may not be an error that occurs during the code execution and stop the normal flow of that program. Python as a programming language raises an exception if the Python scripts met such a situation.\n",
    "\n",
    "To make the script better, your code needs to keep working even when the unexpected happens. For example, let’s say your application needs to pull down information from the router, what happens if your application loses its connectivity?\n",
    "\n",
    "Another common issue is what to do if the user enters invalid input or tries to open a file that is not present or deleted. support.\n",
    "\n",
    "```{seealso}\n",
    "Full listing of the built-in exceptions, on Python [documentation](https://docs.python.org/3/library/exceptions.html).\n",
    "```"
   ]
  },
  {
   "cell_type": "markdown",
   "metadata": {},
   "source": [
    "## Exceptons Handling\n",
    "\n",
    "Python comes with a special syntax that we can use to catch an exception. It is known as the `try/except` statement."
   ]
  },
  {
   "cell_type": "code",
   "execution_count": 2,
   "metadata": {},
   "outputs": [
    {
     "name": "stdout",
     "output_type": "stream",
     "text": [
      "Vaiable 'x' is not defined\n"
     ]
    }
   ],
   "source": [
    "# The try block will generate an exception\n",
    "try:\n",
    "  print(x)\n",
    "except NameError:\n",
    "  print(\"Vaiable 'x' is not defined\")"
   ]
  },
  {
   "cell_type": "markdown",
   "metadata": {},
   "source": [
    "Since the `try` block raises an error, the `except` block will be executed. Without the `try` block, the program will crash and raise an error."
   ]
  },
  {
   "cell_type": "markdown",
   "metadata": {},
   "source": [
    "```{Note}\n",
    "When you write the `except` without specifying the exception type, it is known as a bare exception, it is not recommended.\n",
    "```\n",
    "\n",
    "To catch multiple exceptions. Here is one way to do that:"
   ]
  },
  {
   "cell_type": "code",
   "execution_count": 23,
   "metadata": {},
   "outputs": [
    {
     "name": "stdout",
     "output_type": "stream",
     "text": [
      "Variable x is not defined\n"
     ]
    }
   ],
   "source": [
    "try:\n",
    "    print(x)\n",
    "except NameError:\n",
    "    print(\"Variable x is not defined\")\n",
    "except:\n",
    "    print(\"Something wrong\")"
   ]
  },
  {
   "cell_type": "markdown",
   "metadata": {},
   "source": [
    "## finally Statement\n",
    "\n",
    "There is more to the `try/except` statement than just `try` and `except`. You can add a `finally` statement to it as well. The `finally` statement is a block of code that will always get run even if there is an exception raised inside of the `try` portion. You can use the `finally` statement for cleanup.To do that, you can wrap the code in a try/except/finally statement."
   ]
  },
  {
   "cell_type": "code",
   "execution_count": 25,
   "metadata": {},
   "outputs": [
    {
     "name": "stdout",
     "output_type": "stream",
     "text": [
      "You can not divide by zero!\n",
      "try/except block end.\n"
     ]
    }
   ],
   "source": [
    "try:\n",
    "    1 / 0\n",
    "except ZeroDivisionError:\n",
    "    print('You can not divide by zero!')\n",
    "finally:\n",
    "    print('try/except block end.')"
   ]
  },
  {
   "cell_type": "markdown",
   "metadata": {},
   "source": [
    "```{Note}\n",
    "You can also skip the except statement entirely and create a try/finally\n",
    "```"
   ]
  },
  {
   "cell_type": "markdown",
   "metadata": {},
   "source": [
    "## else Statement\n",
    "\n",
    "There is one other statement that you can use with Python’s exception handling and that is the `else` statement. You can use the `else` statement to execute code when there are no exceptions."
   ]
  },
  {
   "cell_type": "code",
   "execution_count": 26,
   "metadata": {},
   "outputs": [
    {
     "name": "stdout",
     "output_type": "stream",
     "text": [
      "Hello\n",
      "Nothing went wrong\n"
     ]
    }
   ],
   "source": [
    "try:\n",
    "  print(\"Hello\")\n",
    "except:\n",
    "  print(\"Something went wrong\")\n",
    "else:\n",
    "  print(\"Nothing went wrong\")"
   ]
  }
 ],
 "metadata": {
  "kernelspec": {
   "display_name": "Python 3.10.7 64-bit",
   "language": "python",
   "name": "python3"
  },
  "language_info": {
   "codemirror_mode": {
    "name": "ipython",
    "version": 3
   },
   "file_extension": ".py",
   "mimetype": "text/x-python",
   "name": "python",
   "nbconvert_exporter": "python",
   "pygments_lexer": "ipython3",
   "version": "3.10.7"
  },
  "orig_nbformat": 4,
  "vscode": {
   "interpreter": {
    "hash": "ea928f5d67c4c93314bde902f9925b00b35f33a7a7fd46f2f8b2a0108e4de065"
   }
  }
 },
 "nbformat": 4,
 "nbformat_minor": 2
}
