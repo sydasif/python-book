{
 "cells": [
  {
   "cell_type": "markdown",
   "metadata": {},
   "source": [
    "## Automation Tools and Languages\n",
    "\n",
    "Python is used for network automation, but it’s frequently used with other network automation software tools for automating network monitoring, configurations and maintenance activities.\n",
    "\n",
    "Some such tools are Ansible, Puppet, Chef and SatlStack which are discussed below:\n",
    "\n",
    "Ansible is open-source software that helps to automate software configuration, management and application deployment. It can configure routers, switches and various types of servers.\n",
    "\n",
    "Similarly, another open-source software, Puppet, is a good tool for configuration management. It runs on Microsoft Windows, and numerous Unix-like systems, and has its own declarative language too for system configuration description.\n",
    "\n",
    "Chef is another tool for configuration management, written in Ruby and Erlang. It's built on a DevOps model and can help in building reliable scalable systems.\n",
    "\n",
    "A Python-based open-source configuration management software, SatlStack, serves as a remote execution engine. As it uses the \"Infrastructure as Code\" methodology for deployment and cloud management, it is a competitive tool and can be used in the replacement of Puppet, Ansible, and Chef."
   ]
  },
  {
   "cell_type": "markdown",
   "metadata": {},
   "source": [
    "## What is Scripting?\n",
    "\n",
    "Any programming language that supports a script is known as a scripting language. It helps programmers in order to write programs for a distinct environment to automate the execution of a number of tasks which could otherwise be executed manually by a human operator, one by one.\n",
    "\n",
    "```{note}\n",
    "See more information on [website](https://docs.python.org/3.10/tutorial/appetite.html)\n",
    "```\n"
   ]
  }
 ],
 "metadata": {
  "kernelspec": {
   "display_name": "Python 3.10.7 64-bit",
   "language": "python",
   "name": "python3"
  },
  "language_info": {
   "name": "python",
   "version": "3.10.7"
  },
  "orig_nbformat": 4,
  "vscode": {
   "interpreter": {
    "hash": "ea928f5d67c4c93314bde902f9925b00b35f33a7a7fd46f2f8b2a0108e4de065"
   }
  }
 },
 "nbformat": 4,
 "nbformat_minor": 2
}
