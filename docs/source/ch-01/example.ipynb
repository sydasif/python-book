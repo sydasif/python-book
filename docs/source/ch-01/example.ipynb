{
 "cells": [
  {
   "cell_type": "markdown",
   "metadata": {},
   "source": [
    "# Python Scripting Examples\n",
    "\n",
    "As python scripting is a handy tool for network automation, typical manual tasks that can be automated are:\n",
    "\n",
    "- Configuring switches\n",
    "- Configuring routers\n",
    "- Configuration changes\n",
    "- Configuration management\n",
    "- Troubleshooting\n",
    "\n",
    "We need automation in networking to create a more efficient networking environment, improve network uptime and prevent mistakes. Network Automation is helping to solve the following:\n",
    "\n",
    "- Mistakes due to human error in configuring the devices\n",
    "- Repetitive tasks such as changing device logging credentials or time-based ACLs\n",
    "- Allows to reproduce and dispose of logs which may cause devices to crash\n",
    "- Deliver bug-free code on time"
   ]
  }
 ],
 "metadata": {
  "kernelspec": {
   "display_name": "Python 3.10.7 64-bit",
   "language": "python",
   "name": "python3"
  },
  "language_info": {
   "name": "python",
   "version": "3.10.7"
  },
  "orig_nbformat": 4,
  "vscode": {
   "interpreter": {
    "hash": "ea928f5d67c4c93314bde902f9925b00b35f33a7a7fd46f2f8b2a0108e4de065"
   }
  }
 },
 "nbformat": 4,
 "nbformat_minor": 2
}
