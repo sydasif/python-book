{
 "cells": [
  {
   "cell_type": "markdown",
   "metadata": {},
   "source": [
    "# Boolean expressions\n",
    "\n",
    "Boolean expressions are expressions in Python programming language that produces a Boolean value when evaluated. The value can either be `True` or `False`. In Python, `False` maps to `0` (zero) and `True` maps to `1` (one). Boolean operations are used to control the flow of a program and make a comparison. Python also provides the `bool()` function, which allows you to cast other types to `True` or `False`.\n",
    "\n",
    "This can be shown in the expressions below:"
   ]
  },
  {
   "cell_type": "code",
   "execution_count": 1,
   "metadata": {},
   "outputs": [
    {
     "name": "stdout",
     "output_type": "stream",
     "text": [
      "True\n"
     ]
    }
   ],
   "source": [
    "num = bool(2)\n",
    "if num == True:\n",
    "    print(num)"
   ]
  },
  {
   "cell_type": "markdown",
   "metadata": {},
   "source": [
    "```{Note}\n",
    "Python relies on indentation (whitespace at the beginning of a line) to define scope in the code.\n",
    "```"
   ]
  },
  {
   "cell_type": "markdown",
   "metadata": {},
   "source": [
    "When you want to compare two values in Python, you need to use `==` instead of a single `=`. A single `=` is known as the assignment operator, as was mentioned in previous chapters. It assigns the value on the right to the variable on the left.\n",
    "\n",
    "## What is False and True?\n",
    "\n",
    "The following elements are false:\n",
    "\n",
    "- `0` (whatever type from integer, float to complex)\n",
    "- Empty collections: `“ ”`, `()`, `[]`, `{}`\n",
    "\n",
    "All other objects are `True`."
   ]
  },
  {
   "cell_type": "markdown",
   "metadata": {},
   "source": [
    "## Comparisons Operator\n",
    "\n",
    "In Python programming, the Boolean comparison is used to compare two values and evaluate them down to a single value that can either be one or zero or rather `True` or `False`. Boolean is a subclass of the `int` class. There are several Boolean operators that can be used to evaluate an expression as either True or False. \n",
    "\n",
    "These expressions include:\n",
    "\n",
    "- Equals:                   `a == b`\n",
    "- Not Equals:               `a != b`\n",
    "- Less than:                `a < b`\n",
    "- Less than or equal to:    `a <= b`\n",
    "- Greater than:             `a > b`\n",
    "- Greater than or equal to: `a >= b`"
   ]
  },
  {
   "cell_type": "code",
   "execution_count": 2,
   "metadata": {},
   "outputs": [
    {
     "name": "stdout",
     "output_type": "stream",
     "text": [
      "False\n",
      "True\n"
     ]
    }
   ],
   "source": [
    "x = 5\n",
    "y = 10\n",
    "\n",
    "print(x == y) # Is 5 equal to 10?\n",
    "print(x != y) # Is 5 not equal to 10?"
   ]
  },
  {
   "cell_type": "markdown",
   "metadata": {},
   "source": [
    "## Logical operators\n",
    "\n",
    "Logical operators are operators that are used to compare two values and the final expression is evaluated down to a Boolean value `True` or `False`. These logical operations are given in the table below:\n",
    "\n",
    "- `and`\n",
    "- `not`\n",
    "- `or`"
   ]
  },
  {
   "cell_type": "markdown",
   "metadata": {},
   "source": [
    "For `AND` operator, both expressions must evaluate to `True` for the final Boolean expression to be `Tru`e else the final Boolean value will be `False`."
   ]
  },
  {
   "cell_type": "code",
   "execution_count": 3,
   "metadata": {},
   "outputs": [
    {
     "name": "stdout",
     "output_type": "stream",
     "text": [
      "True\n",
      "False\n"
     ]
    }
   ],
   "source": [
    "print((10 > 5) and (2 < 4))\n",
    "print((3 > 5) and (2 < 4))  "
   ]
  },
  {
   "cell_type": "markdown",
   "metadata": {},
   "source": [
    "```{Note}\n",
    "Boolean expression to evaluate to `False` then `AND` operator must have at least one `False` expression.\n",
    "```"
   ]
  },
  {
   "cell_type": "markdown",
   "metadata": {},
   "source": [
    "For the `OR` operation, at least one of the two operators must evaluate to `True` for the final Boolean expression to evaluate to `True`."
   ]
  },
  {
   "cell_type": "code",
   "execution_count": 4,
   "metadata": {},
   "outputs": [
    {
     "name": "stdout",
     "output_type": "stream",
     "text": [
      "True\n",
      "False\n"
     ]
    }
   ],
   "source": [
    "print((10 > 5) or (2 < 4))\n",
    "print((2 > 5) or (5 < 4)) "
   ]
  },
  {
   "cell_type": "markdown",
   "metadata": {},
   "source": [
    "```{Note}\n",
    "`OR` operation can evaluate to `False` only if both operations evaluate to `False`.\n",
    "```"
   ]
  },
  {
   "cell_type": "markdown",
   "metadata": {},
   "source": [
    "Lastly, `NOT` is the opposite of `Fals`e and `True` which means, its inner expression is `True` for the new expression to evaluate to `False` else it will evaluate to `True`."
   ]
  }
 ],
 "metadata": {
  "kernelspec": {
   "display_name": "Python 3.10.7 64-bit",
   "language": "python",
   "name": "python3"
  },
  "language_info": {
   "codemirror_mode": {
    "name": "ipython",
    "version": 3
   },
   "file_extension": ".py",
   "mimetype": "text/x-python",
   "name": "python",
   "nbconvert_exporter": "python",
   "pygments_lexer": "ipython3",
   "version": "3.10.7"
  },
  "orig_nbformat": 4,
  "vscode": {
   "interpreter": {
    "hash": "ea928f5d67c4c93314bde902f9925b00b35f33a7a7fd46f2f8b2a0108e4de065"
   }
  }
 },
 "nbformat": 4,
 "nbformat_minor": 2
}
