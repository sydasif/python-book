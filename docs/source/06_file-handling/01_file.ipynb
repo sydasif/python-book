{
 "cells": [
  {
   "cell_type": "markdown",
   "metadata": {},
   "source": [
    "# Working with Files\n",
    "\n",
    "This section is focused on how to read and write data from files and updating or deleting files.\n",
    "\n",
    "In this chapter you will learn how to:\n",
    "\n",
    "- Open files\n",
    "- Read files\n",
    "- Write files\n",
    "- Append to files\n",
    "\n",
    "## open() function\n",
    "\n",
    "Before performing any operation on the file like reading or writing, first, we have to open that file. The key function for working with files in Python is the `open()` function. The `open()` function takes two parameters, filename/filepath, and mode. The default opening mode of a file is read-only mode. There are four different methods (modes) for opening a file:\n",
    "\n",
    "- \"r\" - Read - Default mode. Opens a file for reading\n",
    "- \"a\" - Append - Opens a file for appending\n",
    "- \"w\" - Write - Opens a file for writing\n",
    "- \"x\" - Create - Creates the specified file\n",
    "- \"b\" - binary mode\n",
    "- \"t\" - text mode (default)\n",
    "- \"+\" - reading and writing\n",
    "\n",
    "To open a file for reading it is enough to specify the name or full path of the file:"
   ]
  },
  {
   "cell_type": "code",
   "execution_count": 18,
   "metadata": {},
   "outputs": [],
   "source": [
    "f = open(\"my_file.txt\", \"rt\")"
   ]
  },
  {
   "cell_type": "markdown",
   "metadata": {},
   "source": [
    "The code above is the same as:"
   ]
  },
  {
   "cell_type": "code",
   "execution_count": 19,
   "metadata": {},
   "outputs": [],
   "source": [
    "f = open(\"my_file.txt\")"
   ]
  },
  {
   "cell_type": "markdown",
   "metadata": {},
   "source": [
    "Because `\"r\"` for read, and `\"t\"` for text are the default values, you do not need to specify them.\n",
    "\n",
    "```{Note}\n",
    "If the file does not exists, you will get an error.\n",
    "```\n",
    "\n",
    "When we open a file without set the mode argument, the default is to open the file in “read-only” mode. The `open()` function returns a file object, which has a `read()` method for reading the content of the file."
   ]
  },
  {
   "cell_type": "code",
   "execution_count": 20,
   "metadata": {},
   "outputs": [
    {
     "name": "stdout",
     "output_type": "stream",
     "text": [
      "Hello! Welcome to text file.\n",
      "This file is for testing purposes only.\n"
     ]
    }
   ],
   "source": [
    "# the file, located in the same folder\n",
    "f = open(\"my_file.txt\")\n",
    "print(f.read())\n",
    "# Always close the file when you are done with it.\n",
    "f.close()"
   ]
  },
  {
   "cell_type": "markdown",
   "metadata": {},
   "source": [
    "If the file is located in a different location, you will have to specify the file path. By default the `read()` method returns the whole text, but we can return one line by using the `readline()` method"
   ]
  },
  {
   "cell_type": "code",
   "execution_count": 21,
   "metadata": {},
   "outputs": [
    {
     "name": "stdout",
     "output_type": "stream",
     "text": [
      "Hello! Welcome to text file.\n",
      "\n",
      "This file is for testing purposes only.\n"
     ]
    }
   ],
   "source": [
    "f = open(\"my_file.txt\")\n",
    "print(f.readline())\n",
    "print(f.readline()) # Read the 2nd lines\n",
    "f.close()"
   ]
  },
  {
   "cell_type": "markdown",
   "metadata": {},
   "source": [
    "To write to an existing file, you must add a parameter to the `open()` function."
   ]
  },
  {
   "cell_type": "code",
   "execution_count": 26,
   "metadata": {},
   "outputs": [
    {
     "name": "stdout",
     "output_type": "stream",
     "text": [
      "Hello! Welcome to text file.\n",
      "This file is for testing purposes only.\n",
      "Now more content added in the file.\n",
      "\n"
     ]
    }
   ],
   "source": [
    "f = open(\"my_file.txt\", \"a\")\n",
    "# '\\n' add new line \n",
    "f.write(\"Now more content added in the file.\\n\") \n",
    "f.close()\n",
    "\n",
    "# Read the file after the appending\n",
    "f = open(\"my_file.txt\")\n",
    "print(f.read())\n",
    "f.close()"
   ]
  },
  {
   "cell_type": "code",
   "execution_count": 27,
   "metadata": {},
   "outputs": [
    {
     "name": "stdout",
     "output_type": "stream",
     "text": [
      "I have deleted the all content!\n"
     ]
    }
   ],
   "source": [
    "# the \"w\" method will overwrite the entire file.\n",
    "f = open(\"my_file.txt\", \"w\")\n",
    "f.write(\"I have deleted the all content!\")\n",
    "f.close()\n",
    "\n",
    "# Read the file after the write\n",
    "f = open(\"my_file.txt\")\n",
    "print(f.read())\n",
    "f.close()"
   ]
  },
  {
   "cell_type": "markdown",
   "metadata": {},
   "source": [
    "To create a new file in Python, use the `open()` method, with one of the following parameters:\n",
    "\n",
    "- \"x\" - create a file, returns an error if the file exist\n",
    "- \"a\" - create a file if the specified file does not exist\n",
    "- \"w\" - create a file if the specified file does not exist\n",
    "\n",
    "A new empty file will be created.\n",
    "\n",
    "```py\n",
    "f = open(\"myfile.txt\", \"x\")\n",
    "```\n",
    "\n",
    "Create a new file if it does not exist:\n",
    "\n",
    "```py\n",
    "f = open(\"myfile.txt\", \"w\")\n",
    "```"
   ]
  }
 ],
 "metadata": {
  "kernelspec": {
   "display_name": "Python 3.10.7 64-bit",
   "language": "python",
   "name": "python3"
  },
  "language_info": {
   "codemirror_mode": {
    "name": "ipython",
    "version": 3
   },
   "file_extension": ".py",
   "mimetype": "text/x-python",
   "name": "python",
   "nbconvert_exporter": "python",
   "pygments_lexer": "ipython3",
   "version": "3.10.7"
  },
  "orig_nbformat": 4,
  "vscode": {
   "interpreter": {
    "hash": "ea928f5d67c4c93314bde902f9925b00b35f33a7a7fd46f2f8b2a0108e4de065"
   }
  }
 },
 "nbformat": 4,
 "nbformat_minor": 2
}
