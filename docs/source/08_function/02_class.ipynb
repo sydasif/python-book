{
 "cells": [
  {
   "cell_type": "markdown",
   "metadata": {},
   "source": [
    "# Classes and Objects\n",
    "\n",
    "Everything in Python is an object, which means everything we create in Python has functions/methods or attributes or both attached to an object. This is because everything in Python comes from a class.\n",
    "\n",
    "Class is a building block (blueprint) of the object. The class is created using the keyword `class`. A class is a code template for creating objects.\n",
    "\n",
    "## Class Creation\n",
    "\n",
    "For example, we want to create a blueprint for a car. A car has the following attributes (properties):\n",
    "\n",
    "- Type of color\n",
    "- Type of fuel\n",
    "\n",
    "Cars also have some actions or functions. Those actions are called methods in a class. A method is just a function inside of a class.\n",
    "\n",
    "- Type of car\n",
    "- Capacity of car\n",
    "\n",
    "The class is created using the keyword `class` as below:"
   ]
  },
  {
   "cell_type": "code",
   "execution_count": 42,
   "metadata": {},
   "outputs": [],
   "source": [
    "class Car:\n",
    "    \n",
    "    # defining constructor\n",
    "    def __init__(self, color, fuel):\n",
    "        self.color = color\n",
    "        self.fuel = fuel"
   ]
  },
  {
   "cell_type": "markdown",
   "metadata": {},
   "source": [
    "A class is a blueprint for how something should be defined. It doesn’t actually contain any data. All class definitions start with the `class` keyword, which is followed by the name of the class and a `colon`. Any code that is indented below the class definition is considered part of the class’s body.\n",
    "\n",
    "```{Note}\n",
    "Python class names are written in CapitalizedWords: `MyClass` or `My_Class`\n",
    "```\n",
    "\n",
    "## Object/instance\n",
    "\n",
    "Class is a blueprint, an instance is an object that is built from a class and contains data. An instance of the `Car` class is not a blueprint anymore as below:"
   ]
  },
  {
   "cell_type": "code",
   "execution_count": 43,
   "metadata": {},
   "outputs": [
    {
     "name": "stdout",
     "output_type": "stream",
     "text": [
      "Color Type: Red\n",
      "Fule Type: Petrol\n"
     ]
    }
   ],
   "source": [
    "# Create an object of the class\n",
    "mike_car = Car(\"Red\", \"Petrol\")\n",
    "# Calling the objects\n",
    "print(f\"Color Type: {mike_car.color}\")\n",
    "print(f\"Fule Type: {mike_car.fuel}\")"
   ]
  },
  {
   "cell_type": "markdown",
   "metadata": {},
   "source": [
    "## Instance Methods\n",
    "\n",
    "Instance methods are functions that are defined inside a class and can only be called from an instance of that class, an instance method’s first parameter is always `self`."
   ]
  },
  {
   "cell_type": "code",
   "execution_count": 44,
   "metadata": {},
   "outputs": [
    {
     "name": "stdout",
     "output_type": "stream",
     "text": [
      "Car has Red color and fule type is Petrol.\n"
     ]
    }
   ],
   "source": [
    "class Car:\n",
    "    \n",
    "    # defining constructor\n",
    "    def __init__(self, color, fuel):\n",
    "        self.color = color\n",
    "        self.fuel = fuel\n",
    "\n",
    "    # defining class methods \n",
    "    def type(self):\n",
    "        description = f\"Car has {self.color} color and fule type is {self.fuel}.\"\n",
    "        return description \n",
    "\n",
    "# Create an object of the class\n",
    "mike_car = Car(\"Red\", \"Petrol\")\n",
    "# Call methods of the objects\n",
    "print(mike_car.type())        "
   ]
  },
  {
   "cell_type": "markdown",
   "metadata": {},
   "source": [
    "Add some more methods:"
   ]
  },
  {
   "cell_type": "code",
   "execution_count": 49,
   "metadata": {},
   "outputs": [
    {
     "name": "stdout",
     "output_type": "stream",
     "text": [
      "Car owner name is 'Mike' and has Red color, fule type is Petrol and capacity is: 3\n"
     ]
    }
   ],
   "source": [
    "class Car:\n",
    "    \n",
    "    def __init__(self, color, fuel):\n",
    "        self.color = color\n",
    "        self.fuel = fuel\n",
    "\n",
    "    def owner(self, name):\n",
    "        self.name = name\n",
    "        return f\"Car owner name is {self.name}\"\n",
    "    \n",
    "    def type(self):\n",
    "        description = f\"and has {self.color} color, fule type is {self.fuel}\"\n",
    "        return description\n",
    "\n",
    "    def capacity(self, num):\n",
    "        self.num = num\n",
    "        return f\"and capacity is: {self.num}\"\n",
    "\n",
    "mike = Car(\"Red\", \"Petrol\")\n",
    "car_owner = mike.owner(\"'Mike'\")\n",
    "car_type = mike.type()\n",
    "car_cap = mike.capacity(3)\n",
    "\n",
    "car_description = f\"{car_owner} {car_type} {car_cap}\"\n",
    "print(car_description)"
   ]
  },
  {
   "cell_type": "markdown",
   "metadata": {},
   "source": [
    "The topic of `OOP` is huge, there is a lot more to Python objects and `OOP` and can't cover at all."
   ]
  }
 ],
 "metadata": {
  "kernelspec": {
   "display_name": "Python 3.10.7 64-bit",
   "language": "python",
   "name": "python3"
  },
  "language_info": {
   "codemirror_mode": {
    "name": "ipython",
    "version": 3
   },
   "file_extension": ".py",
   "mimetype": "text/x-python",
   "name": "python",
   "nbconvert_exporter": "python",
   "pygments_lexer": "ipython3",
   "version": "3.10.7"
  },
  "orig_nbformat": 4,
  "vscode": {
   "interpreter": {
    "hash": "ea928f5d67c4c93314bde902f9925b00b35f33a7a7fd46f2f8b2a0108e4de065"
   }
  }
 },
 "nbformat": 4,
 "nbformat_minor": 2
}
