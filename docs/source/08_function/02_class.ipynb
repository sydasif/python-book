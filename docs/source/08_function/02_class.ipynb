{
 "cells": [
  {
   "cell_type": "markdown",
   "metadata": {},
   "source": [
    "# Classes and Objects\n",
    "\n",
    "Everything in Python is an object, that means everything we create in Python has functions/methods or attributes or both attached to an object. This is because everything in Python comes from a class.\n",
    "\n",
    "Class in a building block (blueprint) of the object. The class is created using the keyword `class`. A class is a code template for creating objects.\n",
    "\n",
    "## Class Creation\n",
    "\n",
    "For example we want to create a blueprint about a car. A Car has the following attributes (propeties):\n",
    "\n",
    "- Type of engine\n",
    "- Type of fuel\n",
    "- and Color\n",
    "\n",
    "Cars also have some actions or functions. Those actions are called methods in a class. A method is just a function inside of a class.\n",
    "\n",
    "- Type of car\n",
    "- Capacity of car\n",
    "\n",
    "The class is created using the keyword `class` as below:"
   ]
  },
  {
   "cell_type": "code",
   "execution_count": 21,
   "metadata": {},
   "outputs": [],
   "source": [
    "class Car:\n",
    "    \n",
    "    def __init__(self, engine, fuel):\n",
    "        \"\"\"Initializer\"\"\"\n",
    "        self.engine = engine\n",
    "        self.fuel = fuel"
   ]
  },
  {
   "cell_type": "markdown",
   "metadata": {},
   "source": [
    "A class is a blueprint for how something should be defined. It doesn’t actually contain any data. All class definitions start with the `class` keyword, which is followed by the name of the class and a `colon`. Any code that is indented below the class definition is considered part of the class’s body.\n",
    "\n",
    "```{Note}\n",
    "Python class names are written in CapitalizedWords: `MyClass` or `My_Class`\n",
    "```\n",
    "\n",
    "## Create Object/instance\n",
    "\n",
    "Class is a blueprint, an instance is an object that is built from a class and contains data. An instance of the `Car` class is not a blueprint anymore as below:"
   ]
  },
  {
   "cell_type": "code",
   "execution_count": 22,
   "metadata": {},
   "outputs": [
    {
     "name": "stdout",
     "output_type": "stream",
     "text": [
      "Mike Car engine capacity: 1.8\n",
      "Fule Type: Petrol\n"
     ]
    }
   ],
   "source": [
    "mike_car = Car(1.8, \"Petrol\")\n",
    "print(f\"Mike Car engine capacity: {mike_car.engine}\")\n",
    "print(f\"Fule Type: {mike_car.fuel}\")"
   ]
  }
 ],
 "metadata": {
  "kernelspec": {
   "display_name": "Python 3.10.7 64-bit",
   "language": "python",
   "name": "python3"
  },
  "language_info": {
   "codemirror_mode": {
    "name": "ipython",
    "version": 3
   },
   "file_extension": ".py",
   "mimetype": "text/x-python",
   "name": "python",
   "nbconvert_exporter": "python",
   "pygments_lexer": "ipython3",
   "version": "3.10.7"
  },
  "orig_nbformat": 4,
  "vscode": {
   "interpreter": {
    "hash": "ea928f5d67c4c93314bde902f9925b00b35f33a7a7fd46f2f8b2a0108e4de065"
   }
  }
 },
 "nbformat": 4,
 "nbformat_minor": 2
}
