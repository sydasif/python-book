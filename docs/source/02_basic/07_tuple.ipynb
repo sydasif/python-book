{
 "cells": [
  {
   "cell_type": "markdown",
   "metadata": {},
   "source": [
    "# Python Tuples\n",
    "\n",
    "A tuple is a collection of objects in Python with separations using commas. In some ways, a tuple is similar to a list in terms of indexing, nested objects and repetition but a tuple is immutable, unlike lists which are mutable. The differences between tuples and lists are, the tuples cannot be changed unlike lists and tuples use parentheses, whereas lists use square brackets."
   ]
  },
  {
   "cell_type": "code",
   "execution_count": 1,
   "metadata": {},
   "outputs": [
    {
     "name": "stdout",
     "output_type": "stream",
     "text": [
      "<class 'tuple'>\n",
      "('Hello', 'Python')\n"
     ]
    }
   ],
   "source": [
    "# creates a tuple and assigns the elements\n",
    "my_tup = (\"Hello\", \"Python\")\n",
    "print(type(my_tup))\n",
    "print(my_tup)"
   ]
  },
  {
   "cell_type": "markdown",
   "metadata": {},
   "source": [
    "The sample code below shows that tuples allow repetition, is immutable, and can be concatenated and nesting tuples. On testing the code, it is found that tuples are immutable."
   ]
  },
  {
   "cell_type": "code",
   "execution_count": 2,
   "metadata": {},
   "outputs": [
    {
     "name": "stdout",
     "output_type": "stream",
     "text": [
      "(0, 1, 2, 3, 'python', 'ruby')\n"
     ]
    }
   ],
   "source": [
    "# Concatenating 2 tuple\n",
    "tup1 = (0, 1, 2, 3)\n",
    "tup2 = (\"python\", \"ruby\")\n",
    "print(tup1 + tup2)"
   ]
  },
  {
   "cell_type": "code",
   "execution_count": 3,
   "metadata": {},
   "outputs": [
    {
     "name": "stdout",
     "output_type": "stream",
     "text": [
      "(0, 1, 2, 3, 'python', 'ruby')\n"
     ]
    }
   ],
   "source": [
    "# nested tuple\n",
    "tup1 = (0, 1, 2, 3)\n",
    "tup2 = (\"python\", \"ruby\")\n",
    "tup3 = (tup1 + tup2)\n",
    "print(tup3)"
   ]
  },
  {
   "cell_type": "markdown",
   "metadata": {},
   "source": [
    "## Differences between Tuples and Lists\n",
    "\n",
    "The difference between a list and a tuple is that lists are mutable while the tuples are immutable. Due to this tuples are simpler, they never change and don't have any of the useful properties found in lists that make working with lists so powerful."
   ]
  }
 ],
 "metadata": {
  "kernelspec": {
   "display_name": "Python 3.10.7 64-bit",
   "language": "python",
   "name": "python3"
  },
  "language_info": {
   "codemirror_mode": {
    "name": "ipython",
    "version": 3
   },
   "file_extension": ".py",
   "mimetype": "text/x-python",
   "name": "python",
   "nbconvert_exporter": "python",
   "pygments_lexer": "ipython3",
   "version": "3.10.7"
  },
  "orig_nbformat": 4,
  "vscode": {
   "interpreter": {
    "hash": "ea928f5d67c4c93314bde902f9925b00b35f33a7a7fd46f2f8b2a0108e4de065"
   }
  }
 },
 "nbformat": 4,
 "nbformat_minor": 2
}
