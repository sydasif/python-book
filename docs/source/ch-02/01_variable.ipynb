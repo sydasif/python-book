{
 "cells": [
  {
   "cell_type": "markdown",
   "metadata": {
    "tags": []
   },
   "source": [
    "# Python Variables\n",
    "\n",
    "A variable is a storage location with a name and a value in Python, variables are names that can be assigned a value and then used to refer to that value in your code. Variables are fundamental to programming for two reasons:\n",
    "\n",
    "- variables keep values accessible\n",
    "- variables give values context\n",
    "\n",
    "## Creating Variables\n",
    "\n",
    "Python has no command for declaring a variable. A variable is created at the moment you first assign a value to it."
   ]
  },
  {
   "cell_type": "code",
   "execution_count": 4,
   "metadata": {},
   "outputs": [
    {
     "name": "stdout",
     "output_type": "stream",
     "text": [
      "5\n",
      "10.1.1.1\n"
     ]
    }
   ],
   "source": [
    "vlan_num = 5\n",
    "ip_addr = \"10.1.1.1\"\n",
    "print(vlan_num)\n",
    "print(ip_addr)"
   ]
  },
  {
   "cell_type": "markdown",
   "metadata": {},
   "source": [
    "You can get the data type of a variable with the `type()` function."
   ]
  },
  {
   "cell_type": "code",
   "execution_count": 5,
   "metadata": {},
   "outputs": [
    {
     "name": "stdout",
     "output_type": "stream",
     "text": [
      "<class 'int'>\n",
      "<class 'str'>\n"
     ]
    }
   ],
   "source": [
    "vlan_num = 5\n",
    "ip_addr = \"10.1.1.1\"\n",
    "print(type(vlan_num))\n",
    "print(type(ip_addr))"
   ]
  },
  {
   "cell_type": "markdown",
   "metadata": {},
   "source": [
    "## The Assignment Operator\n",
    "\n",
    "An operator is a symbol, that performs an operation on one or more values. Values are assigned to a variable using a special symbol called the assignment operator `=`. The `=` operator takes the value to the right of the operator and assigns it to the name on the left."
   ]
  },
  {
   "cell_type": "code",
   "execution_count": 6,
   "metadata": {},
   "outputs": [
    {
     "name": "stdout",
     "output_type": "stream",
     "text": [
      "Router-01\n"
     ]
    }
   ],
   "source": [
    "hostName = \"Router-01\"\n",
    "print(hostName)"
   ]
  },
  {
   "cell_type": "markdown",
   "metadata": {},
   "source": [
    "String variables can be declared either by using single `''` or double quotes `\"\"`."
   ]
  },
  {
   "cell_type": "code",
   "execution_count": 7,
   "metadata": {},
   "outputs": [
    {
     "name": "stdout",
     "output_type": "stream",
     "text": [
      "Router-01\n",
      "Router-01\n"
     ]
    }
   ],
   "source": [
    "hostName = \"Router-01\"\n",
    "print(hostName)\n",
    "hostName = 'Router-01'\n",
    "print(hostName)"
   ]
  },
  {
   "cell_type": "markdown",
   "metadata": {},
   "source": [
    "## Valid Variable Names\n",
    "\n",
    "Variable names can be as long or as short as you like, but there are a few rules to follow. Rules for Python variables:\n",
    "\n",
    "- A variable name must start with a letter or the underscore character.\n",
    "- A variable name cannot start with a number.\n",
    "- A variable name can only contain alpha-numeric characters and underscores (`A-z`, `0-9`, and `_` ).\n",
    "- Variable names are case-sensitive (`ipaddr`, `Ipaddr` and `IPADDR` are three different variables)"
   ]
  },
  {
   "cell_type": "code",
   "execution_count": null,
   "metadata": {},
   "outputs": [],
   "source": [
    "# Camel Case - Each word, except the first, starts with a capital letter:\n",
    "myVariableName = \"Ali\"\n",
    "# Pascal Case - Each word starts with a capital letter:\n",
    "MyVariableName = \"Ali\"\n",
    "# Snake Case - Each word is separated by an underscore character:\n",
    "my_variable_name = \"Ali\""
   ]
  },
  {
   "cell_type": "markdown",
   "metadata": {},
   "source": [
    "```{Note}\n",
    "Remember that variable names are case-sensitive.\n",
    "```"
   ]
  },
  {
   "cell_type": "markdown",
   "metadata": {},
   "source": [
    "## Type Casting in Python\n",
    "\n",
    "Type casting is a method used to change the variable  value into a different data type to match the operation required to be performed by the programer. In python, this feature can be accomplished by using built-in functions like `int()`, `str()`, `float()`, etc.\n",
    "\n",
    "In this example, we shall take an integer literal assigned to a variable. Then we shall typecast this integer to float using `float()` function."
   ]
  },
  {
   "cell_type": "code",
   "execution_count": 1,
   "metadata": {},
   "outputs": [
    {
     "name": "stdout",
     "output_type": "stream",
     "text": [
      "100.0\n",
      "<class 'float'>\n"
     ]
    }
   ],
   "source": [
    "#integer\n",
    "num = 100\n",
    "\n",
    "#float\n",
    "num_float = float(num)\n",
    "print(num_float)\n",
    "print(type(num_float))"
   ]
  },
  {
   "cell_type": "markdown",
   "metadata": {},
   "source": [
    "In the following code, we shall initialize a variable with float value. then, we typecast this float to integer using `int()`."
   ]
  },
  {
   "cell_type": "code",
   "execution_count": 2,
   "metadata": {},
   "outputs": [
    {
     "name": "stdout",
     "output_type": "stream",
     "text": [
      "99\n",
      "<class 'int'>\n"
     ]
    }
   ],
   "source": [
    "#float\n",
    "num = 99.9\n",
    "\n",
    "#integer\n",
    "num_int = int(num)\n",
    "print(num_int)\n",
    "print(type(num_int))"
   ]
  },
  {
   "cell_type": "markdown",
   "metadata": {},
   "source": [
    "In this example, we shall use `int()` and `float()` to typecast a string literal to integer and float"
   ]
  },
  {
   "cell_type": "code",
   "execution_count": 5,
   "metadata": {},
   "outputs": [
    {
     "name": "stdout",
     "output_type": "stream",
     "text": [
      "132\n",
      "<class 'int'>\n",
      "132.0\n",
      "<class 'float'>\n"
     ]
    }
   ],
   "source": [
    "#string\n",
    "s = '132'\n",
    "\n",
    "#typecast to integer\n",
    "n = int(s)\n",
    "print(n)\n",
    "print(type(n))\n",
    "\n",
    "#typecast to float\n",
    "f = float(s)\n",
    "print(f)\n",
    "print(type(f))"
   ]
  },
  {
   "cell_type": "markdown",
   "metadata": {},
   "source": [
    "```{Note}\n",
    "Please note that, if you have decimal point in the string, you cannot typecast that directly to an integer. You should first typecast string to float and then that to integer. Following is a quick code snippet for the same.\n",
    "```\n",
    "\n",
    "```py\n",
    "#string\n",
    "s = '132.564'\n",
    "\n",
    "#typecast to integer\n",
    "n = int(float(s))\n",
    "```"
   ]
  }
 ],
 "metadata": {
  "kernelspec": {
   "display_name": "Python 3.10.7 64-bit",
   "language": "python",
   "name": "python3"
  },
  "language_info": {
   "codemirror_mode": {
    "name": "ipython",
    "version": 3
   },
   "file_extension": ".py",
   "mimetype": "text/x-python",
   "name": "python",
   "nbconvert_exporter": "python",
   "pygments_lexer": "ipython3",
   "version": "3.10.7"
  },
  "orig_nbformat": 4,
  "vscode": {
   "interpreter": {
    "hash": "ea928f5d67c4c93314bde902f9925b00b35f33a7a7fd46f2f8b2a0108e4de065"
   }
  }
 },
 "nbformat": 4,
 "nbformat_minor": 2
}
