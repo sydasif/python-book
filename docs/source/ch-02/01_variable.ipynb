{
 "cells": [
  {
   "cell_type": "markdown",
   "metadata": {
    "tags": []
   },
   "source": [
    "# Python Variables\n",
    "\n",
    "A variable is a storage location with a name and a value in Python, variables are names that can be assigned a value and then used to refer to that value in your code. Variables are fundamental to programming for two reasons:\n",
    "\n",
    "- variables keep values accessible\n",
    "- variables give values context\n",
    "\n",
    "## Creating Variables\n",
    "\n",
    "Python has no command for declaring a variable. A variable is created at the moment you first assign a value to it."
   ]
  },
  {
   "cell_type": "code",
   "execution_count": 4,
   "metadata": {},
   "outputs": [
    {
     "name": "stdout",
     "output_type": "stream",
     "text": [
      "5\n",
      "10.1.1.1\n"
     ]
    }
   ],
   "source": [
    "vlan_num = 5\n",
    "ip_addr = \"10.1.1.1\"\n",
    "print(vlan_num)\n",
    "print(ip_addr)"
   ]
  },
  {
   "cell_type": "markdown",
   "metadata": {},
   "source": [
    "You can get the data type of a variable with the `type()` function."
   ]
  },
  {
   "cell_type": "code",
   "execution_count": 5,
   "metadata": {},
   "outputs": [
    {
     "name": "stdout",
     "output_type": "stream",
     "text": [
      "<class 'int'>\n",
      "<class 'str'>\n"
     ]
    }
   ],
   "source": [
    "vlan_num = 5\n",
    "ip_addr = \"10.1.1.1\"\n",
    "print(type(vlan_num))\n",
    "print(type(ip_addr))"
   ]
  },
  {
   "cell_type": "markdown",
   "metadata": {},
   "source": [
    "## The Assignment Operator\n",
    "\n",
    "An operator is a symbol, that performs an operation on one or more values. Values are assigned to a variable using a special symbol called the assignment operator `=`. The `=` operator takes the value to the right of the operator and assigns it to the name on the left."
   ]
  },
  {
   "cell_type": "code",
   "execution_count": 6,
   "metadata": {},
   "outputs": [
    {
     "name": "stdout",
     "output_type": "stream",
     "text": [
      "Router-01\n"
     ]
    }
   ],
   "source": [
    "hostName = \"Router-01\"\n",
    "print(hostName)"
   ]
  },
  {
   "cell_type": "markdown",
   "metadata": {},
   "source": [
    "String variables can be declared either by using single `''` or double quotes `\"\"`."
   ]
  },
  {
   "cell_type": "code",
   "execution_count": 7,
   "metadata": {},
   "outputs": [
    {
     "name": "stdout",
     "output_type": "stream",
     "text": [
      "Router-01\n",
      "Router-01\n"
     ]
    }
   ],
   "source": [
    "hostName = \"Router-01\"\n",
    "print(hostName)\n",
    "hostName = 'Router-01'\n",
    "print(hostName)"
   ]
  },
  {
   "cell_type": "markdown",
   "metadata": {},
   "source": [
    "```{Note}\n",
    "Variable names are case-sensitive. `a = 4` and `A = \"Python\". `A` will not overwrite `a`.\n",
    "```"
   ]
  },
  {
   "cell_type": "markdown",
   "metadata": {},
   "source": [
    "## Valid Variable Names\n",
    "\n",
    "Variable names can be as long or as short as you like, but there are a few rules to follow. Variable names may contain uppercase and lowercase letters, digits, and underscores, but they cannot begin with a digit.\n",
    "\n",
    "- string1\n",
    "- list_of_names"
   ]
  }
 ],
 "metadata": {
  "kernelspec": {
   "display_name": "Python 3.10.7 64-bit",
   "language": "python",
   "name": "python3"
  },
  "language_info": {
   "codemirror_mode": {
    "name": "ipython",
    "version": 3
   },
   "file_extension": ".py",
   "mimetype": "text/x-python",
   "name": "python",
   "nbconvert_exporter": "python",
   "pygments_lexer": "ipython3",
   "version": "3.10.7"
  },
  "orig_nbformat": 4,
  "vscode": {
   "interpreter": {
    "hash": "ea928f5d67c4c93314bde902f9925b00b35f33a7a7fd46f2f8b2a0108e4de065"
   }
  }
 },
 "nbformat": 4,
 "nbformat_minor": 2
}
