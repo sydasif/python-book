{
 "cells": [
  {
   "cell_type": "markdown",
   "metadata": {
    "tags": []
   },
   "source": [
    "# Python Variables\n",
    "\n",
    "A variable is a storage location with a name and a value, in Python, variables are names that can be assigned a value and then used to refer to that value in your code. Variables are fundamental to programming for two reasons:\n",
    "\n",
    "- variables keep values accessible\n",
    "- variables give values context\n",
    "\n",
    "## The Assignment Operator\n",
    "\n",
    "An operator is a symbol, such as `+`, that performs an operation on one or more values. Values are assigned to variable names using a special symbol called the assignment operator `=`. The `=` operator takes the value to the right of the operator and assigns it to the name on the left."
   ]
  },
  {
   "cell_type": "code",
   "execution_count": 1,
   "metadata": {},
   "outputs": [
    {
     "name": "stdout",
     "output_type": "stream",
     "text": [
      "Router-01\n"
     ]
    }
   ],
   "source": [
    "hostName = \"Router-01\"\n",
    "print(hostName)"
   ]
  },
  {
   "cell_type": "markdown",
   "metadata": {},
   "source": [
    "The code below creates a variable `num` and assigns it an integer `14`. The program also creates a variable name `name` and assigns it a character name `Ali`. The program finally prints the variables `num` and `name`."
   ]
  },
  {
   "cell_type": "code",
   "execution_count": 8,
   "metadata": {},
   "outputs": [
    {
     "name": "stdout",
     "output_type": "stream",
     "text": [
      "14\n"
     ]
    }
   ],
   "source": [
    "# num as an integer\n",
    "num = 14\n",
    "print(num)"
   ]
  },
  {
   "cell_type": "code",
   "execution_count": 9,
   "metadata": {},
   "outputs": [
    {
     "name": "stdout",
     "output_type": "stream",
     "text": [
      "Ali\n"
     ]
    }
   ],
   "source": [
    "# name as a string\n",
    "name = \"Ali\"\n",
    "print(name)"
   ]
  },
  {
   "cell_type": "markdown",
   "metadata": {},
   "source": [
    "## Valid Variable Names\n",
    "\n",
    "Variable names can be as long or as short as you like, but there are a few rules to follow. Variable names may contain uppercase and lowercase letters, digits, and underscores, but they cannot begin with a digit.\n",
    "\n",
    "- string1\n",
    "- list_of_names"
   ]
  }
 ],
 "metadata": {
  "kernelspec": {
   "display_name": "Python 3.10.7 64-bit",
   "language": "python",
   "name": "python3"
  },
  "language_info": {
   "codemirror_mode": {
    "name": "ipython",
    "version": 3
   },
   "file_extension": ".py",
   "mimetype": "text/x-python",
   "name": "python",
   "nbconvert_exporter": "python",
   "pygments_lexer": "ipython3",
   "version": "3.10.7"
  },
  "orig_nbformat": 4,
  "vscode": {
   "interpreter": {
    "hash": "ea928f5d67c4c93314bde902f9925b00b35f33a7a7fd46f2f8b2a0108e4de065"
   }
  }
 },
 "nbformat": 4,
 "nbformat_minor": 2
}
