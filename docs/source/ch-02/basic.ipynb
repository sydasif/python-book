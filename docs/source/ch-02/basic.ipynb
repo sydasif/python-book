{
 "cells": [
  {
   "cell_type": "markdown",
   "metadata": {},
   "source": [
    "# Basic elements of Python\n",
    "\n",
    "This chapter focuses on the basic fundamentals of the Python programming language that are needed to write a program or a script. Python has different data types, sets, strings, lists and dictionaries that are important in programming. Lists store sequence of objects in an order and iterate over the list. Lists are mutable, unlike dictionaries which are not mutable.\n",
    "\n",
    "Variables in Python mainly refer to the storage location. These variables can be assigned one or more values. Python also has several data types including numeric data types and named constants. There are also a set of characters called strings that are contained in Python.\n",
    "\n",
    "Lists in Python are sequences of ordered elements that are mutable. Sets, on the other hand, are Python collection of unordered elements that are immutable. Tuples are also Python elements that describe immutable objects but uses parenthesis."
   ]
  },
  {
   "cell_type": "markdown",
   "metadata": {
    "tags": []
   },
   "source": [
    "## Python Variables\n",
    "\n",
    "A variable is a storage location with name and a value, in the Python language, there is no specific command that is used to declare a variable. A variable in Python is only declared when it is first assigned to a value. A variable can have a short name or a descriptive name. The main rules for naming variables in Python include; \n",
    "\n",
    "- A variable name can only start with underscore character or a letter.\n",
    "- A variable name cannot begin with a number.\n",
    "- Variable names are case-sensitive."
   ]
  },
  {
   "cell_type": "markdown",
   "metadata": {},
   "source": [
    "### Assigning Values to Variables\n",
    "\n",
    "The code below creates a variable name “num” and assigns it an integer 14. The program also creates a variable name “name” and assigns it a character name “Ali”. The program finally prints the variables “num” and “name”."
   ]
  },
  {
   "cell_type": "code",
   "execution_count": 8,
   "metadata": {},
   "outputs": [
    {
     "name": "stdout",
     "output_type": "stream",
     "text": [
      "14\n"
     ]
    }
   ],
   "source": [
    "# num as an integer\n",
    "num = 14\n",
    "print(num)"
   ]
  },
  {
   "cell_type": "code",
   "execution_count": 9,
   "metadata": {},
   "outputs": [
    {
     "name": "stdout",
     "output_type": "stream",
     "text": [
      "Ali\n"
     ]
    }
   ],
   "source": [
    "# name as a string\n",
    "name = \"Ali\"\n",
    "print(name)"
   ]
  },
  {
   "cell_type": "markdown",
   "metadata": {},
   "source": [
    "### Multiple Assignment\n",
    "\n",
    "Multiple assignments is assigning the same variable to more than one value. That means one variable can have one value in one instance and a different value in the second instance. The code below creates a variable name “x” and assigns it an integer value “20” then prints the value. The program then reassigns the variable “x” to a character (string) value of “Car” and prints the variable."
   ]
  },
  {
   "cell_type": "code",
   "execution_count": 10,
   "metadata": {},
   "outputs": [
    {
     "name": "stdout",
     "output_type": "stream",
     "text": [
      "20\n"
     ]
    }
   ],
   "source": [
    "# assign \"x\" variable as an integer\n",
    "x = 20\n",
    "print(x)"
   ]
  },
  {
   "cell_type": "code",
   "execution_count": 11,
   "metadata": {},
   "outputs": [
    {
     "name": "stdout",
     "output_type": "stream",
     "text": [
      "Car\n"
     ]
    }
   ],
   "source": [
    "# assign \"x\" variable as a string\n",
    "x = \"Car\"\n",
    "print(x)"
   ]
  },
  {
   "cell_type": "markdown",
   "metadata": {},
   "source": [
    "## Python Strings\n",
    "\n",
    "Python strings are referred to as a traditional sequence of characters that are either literal constants or some kind of a variable. Strings can allow its length to be changed or remain fixed. There are many operations that can be done on strings which include:\n",
    "\n",
    "- printing the length\n",
    "- printing a character in any position\n",
    "- removing whitespace from the beginning or the end\n",
    "- or returning the string in lower or upper case\n",
    "- Replace or split operations can also be done on strings\n",
    "\n",
    "The program code below demonstrates the printing of the second element in the string of words \"Hello, World!\"."
   ]
  },
  {
   "cell_type": "code",
   "execution_count": 12,
   "metadata": {},
   "outputs": [
    {
     "name": "stdout",
     "output_type": "stream",
     "text": [
      "e\n"
     ]
    }
   ],
   "source": [
    "# this code prints the character in the second position from the string\n",
    "string1 = \"Hello World!\"\n",
    "print(string1[1])"
   ]
  },
  {
   "cell_type": "markdown",
   "metadata": {},
   "source": [
    "The Python program code below demonstrates a Python function to print the length of the character.\n",
    "\n",
    "Code sample:"
   ]
  },
  {
   "cell_type": "code",
   "execution_count": 13,
   "metadata": {},
   "outputs": [
    {
     "name": "stdout",
     "output_type": "stream",
     "text": [
      "12\n"
     ]
    }
   ],
   "source": [
    "# this code returns the actual length of the string\n",
    "string1 = \"Hello World!\"\n",
    "print(len(string1))"
   ]
  },
  {
   "cell_type": "markdown",
   "metadata": {},
   "source": [
    "The program code below demonstrates the Python functions to remove whitespaces at the end of a string."
   ]
  },
  {
   "cell_type": "code",
   "execution_count": 14,
   "metadata": {},
   "outputs": [
    {
     "name": "stdout",
     "output_type": "stream",
     "text": [
      "Hello World!\n"
     ]
    }
   ],
   "source": [
    "# this code removes the whitespaces at the end of the string\n",
    "a = \" Hello World!\"\n",
    "print(a.strip())"
   ]
  },
  {
   "cell_type": "markdown",
   "metadata": {},
   "source": [
    "Returning the string in lower or upper case Program code:"
   ]
  },
  {
   "cell_type": "code",
   "execution_count": 15,
   "metadata": {},
   "outputs": [
    {
     "name": "stdout",
     "output_type": "stream",
     "text": [
      "hello world!\n"
     ]
    }
   ],
   "source": [
    "string1 = \"HELLO WORLD!\"\n",
    "print(string1.lower())"
   ]
  },
  {
   "cell_type": "code",
   "execution_count": 16,
   "metadata": {},
   "outputs": [
    {
     "name": "stdout",
     "output_type": "stream",
     "text": [
      "HELLO WORLD!\n"
     ]
    }
   ],
   "source": [
    "string1 = \"HELLO WORLD!\"\n",
    "print(string1.upper())"
   ]
  },
  {
   "cell_type": "markdown",
   "metadata": {},
   "source": [
    "Replace and split operations can also be done on strings"
   ]
  },
  {
   "cell_type": "code",
   "execution_count": 17,
   "metadata": {},
   "outputs": [
    {
     "name": "stdout",
     "output_type": "stream",
     "text": [
      "Mello, World!\n"
     ]
    }
   ],
   "source": [
    "string1 = \"Hello, World!\"\n",
    "print(string1.replace(\"H\", \"M\"))"
   ]
  },
  {
   "cell_type": "code",
   "execution_count": 18,
   "metadata": {},
   "outputs": [
    {
     "name": "stdout",
     "output_type": "stream",
     "text": [
      "HAllo, World!\n"
     ]
    }
   ],
   "source": [
    "print(string1.replace(\"e\", \"A\"))"
   ]
  },
  {
   "cell_type": "code",
   "execution_count": 19,
   "metadata": {},
   "outputs": [
    {
     "name": "stdout",
     "output_type": "stream",
     "text": [
      "['Hello', ' World!']\n"
     ]
    }
   ],
   "source": [
    "print(string1.split(\",\"))"
   ]
  },
  {
   "cell_type": "markdown",
   "metadata": {},
   "source": [
    "## Python Numbers\n",
    "\n",
    "Python has three main numeric types, these include integer, float and complex. These types are determined by the value assigned to the variable. Sample code and code snippet are shown below. The code creates three variables name “x”, “y” and “z” which are integer, float and a complex number respectively."
   ]
  },
  {
   "cell_type": "code",
   "execution_count": 20,
   "metadata": {},
   "outputs": [
    {
     "name": "stdout",
     "output_type": "stream",
     "text": [
      "1\n"
     ]
    }
   ],
   "source": [
    "# integer\n",
    "x = 1\n",
    "print(x)"
   ]
  },
  {
   "cell_type": "code",
   "execution_count": 21,
   "metadata": {},
   "outputs": [
    {
     "name": "stdout",
     "output_type": "stream",
     "text": [
      "1.5\n"
     ]
    }
   ],
   "source": [
    "# float\n",
    "y = 1.5 \n",
    "print(y)"
   ]
  },
  {
   "cell_type": "code",
   "execution_count": 22,
   "metadata": {},
   "outputs": [
    {
     "name": "stdout",
     "output_type": "stream",
     "text": [
      "1j\n"
     ]
    }
   ],
   "source": [
    "# complex\n",
    "z = 1j \n",
    "print(z)"
   ]
  },
  {
   "cell_type": "markdown",
   "metadata": {},
   "source": [
    "### Numeric Data Types and Operators\n",
    "\n",
    "As discussed earlier Numeric data types can be integers, float or complex numbers. The main operators in Python which work on Numeric data include multiplication, Division, Subtraction, addition and modulus.\n",
    "\n",
    "Multiplication is a Python operation that is used to multiply values in the form of numeric data or variable on either side of the operator."
   ]
  },
  {
   "cell_type": "code",
   "execution_count": 23,
   "metadata": {},
   "outputs": [
    {
     "name": "stdout",
     "output_type": "stream",
     "text": [
      "20\n"
     ]
    }
   ],
   "source": [
    "# multiplication\n",
    "x = 4\n",
    "y = 5\n",
    "\n",
    "result = x * y\n",
    "print(result)"
   ]
  },
  {
   "cell_type": "markdown",
   "metadata": {},
   "source": [
    "The division is a Python operation that divides the operand on the left of the operator with the operand on the right hand of the operator. The code below creates two variables of integer type named “x” and' “y” and assigns them values of 4 and 5 respectively. The program then creates a variable name “result” and assigns the result of the division of variables x and y."
   ]
  },
  {
   "cell_type": "code",
   "execution_count": 24,
   "metadata": {},
   "outputs": [
    {
     "name": "stdout",
     "output_type": "stream",
     "text": [
      "0.8\n"
     ]
    }
   ],
   "source": [
    "# division\n",
    "x = 4\n",
    "y = 5\n",
    "\n",
    "result = x / y\n",
    "print(result)"
   ]
  },
  {
   "cell_type": "markdown",
   "metadata": {},
   "source": [
    "Modulus is a Python operator that divides the operator on the left hand of the operator with that on the right-hand side of the operator and brings the reminder. The Python code below creates two variables “x” and “y” and assigns them integer values. The program code then creates a variable name “result” and assign it the modulus value when “x” is divided by “y” then prints the value."
   ]
  },
  {
   "cell_type": "code",
   "execution_count": 25,
   "metadata": {},
   "outputs": [
    {
     "name": "stdout",
     "output_type": "stream",
     "text": [
      "1\n"
     ]
    }
   ],
   "source": [
    "# modulus\n",
    "x = 9\n",
    "y = 4\n",
    "\n",
    "result = x % y\n",
    "print(result)"
   ]
  },
  {
   "cell_type": "markdown",
   "metadata": {},
   "source": [
    "## Python Operator"
   ]
  },
  {
   "cell_type": "markdown",
   "metadata": {},
   "source": [
    "### Assignment operator\n",
    "\n",
    "Assignment operator assigns the value on the left-hand side of the operator to the variable on the righthand side of the operator. The program code below creates two variables “num” and “name” and assigns “num” an integervalue of 6 and a “name” is assigned a string name “Alex”. The program then prints the two variables with the print function."
   ]
  },
  {
   "cell_type": "code",
   "execution_count": 26,
   "metadata": {},
   "outputs": [
    {
     "name": "stdout",
     "output_type": "stream",
     "text": [
      "6\n"
     ]
    }
   ],
   "source": [
    "# integer\n",
    "num = 6\n",
    "print(num)"
   ]
  },
  {
   "cell_type": "code",
   "execution_count": 27,
   "metadata": {},
   "outputs": [
    {
     "name": "stdout",
     "output_type": "stream",
     "text": [
      "Alex\n"
     ]
    }
   ],
   "source": [
    "# string\n",
    "name = \"Alex\"\n",
    "print(name)"
   ]
  },
  {
   "cell_type": "markdown",
   "metadata": {},
   "source": [
    "### Comparison operators\n",
    "\n",
    "Comparison operators are used to compare two or more variables. There are seven main comparison operators in Python.These operators include:\n",
    "\n",
    "- equal to \n",
    "- not equal to \n",
    "- greater than \n",
    "- less than\n",
    "- less than or equal to\n",
    "- greater than or equal to \n",
    "- not equal\n",
    "\n",
    "The Python program code below creates three variables “a”, “b” and “c” then checks if “a” is equal to “b” then attempts to print \"Line 1 a is equal to b\" if equal but prints “Line 1 -a is not equal to b” if found not to be equal.\n",
    "\n",
    "The program then assigns the variables “a” and “b” the integer values of 5 and 20 respectively then checks if “a” is less than or equal to “b”. The program then prints “Line 6 a is either less than or equal to b” if “a” is found to be less than or equal to “b” and prints “Line 6 -a is neither less than nor equal to b” otherwise.\n",
    "\n",
    "Lastly, the program checks if “b is either greater than or equal to b” and prints \"Line 7 - b is either greater than or equal to b\" else it prints \"Line 7 - b is neither greater than nor equal to b\"."
   ]
  },
  {
   "cell_type": "code",
   "execution_count": 28,
   "metadata": {},
   "outputs": [
    {
     "name": "stdout",
     "output_type": "stream",
     "text": [
      "Line 1 - a is not equal to b\n",
      "Line 2 - a is not equal to b\n",
      "Line 5 - a is not greater than b\n"
     ]
    }
   ],
   "source": [
    "a = 21\n",
    "b = 10\n",
    "c = 0\n",
    "\n",
    "if ( a == b ):\n",
    "    print (\"Line 1 - a is equal to b\")\n",
    "else:\n",
    "    print (\"Line 1 - a is not equal to b\")\n",
    "if ( a != b ):\n",
    "    print (\"Line 2 - a is not equal to b\")\n",
    "else:\n",
    "    print (\"Line 2 - a is equal to b\")\n",
    "if ( a < b ):\n",
    "    print (\"Line 4 - a is less than b\")\n",
    "else:\n",
    "    print (\"Line 5 - a is not greater than b\")"
   ]
  },
  {
   "cell_type": "code",
   "execution_count": 29,
   "metadata": {},
   "outputs": [
    {
     "name": "stdout",
     "output_type": "stream",
     "text": [
      "Line 6 - a is either less than or equal to b\n",
      "Line 7 - b is either greater than or equal to b\n"
     ]
    }
   ],
   "source": [
    "a = 5\n",
    "b = 20\n",
    "\n",
    "if ( a <= b ):\n",
    "    print (\"Line 6 - a is either less than or equal to b\")\n",
    "else:\n",
    "    print (\"Line 6 - a is neither less than nor equal to b\")\n",
    "if ( b >= a ):\n",
    "    print (\"Line 7 - b is either greater than or equal to b\")\n",
    "else:\n",
    "    print (\"Line 7 - b is neither greater than nor equal to b\")"
   ]
  },
  {
   "cell_type": "markdown",
   "metadata": {},
   "source": [
    "### Logical operators\n",
    "\n",
    "Python has three main logical operators. These include:\n",
    "\n",
    "- logical AND,\n",
    "- logical OR and logical NOT\n",
    "\n",
    "To understand logical Operators how logical operators work, let’s evaluate logical expressions:"
   ]
  },
  {
   "cell_type": "markdown",
   "metadata": {},
   "source": [
    "Logical AND evaluates to True when both operands are True."
   ]
  },
  {
   "cell_type": "code",
   "execution_count": 30,
   "metadata": {},
   "outputs": [
    {
     "data": {
      "text/plain": [
       "True"
      ]
     },
     "execution_count": 30,
     "metadata": {},
     "output_type": "execute_result"
    }
   ],
   "source": [
    "True and True"
   ]
  },
  {
   "cell_type": "code",
   "execution_count": 31,
   "metadata": {},
   "outputs": [
    {
     "data": {
      "text/plain": [
       "False"
      ]
     },
     "execution_count": 31,
     "metadata": {},
     "output_type": "execute_result"
    }
   ],
   "source": [
    "True and False"
   ]
  },
  {
   "cell_type": "code",
   "execution_count": 32,
   "metadata": {},
   "outputs": [
    {
     "data": {
      "text/plain": [
       "False"
      ]
     },
     "execution_count": 32,
     "metadata": {},
     "output_type": "execute_result"
    }
   ],
   "source": [
    "False and True"
   ]
  },
  {
   "cell_type": "code",
   "execution_count": 33,
   "metadata": {},
   "outputs": [
    {
     "data": {
      "text/plain": [
       "False"
      ]
     },
     "execution_count": 33,
     "metadata": {},
     "output_type": "execute_result"
    }
   ],
   "source": [
    "False and False"
   ]
  },
  {
   "cell_type": "markdown",
   "metadata": {},
   "source": [
    "Logical OR evaluate to True if any of the operands is True."
   ]
  },
  {
   "cell_type": "code",
   "execution_count": 34,
   "metadata": {},
   "outputs": [
    {
     "data": {
      "text/plain": [
       "True"
      ]
     },
     "execution_count": 34,
     "metadata": {},
     "output_type": "execute_result"
    }
   ],
   "source": [
    "True or True"
   ]
  },
  {
   "cell_type": "code",
   "execution_count": 35,
   "metadata": {},
   "outputs": [
    {
     "data": {
      "text/plain": [
       "True"
      ]
     },
     "execution_count": 35,
     "metadata": {},
     "output_type": "execute_result"
    }
   ],
   "source": [
    "True or False"
   ]
  },
  {
   "cell_type": "code",
   "execution_count": 36,
   "metadata": {},
   "outputs": [
    {
     "data": {
      "text/plain": [
       "True"
      ]
     },
     "execution_count": 36,
     "metadata": {},
     "output_type": "execute_result"
    }
   ],
   "source": [
    "False or True"
   ]
  },
  {
   "cell_type": "code",
   "execution_count": 37,
   "metadata": {},
   "outputs": [
    {
     "data": {
      "text/plain": [
       "False"
      ]
     },
     "execution_count": 37,
     "metadata": {},
     "output_type": "execute_result"
    }
   ],
   "source": [
    "False or False"
   ]
  },
  {
   "cell_type": "markdown",
   "metadata": {},
   "source": [
    "Logical NOT is used to reverse the logical state of an operand."
   ]
  },
  {
   "cell_type": "code",
   "execution_count": 38,
   "metadata": {},
   "outputs": [
    {
     "data": {
      "text/plain": [
       "False"
      ]
     },
     "execution_count": 38,
     "metadata": {},
     "output_type": "execute_result"
    }
   ],
   "source": [
    "not True"
   ]
  },
  {
   "cell_type": "code",
   "execution_count": 39,
   "metadata": {},
   "outputs": [
    {
     "data": {
      "text/plain": [
       "True"
      ]
     },
     "execution_count": 39,
     "metadata": {},
     "output_type": "execute_result"
    }
   ],
   "source": [
    "not False"
   ]
  }
 ],
 "metadata": {
  "kernelspec": {
   "display_name": "Python 3.10.7 64-bit",
   "language": "python",
   "name": "python3"
  },
  "language_info": {
   "codemirror_mode": {
    "name": "ipython",
    "version": 3
   },
   "file_extension": ".py",
   "mimetype": "text/x-python",
   "name": "python",
   "nbconvert_exporter": "python",
   "pygments_lexer": "ipython3",
   "version": "3.10.7"
  },
  "orig_nbformat": 4,
  "vscode": {
   "interpreter": {
    "hash": "ea928f5d67c4c93314bde902f9925b00b35f33a7a7fd46f2f8b2a0108e4de065"
   }
  }
 },
 "nbformat": 4,
 "nbformat_minor": 2
}
