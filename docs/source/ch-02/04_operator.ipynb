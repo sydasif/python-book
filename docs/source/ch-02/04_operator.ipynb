{
 "cells": [
  {
   "cell_type": "markdown",
   "metadata": {},
   "source": [
    "# Python Operator\n",
    "\n",
    "Operators in Python are used to perform operations on variables and values.\n",
    "\n",
    "Python divides the operators in the following groups:\n",
    "\n",
    "- Arithmetic operators\n",
    "- Assignment operators\n",
    "- Comparison operators\n",
    "- Logical operators\n",
    "- Identity operators\n",
    "- Membership operators"
   ]
  },
  {
   "cell_type": "markdown",
   "metadata": {},
   "source": [
    "## Arithmetic Operators\n",
    "\n",
    "Arithmetic operators are used with numeric values to perform common mathematical operations.\n",
    "\n",
    "| Syntax      | Description | Example |\n",
    "| ----------- | ----------- | ------- |\n",
    "| +           | Addition    | 3 + 4   |\n",
    "| -\t          | Subtraction |\t1 - 5 |\t\n",
    "| *\t          | Multiplication | 5 * 6 |\t\n",
    "| /\t          | Division | 7 / 2 |\n",
    "| %\t          | Modulus | 5 % 1 |\t\n",
    "| **\t      | Exponentiation | 8 ** 3 |\t\n",
    "| //\t      | Floor division | 3 // 8 |"
   ]
  },
  {
   "cell_type": "code",
   "execution_count": 19,
   "metadata": {},
   "outputs": [
    {
     "name": "stdout",
     "output_type": "stream",
     "text": [
      "3\n",
      "3.5\n",
      "2\n"
     ]
    }
   ],
   "source": [
    "print(7 // 2) \n",
    "print(7 / 2)\n",
    "print(5 % 3) # reminder"
   ]
  },
  {
   "cell_type": "markdown",
   "metadata": {},
   "source": [
    "## Assignment Operators\n",
    "\n",
    "Assignment operators are used to assign values to variables.\n",
    "\n",
    "| Syntax      | Example     | Same as |\n",
    "| ----------- | ----------- | ------- |\n",
    "| =\t          | x = 5\t    | x = 5\t  |\n",
    "| +=\t      | x += 3\t    | x = x + 3 |\t\n",
    "| -=\t      | x -= 3\t    | x = x - 3\t|\n",
    "| *=\t      | x *= 3\t    | x = x * 3\t|\n",
    "| /=\t      | x /= 3\t    | x = x / 3\t|\n",
    "| %=\t      | x %= 3\t    | x = x % 3 |\t\n",
    "| //=\t      | x //= 3\t    | x = x // 3 |\t\n",
    "| **=\t      | x **= 3\t    | x = x ** 3 |"
   ]
  },
  {
   "cell_type": "code",
   "execution_count": 26,
   "metadata": {},
   "outputs": [
    {
     "name": "stdout",
     "output_type": "stream",
     "text": [
      "3\n",
      "6\n"
     ]
    }
   ],
   "source": [
    "x = 3\n",
    "print(x)\n",
    "x += 3\n",
    "print(x)"
   ]
  },
  {
   "cell_type": "markdown",
   "metadata": {},
   "source": [
    "## Comparison operators\n",
    "\n",
    "Comparison operators are used to comparing two or more variables. There are seven main comparison operators in Python. These operators include:\n",
    "\n",
    "| Syntax      | Description | Example |\n",
    "| ----------- | ----------- | ------- |\n",
    "| ==\t      | Equal\t    | x == y  |\n",
    "| !=\t      | Not equal\t| x != y  |\t\n",
    "| >\t          | Greater than |\tx > y |\t\n",
    "| <\t          | Less than | x < y |\t\n",
    "| >=\t      | Greater than or equal to |\tx >= y |\t\n",
    "| <=\t      | Less than or equal to | x <= y |"
   ]
  },
  {
   "cell_type": "code",
   "execution_count": 20,
   "metadata": {},
   "outputs": [
    {
     "name": "stdout",
     "output_type": "stream",
     "text": [
      "Line 1 - a is not equal to b\n"
     ]
    }
   ],
   "source": [
    "a = 21\n",
    "b = 10\n",
    "c = 0\n",
    "\n",
    "if ( a == b ):\n",
    "    print (\"Line 1 - a is equal to b\")\n",
    "else:\n",
    "    print (\"Line 1 - a is not equal to b\")"
   ]
  },
  {
   "cell_type": "code",
   "execution_count": 21,
   "metadata": {},
   "outputs": [
    {
     "name": "stdout",
     "output_type": "stream",
     "text": [
      "Line 6 - a is either less than or equal to b\n"
     ]
    }
   ],
   "source": [
    "a = 5\n",
    "b = 20\n",
    "\n",
    "if ( a <= b ):\n",
    "    print (\"Line 6 - a is either less than or equal to b\")\n",
    "else:\n",
    "    print (\"Line 6 - a is neither less than nor equal to b\")"
   ]
  },
  {
   "cell_type": "markdown",
   "metadata": {},
   "source": [
    "## Logical operators\n",
    "\n",
    "Python has three main logical operators. These include:\n",
    "\n",
    "- logical `and`\n",
    "- logical `or` and logical `not`\n",
    "\n",
    "To understand logical Operators how logical operators work, let’s evaluate logical expressions:\n",
    "\n",
    "| Syntax      | Description | Example |\n",
    "| ----------- | ----------- | ------- |\n",
    "| and \t | Returns True if both statements are true\t| x < 5 and  x < 10 |\t\n",
    "| or\t | Returns True if one of the statements is true | x < 5 or x < 4 |\t\n",
    "| not\t | Reverse the result | not(x < 5 and x < 10) |"
   ]
  },
  {
   "cell_type": "code",
   "execution_count": 22,
   "metadata": {},
   "outputs": [
    {
     "name": "stdout",
     "output_type": "stream",
     "text": [
      "False\n",
      "True\n"
     ]
    }
   ],
   "source": [
    "x = 6\n",
    "print(x < 5 and  x < 10)\n",
    "print(x < 5 or x > 4)"
   ]
  },
  {
   "cell_type": "markdown",
   "metadata": {},
   "source": [
    "## Identity Operators\n",
    "\n",
    "Identity operators are used to compare the objects, not if they are equal, but if they are actually the same object, with the same memory location.\n",
    "\n",
    "| Syntax      | Description | Example |\n",
    "| ----------- | ----------- | ------- |\n",
    "| is \t| Returns True if both variables are the same object | x is y |\t\n",
    "| is not | Returns True if both variables are not the same object | x is not y |"
   ]
  },
  {
   "cell_type": "markdown",
   "metadata": {},
   "source": [
    "## Membership Operators\n",
    "\n",
    "Membership operators are used to test if a sequence is presented in an object.\n",
    "\n",
    "| Syntax      | Description | Example |\n",
    "| ----------- | ----------- | ------- |\n",
    "| in | Returns True if a sequence with the specified value is present in the object | x in y |\t\n",
    "| not in | Returns True if a sequence with the specified value is not present in the object | x not in y |"
   ]
  }
 ],
 "metadata": {
  "kernelspec": {
   "display_name": "Python 3.10.7 64-bit",
   "language": "python",
   "name": "python3"
  },
  "language_info": {
   "codemirror_mode": {
    "name": "ipython",
    "version": 3
   },
   "file_extension": ".py",
   "mimetype": "text/x-python",
   "name": "python",
   "nbconvert_exporter": "python",
   "pygments_lexer": "ipython3",
   "version": "3.10.7"
  },
  "orig_nbformat": 4,
  "vscode": {
   "interpreter": {
    "hash": "ea928f5d67c4c93314bde902f9925b00b35f33a7a7fd46f2f8b2a0108e4de065"
   }
  }
 },
 "nbformat": 4,
 "nbformat_minor": 2
}
