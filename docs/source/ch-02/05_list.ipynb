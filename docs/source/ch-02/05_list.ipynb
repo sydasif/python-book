{
 "cells": [
  {
   "cell_type": "markdown",
   "metadata": {},
   "source": [
    "# Python List\n",
    "\n",
    "List is the most versatile data type available in Python which can be written as a list of comma separated values (items) between square brackets. Lists are created by separating values that are in square brackets. Lists are Python data structures which are a mutable ordered sequence of elements. Each element in the list has a value called item. They are mainly defined by having values inside brackets."
   ]
  },
  {
   "cell_type": "code",
   "execution_count": 15,
   "metadata": {},
   "outputs": [],
   "source": [
    "# Example of a List \n",
    "week_day = [\"Sunday\", \"Monday\", \"Friday\"]"
   ]
  },
  {
   "cell_type": "markdown",
   "metadata": {},
   "source": [
    "Lists are used in Python where programmers need to work with many related values. They help in condensing the code by keeping the related data together hence allowing the programmer to perform the same functions and operations on multiple values at once.\n",
    "\n",
    "Each item in the list corresponds to a given index number. The index is an integer value starting from 0. An example of a list is given as below:"
   ]
  },
  {
   "cell_type": "code",
   "execution_count": 16,
   "metadata": {},
   "outputs": [],
   "source": [
    "sea_creatures = ['shark', 'fish', 'squid', 'see horse', 'anemone']"
   ]
  },
  {
   "cell_type": "markdown",
   "metadata": {},
   "source": [
    "The first item named “shark” is at index `0` while the second item named “fish” is at index `1` and so on.\n",
    "Code Sample:"
   ]
  },
  {
   "cell_type": "code",
   "execution_count": 17,
   "metadata": {},
   "outputs": [
    {
     "name": "stdout",
     "output_type": "stream",
     "text": [
      "shark\n"
     ]
    }
   ],
   "source": [
    "print(sea_creatures[0])"
   ]
  },
  {
   "cell_type": "markdown",
   "metadata": {},
   "source": [
    "List index can be call in reverse order also. So the last item named “anemone” is at index `-1` while the second last item named “see horse” is at index `-2` and so on."
   ]
  },
  {
   "cell_type": "code",
   "execution_count": 18,
   "metadata": {},
   "outputs": [
    {
     "name": "stdout",
     "output_type": "stream",
     "text": [
      "anemone\n"
     ]
    }
   ],
   "source": [
    "print(sea_creatures[-1])"
   ]
  },
  {
   "cell_type": "markdown",
   "metadata": {},
   "source": [
    "Elements in a list have the following characteristics:\n",
    "\n",
    "- They are accessed via indices.\n",
    "- They maintain their ordering unless explicitly re-ordered.\n",
    "- They can be of any type, and types can be mixed."
   ]
  }
 ],
 "metadata": {
  "kernelspec": {
   "display_name": "Python 3.10.7 64-bit",
   "language": "python",
   "name": "python3"
  },
  "language_info": {
   "codemirror_mode": {
    "name": "ipython",
    "version": 3
   },
   "file_extension": ".py",
   "mimetype": "text/x-python",
   "name": "python",
   "nbconvert_exporter": "python",
   "pygments_lexer": "ipython3",
   "version": "3.10.7"
  },
  "orig_nbformat": 4,
  "vscode": {
   "interpreter": {
    "hash": "ea928f5d67c4c93314bde902f9925b00b35f33a7a7fd46f2f8b2a0108e4de065"
   }
  }
 },
 "nbformat": 4,
 "nbformat_minor": 2
}
