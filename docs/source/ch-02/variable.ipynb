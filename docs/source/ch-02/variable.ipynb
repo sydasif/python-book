{
 "cells": [
  {
   "cell_type": "markdown",
   "metadata": {},
   "source": [
    "# Basic elements of Python\n",
    "\n",
    "This chapter focuses on the basic fundamentals of the Python programming language that are needed to write a program or a script. Python has different data types, sets, strings, lists and dictionaries that are important in programming. Lists store sequence of objects in an order and iterate over the list. Lists are mutable, unlike dictionaries which are not mutable.\n",
    "\n",
    "Variables in Python mainly refer to the storage location. These variables can be assigned one or more values. Python also has several data types including numeric data types and named constants. There are also a set of characters called strings that are contained in Python.\n",
    "\n",
    "Lists in Python are sequences of ordered elements that are mutable. Sets, on the other hand, are Python collection of unordered elements that are immutable. Tuples are also Python elements that describe immutable objects but uses parenthesis."
   ]
  },
  {
   "cell_type": "markdown",
   "metadata": {
    "tags": []
   },
   "source": [
    "## Python Variables\n",
    "\n",
    "A variable is a storage location with name and a value, in the Python language, there is no specific command that is used to declare a variable. A variable in Python is only declared when it is first assigned to a value. A variable can have a short name or a descriptive name. The main rules for naming variables in Python include; \n",
    "\n",
    "- A variable name can only start with underscore character or a letter.\n",
    "- A variable name cannot begin with a number.\n",
    "- Variable names are case-sensitive."
   ]
  },
  {
   "cell_type": "markdown",
   "metadata": {},
   "source": [
    "### Assigning Values to Variables\n",
    "\n",
    "The code below creates a variable name “num” and assigns it an integer 14. The program also creates a variable name “name” and assigns it a character name “Ali”. The program finally prints the variables “num” and “name”."
   ]
  },
  {
   "cell_type": "code",
   "execution_count": 1,
   "metadata": {},
   "outputs": [
    {
     "name": "stdout",
     "output_type": "stream",
     "text": [
      "14\n"
     ]
    }
   ],
   "source": [
    "# integer\n",
    "num = 14\n",
    "print(num)"
   ]
  },
  {
   "cell_type": "code",
   "execution_count": 2,
   "metadata": {},
   "outputs": [
    {
     "name": "stdout",
     "output_type": "stream",
     "text": [
      "Ali\n"
     ]
    }
   ],
   "source": [
    "# string\n",
    "name = \"Ali\"\n",
    "print(name)"
   ]
  }
 ],
 "metadata": {
  "kernelspec": {
   "display_name": "Python 3.10.7 64-bit",
   "language": "python",
   "name": "python3"
  },
  "language_info": {
   "codemirror_mode": {
    "name": "ipython",
    "version": 3
   },
   "file_extension": ".py",
   "mimetype": "text/x-python",
   "name": "python",
   "nbconvert_exporter": "python",
   "pygments_lexer": "ipython3",
   "version": "3.10.7"
  },
  "orig_nbformat": 4,
  "vscode": {
   "interpreter": {
    "hash": "ea928f5d67c4c93314bde902f9925b00b35f33a7a7fd46f2f8b2a0108e4de065"
   }
  }
 },
 "nbformat": 4,
 "nbformat_minor": 2
}
