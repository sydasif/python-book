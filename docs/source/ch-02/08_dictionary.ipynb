{
 "cells": [
  {
   "cell_type": "markdown",
   "metadata": {},
   "source": [
    "# Python Dictionaries\n",
    " \n",
    "A dictionary is an associative array, any key of the dictionary is associated (or mapped) to a value. The values of a dictionary can be any Python data type. Each key in a Python dictionary is separated from its value by a colon `:` while the items are separated by a comma `,`. The whole dictionary is then enclosed using curly braces `{}`.\n",
    "\n",
    "Keys within a dictionary are 'unique' and must be from immutable data types such as strings, tuples or numbers. To access dictionary elements, you can use the familiar square brackets along with the key to obtain its value.\n",
    "\n",
    "## Accessing items in a dictionary\n",
    "\n",
    "The Python code below creates a dictionary name `my_dict` and assigns it the items such as `'Name': 'Zara'`, `'Age': 11`, and `'Class': 'Third'`. The next Python line of code then prints the `Zara` and `11` since it accesses the elements named `name` and `age` from the Dict."
   ]
  },
  {
   "cell_type": "code",
   "execution_count": 1,
   "metadata": {},
   "outputs": [
    {
     "name": "stdout",
     "output_type": "stream",
     "text": [
      "Name: Zara\n",
      "Age: 11\n"
     ]
    }
   ],
   "source": [
    "my_dict = {\"Name\": \"Zara\", \"Age\": 11, \"Class\": \"3rd\"}\n",
    "print(\"Name:\", my_dict[\"Name\"])\n",
    "print(\"Age:\", my_dict[\"Age\"])"
   ]
  },
  {
   "cell_type": "code",
   "execution_count": 2,
   "metadata": {},
   "outputs": [
    {
     "name": "stdout",
     "output_type": "stream",
     "text": [
      "Zara\n",
      "11\n"
     ]
    }
   ],
   "source": [
    "# or simply print the keys\n",
    "print(my_dict[\"Name\"])\n",
    "print(my_dict[\"Age\"])"
   ]
  },
  {
   "cell_type": "markdown",
   "metadata": {},
   "source": [
    "Creating and adding values to a dictionary:"
   ]
  },
  {
   "cell_type": "code",
   "execution_count": 6,
   "metadata": {},
   "outputs": [
    {
     "name": "stdout",
     "output_type": "stream",
     "text": [
      "{'Name': 'Ali', 'Age': 14}\n"
     ]
    }
   ],
   "source": [
    "bio_data = {\"Name\": \"Ali\", \"Age\": 14}\n",
    "print(bio_data)"
   ]
  },
  {
   "cell_type": "code",
   "execution_count": 7,
   "metadata": {},
   "outputs": [
    {
     "name": "stdout",
     "output_type": "stream",
     "text": [
      "{'Name': 'Ali', 'Age': 14, 'Class': '6th'}\n"
     ]
    }
   ],
   "source": [
    "# Adding a value\n",
    "bio_data[\"Class\"] = \"6th\"\n",
    "print(bio_data)"
   ]
  }
 ],
 "metadata": {
  "kernelspec": {
   "display_name": "Python 3.10.7 64-bit",
   "language": "python",
   "name": "python3"
  },
  "language_info": {
   "codemirror_mode": {
    "name": "ipython",
    "version": 3
   },
   "file_extension": ".py",
   "mimetype": "text/x-python",
   "name": "python",
   "nbconvert_exporter": "python",
   "pygments_lexer": "ipython3",
   "version": "3.10.7"
  },
  "orig_nbformat": 4,
  "vscode": {
   "interpreter": {
    "hash": "ea928f5d67c4c93314bde902f9925b00b35f33a7a7fd46f2f8b2a0108e4de065"
   }
  }
 },
 "nbformat": 4,
 "nbformat_minor": 2
}
