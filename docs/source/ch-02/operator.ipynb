{
 "cells": [
  {
   "cell_type": "markdown",
   "metadata": {},
   "source": [
    "# Python Operator"
   ]
  },
  {
   "cell_type": "markdown",
   "metadata": {},
   "source": [
    "## Assignment operator\n",
    "\n",
    "Assignment operator assigns the value on the left-hand side of the operator to the variable on the righthand side of the operator. The program code below creates two variables “num” and “name” and assigns “num” an integervalue of 6 and a “name” is assigned a string name “Alex”. The program then prints the two variables with the print function."
   ]
  },
  {
   "cell_type": "code",
   "execution_count": 1,
   "metadata": {},
   "outputs": [
    {
     "name": "stdout",
     "output_type": "stream",
     "text": [
      "6\n"
     ]
    }
   ],
   "source": [
    "# integet\n",
    "num = 6\n",
    "print(num)"
   ]
  },
  {
   "cell_type": "code",
   "execution_count": 2,
   "metadata": {},
   "outputs": [
    {
     "name": "stdout",
     "output_type": "stream",
     "text": [
      "Alex\n"
     ]
    }
   ],
   "source": [
    "# string\n",
    "name = \"Alex\"\n",
    "print(name)"
   ]
  },
  {
   "cell_type": "markdown",
   "metadata": {},
   "source": [
    "## Comparison operators\n",
    "\n",
    "Comparison operators are used to compare two or more variables. There are seven main comparison operators in Python.These operators include:\n",
    "\n",
    "- equal to \n",
    "- not equal to \n",
    "- greater than \n",
    "- less than\n",
    "- less than or equal to\n",
    "- greater than or equal to \n",
    "- not equal"
   ]
  },
  {
   "cell_type": "markdown",
   "metadata": {},
   "source": [
    "The Python program code below creates three variables “a”, “b” and “c” then checks if “a” is equal to “b” then attempts to print \"Line 1 a is equal to b\" if equal but prints “Line 1 -a is not equal to b” if found not to be equal.\n",
    "\n",
    "The program then assigns the variables “a” and “b” the integer values of 5 and 20 respectively then checks if “a” is less than or equal to “b”. The program then prints “Line 6 a is either less than or equal to b” if “a” is found to be less than or equal to “b” and prints “Line 6 -a is neither less than nor equal to b” otherwise.\n",
    "\n",
    "Lastly, the program checks if “b is either greater than or equal to b” and prints \"Line 7 - b is either greater than or equal to b\" else it prints \"Line 7 - b is neither greater than nor equal to b\"."
   ]
  },
  {
   "cell_type": "code",
   "execution_count": 3,
   "metadata": {},
   "outputs": [
    {
     "name": "stdout",
     "output_type": "stream",
     "text": [
      "Line 1 - a is not equal to b\n",
      "Line 2 - a is not equal to b\n",
      "Line 5 - a is not greater than b\n"
     ]
    }
   ],
   "source": [
    "a = 21\n",
    "b = 10\n",
    "c = 0\n",
    "\n",
    "if ( a == b ):\n",
    "    print (\"Line 1 - a is equal to b\")\n",
    "else:\n",
    "    print (\"Line 1 - a is not equal to b\")\n",
    "if ( a != b ):\n",
    "    print (\"Line 2 - a is not equal to b\")\n",
    "else:\n",
    "    print (\"Line 2 - a is equal to b\")\n",
    "if ( a < b ):\n",
    "    print (\"Line 4 - a is less than b\")\n",
    "else:\n",
    "    print (\"Line 5 - a is not greater than b\")"
   ]
  },
  {
   "cell_type": "code",
   "execution_count": 4,
   "metadata": {},
   "outputs": [
    {
     "name": "stdout",
     "output_type": "stream",
     "text": [
      "Line 6 - a is either less than or equal to b\n",
      "Line 7 - b is either greater than or equal to b\n"
     ]
    }
   ],
   "source": [
    "a = 5\n",
    "b = 20\n",
    "\n",
    "if ( a <= b ):\n",
    "    print (\"Line 6 - a is either less than or equal to b\")\n",
    "else:\n",
    "    print (\"Line 6 - a is neither less than nor equal to b\")\n",
    "if ( b >= a ):\n",
    "    print (\"Line 7 - b is either greater than or equal to b\")\n",
    "else:\n",
    "    print (\"Line 7 - b is neither greater than nor equal to b\")"
   ]
  }
 ],
 "metadata": {
  "kernelspec": {
   "display_name": "Python 3.10.7 64-bit",
   "language": "python",
   "name": "python3"
  },
  "language_info": {
   "codemirror_mode": {
    "name": "ipython",
    "version": 3
   },
   "file_extension": ".py",
   "mimetype": "text/x-python",
   "name": "python",
   "nbconvert_exporter": "python",
   "pygments_lexer": "ipython3",
   "version": "3.10.7"
  },
  "orig_nbformat": 4,
  "vscode": {
   "interpreter": {
    "hash": "ea928f5d67c4c93314bde902f9925b00b35f33a7a7fd46f2f8b2a0108e4de065"
   }
  }
 },
 "nbformat": 4,
 "nbformat_minor": 2
}
