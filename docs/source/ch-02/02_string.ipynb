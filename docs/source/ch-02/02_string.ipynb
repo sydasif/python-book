{
 "cells": [
  {
   "cell_type": "markdown",
   "metadata": {},
   "source": [
    "# Python Strings\n",
    "\n",
    "Python strings are referred to as a traditional sequence of characters that are either literal constants or some kind of variable. Collections of text in Python are called strings. Strings can allow their length to be changed or remain fixed. There are many operations that can be done on strings which include:\n",
    "\n",
    "- printing the length\n",
    "- printing a character in any position\n",
    "- removing whitespace from the beginning or the end\n",
    "- or returning the string in lower or upper case\n",
    "- Replace or split operations can also be done on strings\n",
    "\n",
    "The program code below demonstrates the printing of the second element in the string of words `\"Hello, World!\"`."
   ]
  },
  {
   "cell_type": "code",
   "execution_count": 2,
   "metadata": {},
   "outputs": [
    {
     "name": "stdout",
     "output_type": "stream",
     "text": [
      "e\n"
     ]
    }
   ],
   "source": [
    "# this code prints the character in the second position from the string\n",
    "string1 = \"Hello World!\"\n",
    "print(string1[1])"
   ]
  },
  {
   "cell_type": "markdown",
   "metadata": {},
   "source": [
    "The Python program code below demonstrates a Python function to print the length of the character."
   ]
  },
  {
   "cell_type": "code",
   "execution_count": 3,
   "metadata": {},
   "outputs": [
    {
     "name": "stdout",
     "output_type": "stream",
     "text": [
      "29\n"
     ]
    }
   ],
   "source": [
    "# this code returns the actual length of the string\n",
    "motd_ban = \"Welcome to Network Automation\"\n",
    "print(len(motd_ban))"
   ]
  }
 ],
 "metadata": {
  "kernelspec": {
   "display_name": "Python 3.10.7 64-bit",
   "language": "python",
   "name": "python3"
  },
  "language_info": {
   "codemirror_mode": {
    "name": "ipython",
    "version": 3
   },
   "file_extension": ".py",
   "mimetype": "text/x-python",
   "name": "python",
   "nbconvert_exporter": "python",
   "pygments_lexer": "ipython3",
   "version": "3.10.7"
  },
  "orig_nbformat": 4,
  "vscode": {
   "interpreter": {
    "hash": "ea928f5d67c4c93314bde902f9925b00b35f33a7a7fd46f2f8b2a0108e4de065"
   }
  }
 },
 "nbformat": 4,
 "nbformat_minor": 2
}
