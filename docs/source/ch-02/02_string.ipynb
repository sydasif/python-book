{
 "cells": [
  {
   "cell_type": "markdown",
   "metadata": {},
   "source": [
    "# Python Strings\n",
    "\n",
    "Python strings are referred to as a traditional sequence of characters that are either literal constants or some kind of a variable. Collections of text in Python are called strings.Strings can allow its length to be changed or remain fixed. There are many operations that can be done on strings which include:\n",
    "\n",
    "- printing the length\n",
    "- printing a character in any position\n",
    "- removing whitespace from the beginning or the end\n",
    "- or returning the string in lower or upper case\n",
    "- Replace or split operations can also be done on strings\n",
    "\n",
    "The program code below demonstrates the printing of the second element in the string of words \"Hello, World!\"."
   ]
  },
  {
   "cell_type": "code",
   "execution_count": null,
   "metadata": {},
   "outputs": [],
   "source": [
    "# this code prints the character in the second position from the string\n",
    "string1 = \"Hello World!\"\n",
    "print(string1[1])"
   ]
  },
  {
   "cell_type": "markdown",
   "metadata": {},
   "source": [
    "The Python program code below demonstrates a Python function to print the length of the character.\n",
    "\n",
    "Code sample:"
   ]
  },
  {
   "cell_type": "code",
   "execution_count": null,
   "metadata": {},
   "outputs": [],
   "source": [
    "# this code returns the actual length of the string\n",
    "string1 = \"Hello World!\"\n",
    "print(len(string1))"
   ]
  },
  {
   "cell_type": "markdown",
   "metadata": {},
   "source": [
    "The program code below demonstrates the Python functions to remove whitespaces at the end of a string."
   ]
  },
  {
   "cell_type": "code",
   "execution_count": null,
   "metadata": {},
   "outputs": [],
   "source": [
    "# this code removes the whitespaces at the end of the string\n",
    "a = \" Hello World!\"\n",
    "print(a.strip())"
   ]
  },
  {
   "cell_type": "markdown",
   "metadata": {},
   "source": [
    "Returning the string in lower or upper case Program code:"
   ]
  },
  {
   "cell_type": "code",
   "execution_count": null,
   "metadata": {},
   "outputs": [],
   "source": [
    "string1 = \"HELLO WORLD!\"\n",
    "print(string1.lower())"
   ]
  },
  {
   "cell_type": "code",
   "execution_count": null,
   "metadata": {},
   "outputs": [],
   "source": [
    "string1 = \"HELLO WORLD!\"\n",
    "print(string1.upper())"
   ]
  },
  {
   "cell_type": "markdown",
   "metadata": {},
   "source": [
    "Replace and split operations can also be done on strings"
   ]
  },
  {
   "cell_type": "code",
   "execution_count": null,
   "metadata": {},
   "outputs": [],
   "source": [
    "string1 = \"Hello, World!\"\n",
    "print(string1.replace(\"H\", \"M\"))"
   ]
  },
  {
   "cell_type": "code",
   "execution_count": null,
   "metadata": {},
   "outputs": [],
   "source": [
    "print(string1.replace(\"e\", \"A\"))"
   ]
  },
  {
   "cell_type": "code",
   "execution_count": null,
   "metadata": {},
   "outputs": [],
   "source": [
    "print(string1.split(\",\"))"
   ]
  }
 ],
 "metadata": {
  "kernelspec": {
   "display_name": "Python 3.10.7 64-bit",
   "language": "python",
   "name": "python3"
  },
  "language_info": {
   "name": "python",
   "version": "3.10.7"
  },
  "orig_nbformat": 4,
  "vscode": {
   "interpreter": {
    "hash": "ea928f5d67c4c93314bde902f9925b00b35f33a7a7fd46f2f8b2a0108e4de065"
   }
  }
 },
 "nbformat": 4,
 "nbformat_minor": 2
}
