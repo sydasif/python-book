{
 "cells": [
  {
   "cell_type": "markdown",
   "metadata": {},
   "source": [
    "# Python Numbers\n",
    "\n",
    "Python has three main numeric types, these include integer, float and complex. These types are determined by the value assigned to the variable. Sample code and code snippet are shown below. The code creates three variables named `x`, `y` and `z` which are integer, float and complex numbers respectively."
   ]
  },
  {
   "cell_type": "code",
   "execution_count": 7,
   "metadata": {},
   "outputs": [
    {
     "name": "stdout",
     "output_type": "stream",
     "text": [
      "1\n"
     ]
    }
   ],
   "source": [
    "# integer\n",
    "x = 1\n",
    "print(x)"
   ]
  },
  {
   "cell_type": "code",
   "execution_count": 8,
   "metadata": {},
   "outputs": [
    {
     "name": "stdout",
     "output_type": "stream",
     "text": [
      "1.5\n"
     ]
    }
   ],
   "source": [
    "# float\n",
    "y = 1.5 \n",
    "print(y)"
   ]
  },
  {
   "cell_type": "code",
   "execution_count": 9,
   "metadata": {},
   "outputs": [
    {
     "name": "stdout",
     "output_type": "stream",
     "text": [
      "1j\n"
     ]
    }
   ],
   "source": [
    "# complex\n",
    "z = 1j \n",
    "print(z)"
   ]
  },
  {
   "cell_type": "markdown",
   "metadata": {},
   "source": [
    "## Numeric Data Types and Operators\n",
    "\n",
    "As discussed earlier numeric data types can be integers, float or complex numbers. The main operators in Python which work on Numeric data include multiplication, Division, Subtraction, Addition and modulus. Multiplication is a Python operation that is used to multiply values in the form of numeric data or variables on either side of the operator."
   ]
  },
  {
   "cell_type": "code",
   "execution_count": 10,
   "metadata": {},
   "outputs": [
    {
     "name": "stdout",
     "output_type": "stream",
     "text": [
      "20\n"
     ]
    }
   ],
   "source": [
    "# multiplication\n",
    "x = 4\n",
    "y = 5\n",
    "\n",
    "result = x * y\n",
    "print(result)"
   ]
  },
  {
   "cell_type": "markdown",
   "metadata": {},
   "source": [
    "The division is a Python operation that divides the operand on the left of the operator with the operand on the right hand of the operator. The code below creates two variables of integer type named `x` and `y` and assigns them values of `4` and `5` respectively. The program then creates a variable name `result` and assigns the result of the division of variables `x` and `y`."
   ]
  },
  {
   "cell_type": "code",
   "execution_count": 11,
   "metadata": {},
   "outputs": [
    {
     "name": "stdout",
     "output_type": "stream",
     "text": [
      "0.8\n"
     ]
    }
   ],
   "source": [
    "# division\n",
    "x = 4\n",
    "y = 5\n",
    "\n",
    "result = x / y\n",
    "print(result)"
   ]
  },
  {
   "cell_type": "markdown",
   "metadata": {},
   "source": [
    "Modulus is a Python operator that divides the operator on the left hand of the operator from that on the right-hand side of the operator and brings the reminder. The Python code below creates two variables `x` and `y` and assigns them integer values. The program code then creates a variable name `result` and assigns it the modulus value when `x` is divided by `y` and then prints the value."
   ]
  },
  {
   "cell_type": "code",
   "execution_count": 12,
   "metadata": {},
   "outputs": [
    {
     "name": "stdout",
     "output_type": "stream",
     "text": [
      "1\n"
     ]
    }
   ],
   "source": [
    "# modulus\n",
    "x = 9\n",
    "y = 4\n",
    "\n",
    "result = x % y\n",
    "print(result)"
   ]
  }
 ],
 "metadata": {
  "kernelspec": {
   "display_name": "Python 3.10.7 64-bit",
   "language": "python",
   "name": "python3"
  },
  "language_info": {
   "codemirror_mode": {
    "name": "ipython",
    "version": 3
   },
   "file_extension": ".py",
   "mimetype": "text/x-python",
   "name": "python",
   "nbconvert_exporter": "python",
   "pygments_lexer": "ipython3",
   "version": "3.10.7"
  },
  "orig_nbformat": 4,
  "vscode": {
   "interpreter": {
    "hash": "ea928f5d67c4c93314bde902f9925b00b35f33a7a7fd46f2f8b2a0108e4de065"
   }
  }
 },
 "nbformat": 4,
 "nbformat_minor": 2
}
